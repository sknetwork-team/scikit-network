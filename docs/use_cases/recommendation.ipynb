{
 "cells": [
  {
   "cell_type": "markdown",
   "metadata": {
    "pycharm": {
     "name": "#%% md\n"
    }
   },
   "source": [
    "# Recommendation"
   ]
  },
  {
   "cell_type": "markdown",
   "metadata": {
    "pycharm": {
     "name": "#%% md\n"
    }
   },
   "source": [
    "This notebook shows how to apply [scikit-network](https://scikit-network.readthedocs.io/) for content recommendation.\n",
    "\n",
    "We use consider the [Movielens](https://netset.telecom-paris.fr/pages/movielens.html) dataset of the [netset](https://netset.telecom-paris.fr) collection, corresponding to ratings of 9066 movies by 671 users."
   ]
  },
  {
   "cell_type": "code",
   "execution_count": 23,
   "metadata": {
    "pycharm": {
     "name": "#%%\n"
    }
   },
   "outputs": [],
   "source": [
    "from IPython.display import SVG"
   ]
  },
  {
   "cell_type": "code",
   "execution_count": 24,
   "metadata": {
    "pycharm": {
     "name": "#%%\n"
    }
   },
   "outputs": [],
   "source": [
    "import numpy as np\n",
    "from scipy.cluster.hierarchy import linkage"
   ]
  },
  {
   "cell_type": "code",
   "execution_count": 122,
   "metadata": {
    "pycharm": {
     "name": "#%%\n"
    }
   },
   "outputs": [],
   "source": [
    "from sknetwork.data import load_netset\n",
    "from sknetwork.ranking import PageRank, top_k\n",
    "from sknetwork.embedding import Spectral\n",
    "from sknetwork.utils import get_neighbors\n",
    "from sknetwork.visualization import visualize_dendrogram"
   ]
  },
  {
   "cell_type": "markdown",
   "metadata": {
    "pycharm": {
     "name": "#%% md\n"
    }
   },
   "source": [
    "## Data"
   ]
  },
  {
   "cell_type": "code",
   "execution_count": 26,
   "metadata": {
    "pycharm": {
     "name": "#%%\n"
    }
   },
   "outputs": [
    {
     "name": "stdout",
     "output_type": "stream",
     "text": [
      "Parsing files...\n",
      "Done.\n"
     ]
    }
   ],
   "source": [
    "dataset = load_netset('movielens')"
   ]
  },
  {
   "cell_type": "code",
   "execution_count": 27,
   "metadata": {
    "pycharm": {
     "name": "#%%\n"
    }
   },
   "outputs": [],
   "source": [
    "biadjacency = dataset.biadjacency\n",
    "names = dataset.names\n",
    "labels = dataset.labels\n",
    "names_labels = dataset.names_labels"
   ]
  },
  {
   "cell_type": "code",
   "execution_count": 29,
   "metadata": {
    "pycharm": {
     "name": "#%%\n"
    }
   },
   "outputs": [
    {
     "data": {
      "text/plain": [
       "<9066x671 sparse matrix of type '<class 'numpy.float64'>'\n",
       "\twith 100004 stored elements in Compressed Sparse Row format>"
      ]
     },
     "execution_count": 29,
     "metadata": {},
     "output_type": "execute_result"
    }
   ],
   "source": [
    "biadjacency"
   ]
  },
  {
   "cell_type": "code",
   "execution_count": 35,
   "metadata": {
    "pycharm": {
     "name": "#%%\n"
    }
   },
   "outputs": [],
   "source": [
    "n_movies, n_users = biadjacency.shape"
   ]
  },
  {
   "cell_type": "code",
   "execution_count": 30,
   "metadata": {
    "pycharm": {
     "name": "#%%\n"
    }
   },
   "outputs": [
    {
     "data": {
      "text/plain": [
       "(array([0.5, 1. , 1.5, 2. , 2.5, 3. , 3.5, 4. , 4.5, 5. ]),\n",
       " array([ 1101,  3326,  1687,  7271,  4449, 20064, 10538, 28750,  7723,\n",
       "        15095]))"
      ]
     },
     "execution_count": 30,
     "metadata": {},
     "output_type": "execute_result"
    }
   ],
   "source": [
    "# ratings\n",
    "np.unique(biadjacency.data, return_counts=True)"
   ]
  },
  {
   "cell_type": "code",
   "execution_count": 33,
   "metadata": {
    "pycharm": {
     "name": "#%%\n"
    }
   },
   "outputs": [],
   "source": [
    "# positive ratings\n",
    "positive = biadjacency >= 3"
   ]
  },
  {
   "cell_type": "code",
   "execution_count": 34,
   "metadata": {
    "pycharm": {
     "name": "#%%\n"
    }
   },
   "outputs": [
    {
     "data": {
      "text/plain": [
       "<9066x671 sparse matrix of type '<class 'numpy.bool_'>'\n",
       "\twith 82170 stored elements in Compressed Sparse Row format>"
      ]
     },
     "execution_count": 34,
     "metadata": {},
     "output_type": "execute_result"
    }
   ],
   "source": [
    "positive"
   ]
  },
  {
   "cell_type": "code",
   "execution_count": 28,
   "metadata": {
    "pycharm": {
     "name": "#%%\n"
    }
   },
   "outputs": [
    {
     "data": {
      "text/plain": [
       "array(['Action', 'Adventure', 'Animation', 'Children', 'Comedy', 'Crime',\n",
       "       'Documentary', 'Drama', 'Fantasy', 'Film-Noir', 'Horror', 'IMAX',\n",
       "       'Musical', 'Mystery', 'Romance', 'Sci-Fi', 'Thriller', 'War',\n",
       "       'Western'], dtype='<U11')"
      ]
     },
     "execution_count": 28,
     "metadata": {},
     "output_type": "execute_result"
    }
   ],
   "source": [
    "names_labels"
   ]
  },
  {
   "cell_type": "code",
   "execution_count": 38,
   "metadata": {
    "pycharm": {
     "name": "#%%\n"
    }
   },
   "outputs": [
    {
     "data": {
      "text/plain": [
       "(9066, 19)"
      ]
     },
     "execution_count": 38,
     "metadata": {},
     "output_type": "execute_result"
    }
   ],
   "source": [
    "labels.shape"
   ]
  },
  {
   "cell_type": "markdown",
   "metadata": {
    "pycharm": {
     "name": "#%% md\n"
    }
   },
   "source": [
    "## PageRank\n",
    "\n",
    "We first use (personalized) PageRank to get the most popular movies of each category."
   ]
  },
  {
   "cell_type": "code",
   "execution_count": 19,
   "metadata": {
    "pycharm": {
     "name": "#%%\n"
    }
   },
   "outputs": [],
   "source": [
    "pagerank = PageRank()"
   ]
  },
  {
   "cell_type": "code",
   "execution_count": 52,
   "metadata": {
    "pycharm": {
     "name": "#%%\n"
    }
   },
   "outputs": [
    {
     "data": {
      "text/plain": [
       "array(['Forrest Gump (1994)', 'Pulp Fiction (1994)',\n",
       "       'Shawshank Redemption, The (1994)',\n",
       "       'Silence of the Lambs, The (1991)',\n",
       "       'Star Wars: Episode IV - A New Hope (1977)', 'Matrix, The (1999)',\n",
       "       'Jurassic Park (1993)', \"Schindler's List (1993)\",\n",
       "       'Back to the Future (1985)',\n",
       "       'Star Wars: Episode V - The Empire Strikes Back (1980)'],\n",
       "      dtype=object)"
      ]
     },
     "execution_count": 52,
     "metadata": {},
     "output_type": "execute_result"
    }
   ],
   "source": [
    "# top-10 movies\n",
    "scores = pagerank.fit_predict(positive)\n",
    "names[top_k(scores, 10)]"
   ]
  },
  {
   "cell_type": "code",
   "execution_count": 40,
   "metadata": {
    "pycharm": {
     "name": "#%%\n"
    }
   },
   "outputs": [],
   "source": [
    "# number of movies per genre\n",
    "n_selection = 10"
   ]
  },
  {
   "cell_type": "code",
   "execution_count": 41,
   "metadata": {
    "pycharm": {
     "name": "#%%\n"
    }
   },
   "outputs": [],
   "source": [
    "# selection\n",
    "selection = []\n",
    "for label in np.arange(len(names_labels)):\n",
    "    ppr = pagerank.fit_predict(positive, weights=labels[:, label])\n",
    "    scores = ppr * labels[:, label]\n",
    "    selection.append(top_k(scores, n_selection))\n",
    "selection = np.array(selection)"
   ]
  },
  {
   "cell_type": "code",
   "execution_count": 43,
   "metadata": {
    "pycharm": {
     "name": "#%%\n"
    }
   },
   "outputs": [
    {
     "name": "stdout",
     "output_type": "stream",
     "text": [
      "---\n",
      "0 Action\n",
      "['Star Wars: Episode IV - A New Hope (1977)' 'Matrix, The (1999)'\n",
      " 'Jurassic Park (1993)'\n",
      " 'Star Wars: Episode V - The Empire Strikes Back (1980)'\n",
      " 'Terminator 2: Judgment Day (1991)']\n",
      "---\n",
      "1 Adventure\n",
      "['Star Wars: Episode IV - A New Hope (1977)' 'Jurassic Park (1993)'\n",
      " 'Star Wars: Episode V - The Empire Strikes Back (1980)'\n",
      " 'Back to the Future (1985)' 'Toy Story (1995)']\n",
      "---\n",
      "2 Animation\n",
      "['Gnomeo & Juliet (2011)' 'Hop (2011)'\n",
      " \"Lion King II: Simba's Pride, The (1998)\" 'Mars Needs Moms (2011)'\n",
      " 'Once Upon a Forest (1993)']\n",
      "---\n",
      "3 Children\n",
      "['Spy Kids 3-D: Game Over (2003)' 'Race to Witch Mountain (2009)'\n",
      " 'G-Force (2009)' 'Prancer (1989)' 'Diary of a Wimpy Kid (2010)']\n",
      "---\n",
      "4 Comedy\n",
      "['Forrest Gump (1994)' 'Pulp Fiction (1994)' 'Back to the Future (1985)'\n",
      " 'Toy Story (1995)' 'Fargo (1996)']\n",
      "---\n",
      "5 Crime\n",
      "['Pulp Fiction (1994)' 'Shawshank Redemption, The (1994)'\n",
      " 'Silence of the Lambs, The (1991)' 'Fargo (1996)' 'Godfather, The (1972)']\n",
      "---\n",
      "6 Documentary\n",
      "['Queen of Versailles, The (2012)' 'Powaqqatsi (1988)'\n",
      " 'Fragile Trust: Plagiarism, Power, and Jayson Blair at the New York Times, A (2013)'\n",
      " 'African Cats (2011)' 'Eddie Murphy Delirious (1983)']\n",
      "---\n",
      "7 Drama\n",
      "['Pulp Fiction (1994)' 'Forrest Gump (1994)'\n",
      " 'Shawshank Redemption, The (1994)' \"Schindler's List (1993)\"\n",
      " 'American Beauty (1999)']\n",
      "---\n",
      "8 Fantasy\n",
      "['The Pumaman (1980)'\n",
      " 'Golem, The (Golem, wie er in die Welt kam, Der) (1920)'\n",
      " 'Twilight Saga: New Moon, The (2009)'\n",
      " 'Highlander: Endgame (Highlander IV) (2000)'\n",
      " 'Ghost Rider: Spirit of Vengeance (2012)']\n",
      "---\n",
      "9 Film-Noir\n",
      "['No Way Out (1950)' 'Johnny Eager (1942)'\n",
      " 'Lady from Shanghai, The (1947)' 'This World, Then the Fireworks (1997)'\n",
      " 'T-Men (1947)']\n",
      "---\n",
      "10 Horror\n",
      "['Silence of the Lambs, The (1991)' 'Carnosaur 3: Primal Species (1996)'\n",
      " \"Devil's Chair, The (2006)\" 'AVPR: Aliens vs. Predator - Requiem (2007)'\n",
      " 'Jason Goes to Hell: The Final Friday (1993)']\n",
      "---\n",
      "11 IMAX\n",
      "[\"Madagascar 3: Europe's Most Wanted (2012)\" 'Final Destination 5 (2011)'\n",
      " 'Jack the Giant Slayer (2013)' \"Dr. Seuss' The Lorax (2012)\"\n",
      " 'After Earth (2013)']\n",
      "---\n",
      "12 Musical\n",
      "['Gypsy (1993)' \"Breakin' (1984)\" \"Breakin' 2: Electric Boogaloo (1984)\"\n",
      " 'True Stories (1986)' 'Camp Rock (2008)']\n",
      "---\n",
      "13 Mystery\n",
      "['Double, The (2011)' 'In the Electric Mist (2009)'\n",
      " 'Spirits of the Dead (1968)' 'Nomads (1986)'\n",
      " 'Fast and the Furious, The (1955)']\n",
      "---\n",
      "14 Romance\n",
      "['Forrest Gump (1994)' 'American Beauty (1999)'\n",
      " 'Princess Bride, The (1987)' 'Beauty and the Beast (1991)'\n",
      " 'Good Will Hunting (1997)']\n",
      "---\n",
      "15 Sci-Fi\n",
      "['Star Wars: Episode IV - A New Hope (1977)' 'Matrix, The (1999)'\n",
      " 'Star Wars: Episode V - The Empire Strikes Back (1980)'\n",
      " 'Jurassic Park (1993)' 'Back to the Future (1985)']\n",
      "---\n",
      "16 Thriller\n",
      "['Pulp Fiction (1994)' 'Silence of the Lambs, The (1991)'\n",
      " 'Matrix, The (1999)' 'Jurassic Park (1993)' 'Fargo (1996)']\n",
      "---\n",
      "17 War\n",
      "['Pathfinder (2007)' 'Green Berets, The (1968)'\n",
      " 'They Were Expendable (1945)' 'Legionnaire (1998)' 'Iron Eagle II (1988)']\n",
      "---\n",
      "18 Western\n",
      "['Bandidas (2006)' \"'Neath the Arizona Skies (1934)\"\n",
      " 'American Outlaws (2001)' 'The Missouri Breaks (1976)'\n",
      " 'Stagecoach (1966)']\n"
     ]
    }
   ],
   "source": [
    "# show selection (some movies may have several genres)\n",
    "for label, name_label in enumerate(names_labels):\n",
    "    print('---')\n",
    "    print(label, name_label)\n",
    "    print(names[selection[label, :5]])"
   ]
  },
  {
   "cell_type": "markdown",
   "metadata": {
    "pycharm": {
     "name": "#%% md\n"
    }
   },
   "source": [
    "We now apply PageRank to get the most relevant movies associated with a given movie."
   ]
  },
  {
   "cell_type": "code",
   "execution_count": 77,
   "metadata": {
    "pycharm": {
     "name": "#%%\n"
    }
   },
   "outputs": [],
   "source": [
    "target = {i: name for i, name in enumerate(names) if 'Cherbourg' in name}"
   ]
  },
  {
   "cell_type": "code",
   "execution_count": 78,
   "metadata": {
    "pycharm": {
     "name": "#%%\n"
    }
   },
   "outputs": [
    {
     "data": {
      "text/plain": [
       "{175: 'Umbrellas of Cherbourg, The (Parapluies de Cherbourg, Les) (1964)'}"
      ]
     },
     "execution_count": 78,
     "metadata": {},
     "output_type": "execute_result"
    }
   ],
   "source": [
    "target"
   ]
  },
  {
   "cell_type": "code",
   "execution_count": 81,
   "metadata": {
    "pycharm": {
     "name": "#%%\n"
    }
   },
   "outputs": [],
   "source": [
    "scores_ppr = pagerank.fit_predict(positive, weights={175:1})"
   ]
  },
  {
   "cell_type": "code",
   "execution_count": 82,
   "metadata": {
    "pycharm": {
     "name": "#%%\n"
    }
   },
   "outputs": [
    {
     "data": {
      "text/plain": [
       "array(['Umbrellas of Cherbourg, The (Parapluies de Cherbourg, Les) (1964)',\n",
       "       'Three Colors: White (Trzy kolory: Bialy) (1994)',\n",
       "       'Wings of Desire (Himmel über Berlin, Der) (1987)',\n",
       "       'Three Colors: Red (Trois couleurs: Rouge) (1994)',\n",
       "       'Like Water for Chocolate (Como agua para chocolate) (1992)',\n",
       "       'Piano, The (1993)', 'L.A. Confidential (1997)', 'Fargo (1996)',\n",
       "       'Beauty of the Day (Belle de jour) (1967)',\n",
       "       'Boot, Das (Boat, The) (1981)'], dtype=object)"
      ]
     },
     "execution_count": 82,
     "metadata": {},
     "output_type": "execute_result"
    }
   ],
   "source": [
    "names[top_k(scores_ppr - scores, 10)]"
   ]
  },
  {
   "cell_type": "markdown",
   "metadata": {
    "pycharm": {
     "name": "#%% md\n"
    }
   },
   "source": [
    "We can also apply PageRank to make recommend movies to a user."
   ]
  },
  {
   "cell_type": "code",
   "execution_count": 125,
   "metadata": {
    "pycharm": {
     "name": "#%%\n"
    },
    "scrolled": true
   },
   "outputs": [],
   "source": [
    "user = 1\n",
    "targets = get_neighbors(positive, user, transpose=True)"
   ]
  },
  {
   "cell_type": "code",
   "execution_count": 126,
   "metadata": {
    "pycharm": {
     "name": "#%%\n"
    }
   },
   "outputs": [
    {
     "data": {
      "text/plain": [
       "array(['GoldenEye (1995)', 'Sense and Sensibility (1995)',\n",
       "       'Clueless (1995)', 'Seven (a.k.a. Se7en) (1995)',\n",
       "       'Usual Suspects, The (1995)', 'Mighty Aphrodite (1995)',\n",
       "       \"Mr. Holland's Opus (1995)\", 'Braveheart (1995)',\n",
       "       'Brothers McMullen, The (1995)', 'Apollo 13 (1995)'], dtype=object)"
      ]
     },
     "execution_count": 126,
     "metadata": {},
     "output_type": "execute_result"
    }
   ],
   "source": [
    "# seen movies (sample)\n",
    "names[targets][:10]"
   ]
  },
  {
   "cell_type": "code",
   "execution_count": 134,
   "metadata": {
    "pycharm": {
     "name": "#%%\n"
    }
   },
   "outputs": [],
   "source": [
    "mask = np.zeros(len(names), dtype=bool)\n",
    "mask[targets] = 1"
   ]
  },
  {
   "cell_type": "code",
   "execution_count": 135,
   "metadata": {
    "pycharm": {
     "name": "#%%\n"
    }
   },
   "outputs": [],
   "source": [
    "scores_ppr = pagerank.fit_predict(positive, weights=mask)"
   ]
  },
  {
   "cell_type": "code",
   "execution_count": 136,
   "metadata": {
    "pycharm": {
     "name": "#%%\n"
    }
   },
   "outputs": [
    {
     "data": {
      "text/plain": [
       "array(['Shawshank Redemption, The (1994)', 'True Lies (1994)',\n",
       "       'Star Wars: Episode IV - A New Hope (1977)',\n",
       "       'Beauty and the Beast (1991)', 'Toy Story (1995)',\n",
       "       'Twelve Monkeys (a.k.a. 12 Monkeys) (1995)', 'Fargo (1996)',\n",
       "       'Independence Day (a.k.a. ID4) (1996)', 'Matrix, The (1999)',\n",
       "       'Star Wars: Episode V - The Empire Strikes Back (1980)'],\n",
       "      dtype=object)"
      ]
     },
     "execution_count": 136,
     "metadata": {},
     "output_type": "execute_result"
    }
   ],
   "source": [
    "# top-10 recommendation\n",
    "names[top_k((scores_ppr - scores) * (1 - mask), 10)]"
   ]
  },
  {
   "cell_type": "markdown",
   "metadata": {
    "pycharm": {
     "name": "#%% md\n"
    }
   },
   "source": [
    "## Embedding"
   ]
  },
  {
   "cell_type": "markdown",
   "metadata": {
    "pycharm": {
     "name": "#%% md\n"
    }
   },
   "source": [
    "We now represent each movie by a vector in low dimension, and use hierarchical clustering to visualize the structure of this embedding for top-100 movies."
   ]
  },
  {
   "cell_type": "code",
   "execution_count": 137,
   "metadata": {
    "pycharm": {
     "name": "#%%\n"
    }
   },
   "outputs": [],
   "source": [
    "# embedding\n",
    "spectral = Spectral(10)\n",
    "embedding = spectral.fit_transform(positive)"
   ]
  },
  {
   "cell_type": "code",
   "execution_count": 146,
   "metadata": {
    "pycharm": {
     "name": "#%%\n"
    }
   },
   "outputs": [],
   "source": [
    "# top-100 movies\n",
    "scores = pagerank.fit_predict(positive)\n",
    "index = top_k(scores, 100)\n",
    "dendrogram = linkage(embedding[index], method='ward')"
   ]
  },
  {
   "cell_type": "code",
   "execution_count": 149,
   "metadata": {
    "pycharm": {
     "name": "#%%\n"
    }
   },
   "outputs": [
    {
     "data": {
      "image/svg+xml": [
       "<svg xmlns=\"http://www.w3.org/2000/svg\" width=\"693.0\" height=\"1020\"><text x=\"215\" y=\"103.33333333333333\" font-size=\"12\">Forrest Gump (1994)</text><text x=\"215\" y=\"63.333333333333336\" font-size=\"12\">Pulp Fiction (1994)</text><text x=\"215\" y=\"13.333333333333334\" font-size=\"12\">Shawshank Redemption, The (1994)</text><text x=\"215\" y=\"53.333333333333336\" font-size=\"12\">Silence of the Lambs, The (1991)</text><text x=\"215\" y=\"363.3333333333333\" font-size=\"12\">Star Wars: Episode IV - A New Hope (1977)</text><text x=\"215\" y=\"893.3333333333334\" font-size=\"12\">Matrix, The (1999)</text><text x=\"215\" y=\"113.33333333333333\" font-size=\"12\">Jurassic Park (1993)</text><text x=\"215\" y=\"23.333333333333332\" font-size=\"12\">Schindler's List (1993)</text><text x=\"215\" y=\"903.3333333333334\" font-size=\"12\">Back to the Future (1985)</text><text x=\"215\" y=\"963.3333333333334\" font-size=\"12\">Star Wars: Episode V - The Empire Strikes Back (1980)</text><text x=\"215\" y=\"373.3333333333333\" font-size=\"12\">Toy Story (1995)</text><text x=\"215\" y=\"483.3333333333333\" font-size=\"12\">American Beauty (1999)</text><text x=\"215\" y=\"83.33333333333333\" font-size=\"12\">Terminator 2: Judgment Day (1991)</text><text x=\"215\" y=\"343.3333333333333\" font-size=\"12\">Fargo (1996)</text><text x=\"215\" y=\"973.3333333333334\" font-size=\"12\">Raiders of the Lost Ark (Indiana Jones and the Raiders of the Lost Ark) (1981)</text><text x=\"215\" y=\"843.3333333333334\" font-size=\"12\">Star Wars: Episode VI - Return of the Jedi (1983)</text><text x=\"215\" y=\"503.3333333333333\" font-size=\"12\">Godfather, The (1972)</text><text x=\"215\" y=\"93.33333333333333\" font-size=\"12\">Braveheart (1995)</text><text x=\"215\" y=\"593.3333333333334\" font-size=\"12\">Fight Club (1999)</text><text x=\"215\" y=\"143.33333333333334\" font-size=\"12\">Fugitive, The (1993)</text><text x=\"215\" y=\"33.333333333333336\" font-size=\"12\">Usual Suspects, The (1995)</text><text x=\"215\" y=\"703.3333333333334\" font-size=\"12\">Lord of the Rings: The Fellowship of the Ring, The (2001)</text><text x=\"215\" y=\"173.33333333333334\" font-size=\"12\">Aladdin (1992)</text><text x=\"215\" y=\"993.3333333333334\" font-size=\"12\">Sixth Sense, The (1999)</text><text x=\"215\" y=\"73.33333333333333\" font-size=\"12\">Seven (a.k.a. Se7en) (1995)</text><text x=\"215\" y=\"283.3333333333333\" font-size=\"12\">Twelve Monkeys (a.k.a. 12 Monkeys) (1995)</text><text x=\"215\" y=\"133.33333333333334\" font-size=\"12\">Apollo 13 (1995)</text><text x=\"215\" y=\"953.3333333333334\" font-size=\"12\">Saving Private Ryan (1998)</text><text x=\"215\" y=\"213.33333333333334\" font-size=\"12\">Lion King, The (1994)</text><text x=\"215\" y=\"713.3333333333334\" font-size=\"12\">Lord of the Rings: The Two Towers, The (2002)</text><text x=\"215\" y=\"303.3333333333333\" font-size=\"12\">Independence Day (a.k.a. ID4) (1996)</text><text x=\"215\" y=\"853.3333333333334\" font-size=\"12\">Men in Black (a.k.a. MIB) (1997)</text><text x=\"215\" y=\"153.33333333333334\" font-size=\"12\">Dances with Wolves (1990)</text><text x=\"215\" y=\"693.3333333333334\" font-size=\"12\">Lord of the Rings: The Return of the King, The (2003)</text><text x=\"215\" y=\"233.33333333333334\" font-size=\"12\">Batman (1989)</text><text x=\"215\" y=\"923.3333333333334\" font-size=\"12\">Princess Bride, The (1987)</text><text x=\"215\" y=\"733.3333333333334\" font-size=\"12\">Shrek (2001)</text><text x=\"215\" y=\"683.3333333333334\" font-size=\"12\">Good Will Hunting (1997)</text><text x=\"215\" y=\"263.3333333333333\" font-size=\"12\">True Lies (1994)</text><text x=\"215\" y=\"253.33333333333334\" font-size=\"12\">Beauty and the Beast (1991)</text><text x=\"215\" y=\"783.3333333333334\" font-size=\"12\">Terminator, The (1984)</text><text x=\"215\" y=\"983.3333333333334\" font-size=\"12\">Gladiator (2000)</text><text x=\"215\" y=\"933.3333333333334\" font-size=\"12\">Groundhog Day (1993)</text><text x=\"215\" y=\"803.3333333333334\" font-size=\"12\">E.T. the Extra-Terrestrial (1982)</text><text x=\"215\" y=\"183.33333333333334\" font-size=\"12\">Speed (1994)</text><text x=\"215\" y=\"473.3333333333333\" font-size=\"12\">Monty Python and the Holy Grail (1975)</text><text x=\"215\" y=\"463.3333333333333\" font-size=\"12\">Blade Runner (1982)</text><text x=\"215\" y=\"523.3333333333334\" font-size=\"12\">One Flew Over the Cuckoo's Nest (1975)</text><text x=\"215\" y=\"323.3333333333333\" font-size=\"12\">Mission: Impossible (1996)</text><text x=\"215\" y=\"883.3333333333334\" font-size=\"12\">Die Hard (1988)</text><text x=\"215\" y=\"943.3333333333334\" font-size=\"12\">Indiana Jones and the Last Crusade (1989)</text><text x=\"215\" y=\"823.3333333333334\" font-size=\"12\">Ghostbusters (a.k.a. Ghost Busters) (1984)</text><text x=\"215\" y=\"743.3333333333334\" font-size=\"12\">Truman Show, The (1998)</text><text x=\"215\" y=\"603.3333333333334\" font-size=\"12\">Memento (2000)</text><text x=\"215\" y=\"663.3333333333334\" font-size=\"12\">Pirates of the Caribbean: The Curse of the Black Pearl (2003)</text><text x=\"215\" y=\"533.3333333333334\" font-size=\"12\">Godfather: Part II, The (1974)</text><text x=\"215\" y=\"543.3333333333334\" font-size=\"12\">Goodfellas (1990)</text><text x=\"215\" y=\"293.3333333333333\" font-size=\"12\">Willy Wonka   the Chocolate Factory (1971)</text><text x=\"215\" y=\"433.3333333333333\" font-size=\"12\">Reservoir Dogs (1992)</text><text x=\"215\" y=\"723.3333333333334\" font-size=\"12\">Ocean's Eleven (2001)</text><text x=\"215\" y=\"673.3333333333334\" font-size=\"12\">Monsters, Inc. (2001)</text><text x=\"215\" y=\"43.333333333333336\" font-size=\"12\">Léon: The Professional (a.k.a. The Professional) (Léon) (1994)</text><text x=\"215\" y=\"573.3333333333334\" font-size=\"12\">Amelie (Fabuleux destin d'Amélie Poulain, Le) (2001)</text><text x=\"215\" y=\"403.3333333333333\" font-size=\"12\">L.A. Confidential (1997)</text><text x=\"215\" y=\"193.33333333333334\" font-size=\"12\">Mrs. Doubtfire (1993)</text><text x=\"215\" y=\"1003.3333333333334\" font-size=\"12\">Ferris Bueller's Day Off (1986)</text><text x=\"215\" y=\"353.3333333333333\" font-size=\"12\">Trainspotting (1996)</text><text x=\"215\" y=\"613.3333333333334\" font-size=\"12\">Dark Knight, The (2008)</text><text x=\"215\" y=\"643.3333333333334\" font-size=\"12\">Incredibles, The (2004)</text><text x=\"215\" y=\"833.3333333333334\" font-size=\"12\">Alien (1979)</text><text x=\"215\" y=\"423.3333333333333\" font-size=\"12\">Clockwork Orange, A (1971)</text><text x=\"215\" y=\"123.33333333333333\" font-size=\"12\">Babe (1995)</text><text x=\"215\" y=\"763.3333333333334\" font-size=\"12\">Spider-Man (2002)</text><text x=\"215\" y=\"453.3333333333333\" font-size=\"12\">Being John Malkovich (1999)</text><text x=\"215\" y=\"513.3333333333334\" font-size=\"12\">Taxi Driver (1976)</text><text x=\"215\" y=\"863.3333333333334\" font-size=\"12\">Titanic (1997)</text><text x=\"215\" y=\"163.33333333333334\" font-size=\"12\">Pretty Woman (1990)</text><text x=\"215\" y=\"653.3333333333334\" font-size=\"12\">Finding Nemo (2003)</text><text x=\"215\" y=\"913.3333333333334\" font-size=\"12\">Rain Man (1988)</text><text x=\"215\" y=\"313.3333333333333\" font-size=\"12\">Rock, The (1996)</text><text x=\"215\" y=\"443.3333333333333\" font-size=\"12\">Big Lebowski, The (1998)</text><text x=\"215\" y=\"413.3333333333333\" font-size=\"12\">Casablanca (1942)</text><text x=\"215\" y=\"873.3333333333334\" font-size=\"12\">Toy Story 2 (1999)</text><text x=\"215\" y=\"383.3333333333333\" font-size=\"12\">Shakespeare in Love (1998)</text><text x=\"215\" y=\"633.3333333333334\" font-size=\"12\">Beautiful Mind, A (2001)</text><text x=\"215\" y=\"813.3333333333334\" font-size=\"12\">Breakfast Club, The (1985)</text><text x=\"215\" y=\"273.3333333333333\" font-size=\"12\">Die Hard: With a Vengeance (1995)</text><text x=\"215\" y=\"793.3333333333334\" font-size=\"12\">Aliens (1986)</text><text x=\"215\" y=\"553.3333333333334\" font-size=\"12\">2001: A Space Odyssey (1968)</text><text x=\"215\" y=\"393.3333333333333\" font-size=\"12\">Wizard of Oz, The (1939)</text><text x=\"215\" y=\"563.3333333333334\" font-size=\"12\">Apocalypse Now (1979)</text><text x=\"215\" y=\"623.3333333333334\" font-size=\"12\">Inception (2010)</text><text x=\"215\" y=\"773.3333333333334\" font-size=\"12\">X-Men (2000)</text><text x=\"215\" y=\"493.3333333333333\" font-size=\"12\">Crouching Tiger, Hidden Dragon (Wo hu cang long) (2000)</text><text x=\"215\" y=\"583.3333333333334\" font-size=\"12\">Eternal Sunshine of the Spotless Mind (2004)</text><text x=\"215\" y=\"203.33333333333334\" font-size=\"12\">Mask, The (1994)</text><text x=\"215\" y=\"243.33333333333334\" font-size=\"12\">Stargate (1994)</text><text x=\"215\" y=\"333.3333333333333\" font-size=\"12\">Twister (1996)</text><text x=\"215\" y=\"753.3333333333334\" font-size=\"12\">Fifth Element, The (1997)</text><text x=\"215\" y=\"223.33333333333334\" font-size=\"12\">Dumb   Dumber (Dumb and Dumber) (1994)</text><path stroke-width=\"2\" stroke=\"orange\" d=\"M 210 640.0 208.17867503383073 640.0\"/><path stroke-width=\"2\" stroke=\"orange\" d=\"M 210 650.0 208.17867503383073 650.0\"/><path stroke-width=\"2\" stroke=\"orange\" d=\"M 208.17867503383073 640.0 208.17867503383073 650.0\"/><path stroke-width=\"2\" stroke=\"red\" d=\"M 210 170.0 207.82796814643544 170.0\"/><path stroke-width=\"2\" stroke=\"red\" d=\"M 210 180.0 207.82796814643544 180.0\"/><path stroke-width=\"2\" stroke=\"red\" d=\"M 207.82796814643544 170.0 207.82796814643544 180.0\"/><path stroke-width=\"2\" stroke=\"orange\" d=\"M 210 700.0 207.69272036873966 700.0\"/><path stroke-width=\"2\" stroke=\"orange\" d=\"M 210 710.0 207.69272036873966 710.0\"/><path stroke-width=\"2\" stroke=\"orange\" d=\"M 207.69272036873966 700.0 207.69272036873966 710.0\"/><path stroke-width=\"2\" stroke=\"red\" d=\"M 210 190.0 207.26767296219404 190.0\"/><path stroke-width=\"2\" stroke=\"red\" d=\"M 210 200.0 207.26767296219404 200.0\"/><path stroke-width=\"2\" stroke=\"red\" d=\"M 207.26767296219404 190.0 207.26767296219404 200.0\"/><path stroke-width=\"2\" stroke=\"red\" d=\"M 210 260.0 207.21233622473554 260.0\"/><path stroke-width=\"2\" stroke=\"red\" d=\"M 210 270.0 207.21233622473554 270.0\"/><path stroke-width=\"2\" stroke=\"red\" d=\"M 207.21233622473554 260.0 207.21233622473554 270.0\"/><path stroke-width=\"2\" stroke=\"orange\" d=\"M 210 660.0 207.18584052567633 660.0\"/><path stroke-width=\"2\" stroke=\"orange\" d=\"M 210 670.0 207.18584052567633 670.0\"/><path stroke-width=\"2\" stroke=\"orange\" d=\"M 207.18584052567633 660.0 207.18584052567633 670.0\"/><path stroke-width=\"2\" stroke=\"red\" d=\"M 210 140.0 206.9889858207959 140.0\"/><path stroke-width=\"2\" stroke=\"red\" d=\"M 210 150.0 206.9889858207959 150.0\"/><path stroke-width=\"2\" stroke=\"red\" d=\"M 206.9889858207959 140.0 206.9889858207959 150.0\"/><path stroke-width=\"2\" stroke=\"red\" d=\"M 210 130.0 206.8301173240444 130.0\"/><path stroke-width=\"2\" stroke=\"red\" d=\"M 206.9889858207959 145.0 206.8301173240444 145.0\"/><path stroke-width=\"2\" stroke=\"red\" d=\"M 206.8301173240444 130.0 206.8301173240444 145.0\"/><path stroke-width=\"2\" stroke=\"purple\" d=\"M 210 300.0 206.79458890346174 300.0\"/><path stroke-width=\"2\" stroke=\"purple\" d=\"M 210 310.0 206.79458890346174 310.0\"/><path stroke-width=\"2\" stroke=\"purple\" d=\"M 206.79458890346174 300.0 206.79458890346174 310.0\"/><path stroke-width=\"2\" stroke=\"red\" d=\"M 210 230.0 206.76702940326663 230.0\"/><path stroke-width=\"2\" stroke=\"red\" d=\"M 210 240.0 206.76702940326663 240.0\"/><path stroke-width=\"2\" stroke=\"red\" d=\"M 206.76702940326663 230.0 206.76702940326663 240.0\"/><path stroke-width=\"2\" stroke=\"blue\" d=\"M 210 960.0 206.63466653858754 960.0\"/><path stroke-width=\"2\" stroke=\"blue\" d=\"M 210 970.0 206.63466653858754 970.0\"/><path stroke-width=\"2\" stroke=\"blue\" d=\"M 206.63466653858754 960.0 206.63466653858754 970.0\"/><path stroke-width=\"2\" stroke=\"orange\" d=\"M 210 690.0 206.22481517954466 690.0\"/><path stroke-width=\"2\" stroke=\"orange\" d=\"M 207.69272036873966 705.0 206.22481517954466 705.0\"/><path stroke-width=\"2\" stroke=\"orange\" d=\"M 206.22481517954466 690.0 206.22481517954466 705.0\"/><path stroke-width=\"2\" stroke=\"red\" d=\"M 210 250.0 206.02561817557844 250.0\"/><path stroke-width=\"2\" stroke=\"red\" d=\"M 207.21233622473554 265.0 206.02561817557844 265.0\"/><path stroke-width=\"2\" stroke=\"red\" d=\"M 206.02561817557844 250.0 206.02561817557844 265.0\"/><path stroke-width=\"2\" stroke=\"purple\" d=\"M 210 320.0 205.98394329615826 320.0\"/><path stroke-width=\"2\" stroke=\"purple\" d=\"M 210 330.0 205.98394329615826 330.0\"/><path stroke-width=\"2\" stroke=\"purple\" d=\"M 205.98394329615826 320.0 205.98394329615826 330.0\"/><path stroke-width=\"2\" stroke=\"red\" d=\"M 210 210.0 205.8979533624256 210.0\"/><path stroke-width=\"2\" stroke=\"red\" d=\"M 210 220.0 205.8979533624256 220.0\"/><path stroke-width=\"2\" stroke=\"red\" d=\"M 205.8979533624256 210.0 205.8979533624256 220.0\"/><path stroke-width=\"2\" stroke=\"blue\" d=\"M 210 780.0 205.6238389875504 780.0\"/><path stroke-width=\"2\" stroke=\"blue\" d=\"M 210 790.0 205.6238389875504 790.0\"/><path stroke-width=\"2\" stroke=\"blue\" d=\"M 205.6238389875504 780.0 205.6238389875504 790.0\"/><path stroke-width=\"2\" stroke=\"blue\" d=\"M 210 950.0 205.44252815080435 950.0\"/><path stroke-width=\"2\" stroke=\"blue\" d=\"M 206.63466653858754 965.0 205.44252815080435 965.0\"/><path stroke-width=\"2\" stroke=\"blue\" d=\"M 205.44252815080435 950.0 205.44252815080435 965.0\"/><path stroke-width=\"2\" stroke=\"green\" d=\"M 210 520.0 205.36745427319528 520.0\"/><path stroke-width=\"2\" stroke=\"green\" d=\"M 210 530.0 205.36745427319528 530.0\"/><path stroke-width=\"2\" stroke=\"green\" d=\"M 205.36745427319528 520.0 205.36745427319528 530.0\"/><path stroke-width=\"2\" stroke=\"orange\" d=\"M 208.17867503383073 645.0 205.13979772914266 645.0\"/><path stroke-width=\"2\" stroke=\"orange\" d=\"M 207.18584052567633 665.0 205.13979772914266 665.0\"/><path stroke-width=\"2\" stroke=\"orange\" d=\"M 205.13979772914266 645.0 205.13979772914266 665.0\"/><path stroke-width=\"2\" stroke=\"red\" d=\"M 210 160.0 205.09750961291934 160.0\"/><path stroke-width=\"2\" stroke=\"red\" d=\"M 207.82796814643544 175.0 205.09750961291934 175.0\"/><path stroke-width=\"2\" stroke=\"red\" d=\"M 205.09750961291934 160.0 205.09750961291934 175.0\"/><path stroke-width=\"2\" stroke=\"red\" d=\"M 207.26767296219404 195.0 205.0838612449265 195.0\"/><path stroke-width=\"2\" stroke=\"red\" d=\"M 205.8979533624256 215.0 205.0838612449265 215.0\"/><path stroke-width=\"2\" stroke=\"red\" d=\"M 205.0838612449265 195.0 205.0838612449265 215.0\"/><path stroke-width=\"2\" stroke=\"orange\" d=\"M 210 730.0 205.02311156969606 730.0\"/><path stroke-width=\"2\" stroke=\"orange\" d=\"M 210 740.0 205.02311156969606 740.0\"/><path stroke-width=\"2\" stroke=\"orange\" d=\"M 205.02311156969606 730.0 205.02311156969606 740.0\"/><path stroke-width=\"2\" stroke=\"blue\" d=\"M 210 990.0 204.66188530564168 990.0\"/><path stroke-width=\"2\" stroke=\"blue\" d=\"M 210 1000.0 204.66188530564168 1000.0\"/><path stroke-width=\"2\" stroke=\"blue\" d=\"M 204.66188530564168 990.0 204.66188530564168 1000.0\"/><path stroke-width=\"2\" stroke=\"green\" d=\"M 210 550.0 204.6045736220084 550.0\"/><path stroke-width=\"2\" stroke=\"green\" d=\"M 210 560.0 204.6045736220084 560.0\"/><path stroke-width=\"2\" stroke=\"green\" d=\"M 204.6045736220084 550.0 204.6045736220084 560.0\"/><path stroke-width=\"2\" stroke=\"red\" d=\"M 210 80.0 204.4897817746934 80.0\"/><path stroke-width=\"2\" stroke=\"red\" d=\"M 210 90.0 204.4897817746934 90.0\"/><path stroke-width=\"2\" stroke=\"red\" d=\"M 204.4897817746934 80.0 204.4897817746934 90.0\"/><path stroke-width=\"2\" stroke=\"blue\" d=\"M 210 820.0 204.19653135293456 820.0\"/><path stroke-width=\"2\" stroke=\"blue\" d=\"M 210 830.0 204.19653135293456 830.0\"/><path stroke-width=\"2\" stroke=\"blue\" d=\"M 204.19653135293456 820.0 204.19653135293456 830.0\"/><path stroke-width=\"2\" stroke=\"red\" d=\"M 206.76702940326663 235.0 204.16933017177854 235.0\"/><path stroke-width=\"2\" stroke=\"red\" d=\"M 206.02561817557844 257.5 204.16933017177854 257.5\"/><path stroke-width=\"2\" stroke=\"red\" d=\"M 204.16933017177854 235.0 204.16933017177854 257.5\"/><path stroke-width=\"2\" stroke=\"yellow\" d=\"M 210 20.0 204.12474113751776 20.0\"/><path stroke-width=\"2\" stroke=\"yellow\" d=\"M 210 30.0 204.12474113751776 30.0\"/><path stroke-width=\"2\" stroke=\"yellow\" d=\"M 204.12474113751776 20.0 204.12474113751776 30.0\"/><path stroke-width=\"2\" stroke=\"blue\" d=\"M 210 920.0 204.09048565156812 920.0\"/><path stroke-width=\"2\" stroke=\"blue\" d=\"M 210 930.0 204.09048565156812 930.0\"/><path stroke-width=\"2\" stroke=\"blue\" d=\"M 204.09048565156812 920.0 204.09048565156812 930.0\"/><path stroke-width=\"2\" stroke=\"purple\" d=\"M 206.79458890346174 305.0 204.03484081123668 305.0\"/><path stroke-width=\"2\" stroke=\"purple\" d=\"M 205.98394329615826 325.0 204.03484081123668 325.0\"/><path stroke-width=\"2\" stroke=\"purple\" d=\"M 204.03484081123668 305.0 204.03484081123668 325.0\"/><path stroke-width=\"2\" stroke=\"green\" d=\"M 210 540.0 204.01915729255924 540.0\"/><path stroke-width=\"2\" stroke=\"green\" d=\"M 204.6045736220084 555.0 204.01915729255924 555.0\"/><path stroke-width=\"2\" stroke=\"green\" d=\"M 204.01915729255924 540.0 204.01915729255924 555.0\"/><path stroke-width=\"2\" stroke=\"blue\" d=\"M 210 860.0 203.9185939019858 860.0\"/><path stroke-width=\"2\" stroke=\"blue\" d=\"M 210 870.0 203.9185939019858 870.0\"/><path stroke-width=\"2\" stroke=\"blue\" d=\"M 203.9185939019858 860.0 203.9185939019858 870.0\"/><path stroke-width=\"2\" stroke=\"green\" d=\"M 210 430.0 203.73993320778868 430.0\"/><path stroke-width=\"2\" stroke=\"green\" d=\"M 210 440.0 203.73993320778868 440.0\"/><path stroke-width=\"2\" stroke=\"green\" d=\"M 203.73993320778868 430.0 203.73993320778868 440.0\"/><path stroke-width=\"2\" stroke=\"orange\" d=\"M 210 570.0 203.60398674710942 570.0\"/><path stroke-width=\"2\" stroke=\"orange\" d=\"M 210 580.0 203.60398674710942 580.0\"/><path stroke-width=\"2\" stroke=\"orange\" d=\"M 203.60398674710942 570.0 203.60398674710942 580.0\"/><path stroke-width=\"2\" stroke=\"green\" d=\"M 210 480.0 203.54854330210796 480.0\"/><path stroke-width=\"2\" stroke=\"green\" d=\"M 210 490.0 203.54854330210796 490.0\"/><path stroke-width=\"2\" stroke=\"green\" d=\"M 203.54854330210796 480.0 203.54854330210796 490.0\"/><path stroke-width=\"2\" stroke=\"orange\" d=\"M 210 590.0 203.15399085973095 590.0\"/><path stroke-width=\"2\" stroke=\"orange\" d=\"M 210 600.0 203.15399085973095 600.0\"/><path stroke-width=\"2\" stroke=\"orange\" d=\"M 203.15399085973095 590.0 203.15399085973095 600.0\"/><path stroke-width=\"2\" stroke=\"yellow\" d=\"M 210 60.0 203.04051330525365 60.0\"/><path stroke-width=\"2\" stroke=\"yellow\" d=\"M 210 70.0 203.04051330525365 70.0\"/><path stroke-width=\"2\" stroke=\"yellow\" d=\"M 203.04051330525365 60.0 203.04051330525365 70.0\"/><path stroke-width=\"2\" stroke=\"yellow\" d=\"M 210 10.0 202.87898562796423 10.0\"/><path stroke-width=\"2\" stroke=\"yellow\" d=\"M 204.12474113751776 25.0 202.87898562796423 25.0\"/><path stroke-width=\"2\" stroke=\"yellow\" d=\"M 202.87898562796423 10.0 202.87898562796423 25.0\"/><path stroke-width=\"2\" stroke=\"blue\" d=\"M 210 760.0 202.8636633442075 760.0\"/><path stroke-width=\"2\" stroke=\"blue\" d=\"M 210 770.0 202.8636633442075 770.0\"/><path stroke-width=\"2\" stroke=\"blue\" d=\"M 202.8636633442075 760.0 202.8636633442075 770.0\"/><path stroke-width=\"2\" stroke=\"orange\" d=\"M 210 610.0 202.75252449591503 610.0\"/><path stroke-width=\"2\" stroke=\"orange\" d=\"M 210 620.0 202.75252449591503 620.0\"/><path stroke-width=\"2\" stroke=\"orange\" d=\"M 202.75252449591503 610.0 202.75252449591503 620.0\"/><path stroke-width=\"2\" stroke=\"red\" d=\"M 205.0838612449265 205.0 202.6500791630221 205.0\"/><path stroke-width=\"2\" stroke=\"red\" d=\"M 204.16933017177854 246.25 202.6500791630221 246.25\"/><path stroke-width=\"2\" stroke=\"red\" d=\"M 202.6500791630221 205.0 202.6500791630221 246.25\"/><path stroke-width=\"2\" stroke=\"red\" d=\"M 210 100.0 202.5564675048875 100.0\"/><path stroke-width=\"2\" stroke=\"red\" d=\"M 210 110.0 202.5564675048875 110.0\"/><path stroke-width=\"2\" stroke=\"red\" d=\"M 202.5564675048875 100.0 202.5564675048875 110.0\"/><path stroke-width=\"2\" stroke=\"blue\" d=\"M 210 940.0 202.12247330077608 940.0\"/><path stroke-width=\"2\" stroke=\"blue\" d=\"M 205.44252815080435 957.5 202.12247330077608 957.5\"/><path stroke-width=\"2\" stroke=\"blue\" d=\"M 202.12247330077608 940.0 202.12247330077608 957.5\"/><path stroke-width=\"2\" stroke=\"blue\" d=\"M 210 910.0 201.7790346036947 910.0\"/><path stroke-width=\"2\" stroke=\"blue\" d=\"M 204.09048565156812 925.0 201.7790346036947 925.0\"/><path stroke-width=\"2\" stroke=\"blue\" d=\"M 201.7790346036947 910.0 201.7790346036947 925.0\"/><path stroke-width=\"2\" stroke=\"red\" d=\"M 210 120.0 201.73396458907175 120.0\"/><path stroke-width=\"2\" stroke=\"red\" d=\"M 206.8301173240444 137.5 201.73396458907175 137.5\"/><path stroke-width=\"2\" stroke=\"red\" d=\"M 201.73396458907175 120.0 201.73396458907175 137.5\"/><path stroke-width=\"2\" stroke=\"green\" d=\"M 210 470.0 201.70613436246606 470.0\"/><path stroke-width=\"2\" stroke=\"green\" d=\"M 203.54854330210796 485.0 201.70613436246606 485.0\"/><path stroke-width=\"2\" stroke=\"green\" d=\"M 201.70613436246606 470.0 201.70613436246606 485.0\"/><path stroke-width=\"2\" stroke=\"red\" d=\"M 205.09750961291934 167.5 201.4558912778631 167.5\"/><path stroke-width=\"2\" stroke=\"red\" d=\"M 202.6500791630221 225.625 201.4558912778631 225.625\"/><path stroke-width=\"2\" stroke=\"red\" d=\"M 201.4558912778631 167.5 201.4558912778631 225.625\"/><path stroke-width=\"2\" stroke=\"green\" d=\"M 210 380.0 201.07846533129046 380.0\"/><path stroke-width=\"2\" stroke=\"green\" d=\"M 210 390.0 201.07846533129046 390.0\"/><path stroke-width=\"2\" stroke=\"green\" d=\"M 201.07846533129046 380.0 201.07846533129046 390.0\"/><path stroke-width=\"2\" stroke=\"red\" d=\"M 204.4897817746934 85.0 200.91428142169914 85.0\"/><path stroke-width=\"2\" stroke=\"red\" d=\"M 202.5564675048875 105.0 200.91428142169914 105.0\"/><path stroke-width=\"2\" stroke=\"red\" d=\"M 200.91428142169914 85.0 200.91428142169914 105.0\"/><path stroke-width=\"2\" stroke=\"blue\" d=\"M 210 810.0 200.9047518353093 810.0\"/><path stroke-width=\"2\" stroke=\"blue\" d=\"M 204.19653135293456 825.0 200.9047518353093 825.0\"/><path stroke-width=\"2\" stroke=\"blue\" d=\"M 200.9047518353093 810.0 200.9047518353093 825.0\"/><path stroke-width=\"2\" stroke=\"orange\" d=\"M 210 720.0 200.8310770910225 720.0\"/><path stroke-width=\"2\" stroke=\"orange\" d=\"M 205.02311156969606 735.0 200.8310770910225 735.0\"/><path stroke-width=\"2\" stroke=\"orange\" d=\"M 200.8310770910225 720.0 200.8310770910225 735.0\"/><path stroke-width=\"2\" stroke=\"blue\" d=\"M 210 890.0 200.31816214062476 890.0\"/><path stroke-width=\"2\" stroke=\"blue\" d=\"M 210 900.0 200.31816214062476 900.0\"/><path stroke-width=\"2\" stroke=\"blue\" d=\"M 200.31816214062476 890.0 200.31816214062476 900.0\"/><path stroke-width=\"2\" stroke=\"orange\" d=\"M 210 630.0 200.3114001613294 630.0\"/><path stroke-width=\"2\" stroke=\"orange\" d=\"M 205.13979772914266 655.0 200.3114001613294 655.0\"/><path stroke-width=\"2\" stroke=\"orange\" d=\"M 200.3114001613294 630.0 200.3114001613294 655.0\"/><path stroke-width=\"2\" stroke=\"green\" d=\"M 210 420.0 200.2936001354658 420.0\"/><path stroke-width=\"2\" stroke=\"green\" d=\"M 203.73993320778868 435.0 200.2936001354658 435.0\"/><path stroke-width=\"2\" stroke=\"green\" d=\"M 200.2936001354658 420.0 200.2936001354658 435.0\"/><path stroke-width=\"2\" stroke=\"blue\" d=\"M 210 980.0 199.74594912425357 980.0\"/><path stroke-width=\"2\" stroke=\"blue\" d=\"M 204.66188530564168 995.0 199.74594912425357 995.0\"/><path stroke-width=\"2\" stroke=\"blue\" d=\"M 199.74594912425357 980.0 199.74594912425357 995.0\"/><path stroke-width=\"2\" stroke=\"blue\" d=\"M 210 850.0 199.6926616798706 850.0\"/><path stroke-width=\"2\" stroke=\"blue\" d=\"M 203.9185939019858 865.0 199.6926616798706 865.0\"/><path stroke-width=\"2\" stroke=\"blue\" d=\"M 199.6926616798706 850.0 199.6926616798706 865.0\"/><path stroke-width=\"2\" stroke=\"blue\" d=\"M 210 800.0 199.34063725303025 800.0\"/><path stroke-width=\"2\" stroke=\"blue\" d=\"M 200.9047518353093 817.5 199.34063725303025 817.5\"/><path stroke-width=\"2\" stroke=\"blue\" d=\"M 199.34063725303025 800.0 199.34063725303025 817.5\"/><path stroke-width=\"2\" stroke=\"blue\" d=\"M 210 750.0 199.31866913187008 750.0\"/><path stroke-width=\"2\" stroke=\"blue\" d=\"M 202.8636633442075 765.0 199.31866913187008 765.0\"/><path stroke-width=\"2\" stroke=\"blue\" d=\"M 199.31866913187008 750.0 199.31866913187008 765.0\"/><path stroke-width=\"2\" stroke=\"green\" d=\"M 210 400.0 198.47845875513855 400.0\"/><path stroke-width=\"2\" stroke=\"green\" d=\"M 210 410.0 198.47845875513855 410.0\"/><path stroke-width=\"2\" stroke=\"green\" d=\"M 198.47845875513855 400.0 198.47845875513855 410.0\"/><path stroke-width=\"2\" stroke=\"purple\" d=\"M 210 290.0 198.0901851477862 290.0\"/><path stroke-width=\"2\" stroke=\"purple\" d=\"M 204.03484081123668 315.0 198.0901851477862 315.0\"/><path stroke-width=\"2\" stroke=\"purple\" d=\"M 198.0901851477862 290.0 198.0901851477862 315.0\"/><path stroke-width=\"2\" stroke=\"orange\" d=\"M 206.22481517954466 697.5 197.67573591945643 697.5\"/><path stroke-width=\"2\" stroke=\"orange\" d=\"M 200.8310770910225 727.5 197.67573591945643 727.5\"/><path stroke-width=\"2\" stroke=\"orange\" d=\"M 197.67573591945643 697.5 197.67573591945643 727.5\"/><path stroke-width=\"2\" stroke=\"yellow\" d=\"M 210 50.0 197.56351555622226 50.0\"/><path stroke-width=\"2\" stroke=\"yellow\" d=\"M 203.04051330525365 65.0 197.56351555622226 65.0\"/><path stroke-width=\"2\" stroke=\"yellow\" d=\"M 197.56351555622226 50.0 197.56351555622226 65.0\"/><path stroke-width=\"2\" stroke=\"green\" d=\"M 205.36745427319528 525.0 197.55083163611744 525.0\"/><path stroke-width=\"2\" stroke=\"green\" d=\"M 204.01915729255924 547.5 197.55083163611744 547.5\"/><path stroke-width=\"2\" stroke=\"green\" d=\"M 197.55083163611744 525.0 197.55083163611744 547.5\"/><path stroke-width=\"2\" stroke=\"purple\" d=\"M 210 340.0 197.14849977824903 340.0\"/><path stroke-width=\"2\" stroke=\"purple\" d=\"M 210 350.0 197.14849977824903 350.0\"/><path stroke-width=\"2\" stroke=\"purple\" d=\"M 197.14849977824903 340.0 197.14849977824903 350.0\"/><path stroke-width=\"2\" stroke=\"green\" d=\"M 210 460.0 196.80033676270932 460.0\"/><path stroke-width=\"2\" stroke=\"green\" d=\"M 201.70613436246606 477.5 196.80033676270932 477.5\"/><path stroke-width=\"2\" stroke=\"green\" d=\"M 196.80033676270932 460.0 196.80033676270932 477.5\"/><path stroke-width=\"2\" stroke=\"blue\" d=\"M 205.6238389875504 785.0 196.6977012414434 785.0\"/><path stroke-width=\"2\" stroke=\"blue\" d=\"M 199.34063725303025 808.75 196.6977012414434 808.75\"/><path stroke-width=\"2\" stroke=\"blue\" d=\"M 196.6977012414434 785.0 196.6977012414434 808.75\"/><path stroke-width=\"2\" stroke=\"purple\" d=\"M 210 360.0 196.40562199044476 360.0\"/><path stroke-width=\"2\" stroke=\"purple\" d=\"M 210 370.0 196.40562199044476 370.0\"/><path stroke-width=\"2\" stroke=\"purple\" d=\"M 196.40562199044476 360.0 196.40562199044476 370.0\"/><path stroke-width=\"2\" stroke=\"red\" d=\"M 201.73396458907175 128.75 195.92446224403477 128.75\"/><path stroke-width=\"2\" stroke=\"red\" d=\"M 201.4558912778631 196.5625 195.92446224403477 196.5625\"/><path stroke-width=\"2\" stroke=\"red\" d=\"M 195.92446224403477 128.75 195.92446224403477 196.5625\"/><path stroke-width=\"2\" stroke=\"orange\" d=\"M 203.60398674710942 575.0 195.6686332341968 575.0\"/><path stroke-width=\"2\" stroke=\"orange\" d=\"M 203.15399085973095 595.0 195.6686332341968 595.0\"/><path stroke-width=\"2\" stroke=\"orange\" d=\"M 195.6686332341968 575.0 195.6686332341968 595.0\"/><path stroke-width=\"2\" stroke=\"blue\" d=\"M 210 880.0 195.55555017088204 880.0\"/><path stroke-width=\"2\" stroke=\"blue\" d=\"M 200.31816214062476 895.0 195.55555017088204 895.0\"/><path stroke-width=\"2\" stroke=\"blue\" d=\"M 195.55555017088204 880.0 195.55555017088204 895.0\"/><path stroke-width=\"2\" stroke=\"purple\" d=\"M 210 280.0 194.873730874737 280.0\"/><path stroke-width=\"2\" stroke=\"purple\" d=\"M 198.0901851477862 302.5 194.873730874737 302.5\"/><path stroke-width=\"2\" stroke=\"purple\" d=\"M 194.873730874737 280.0 194.873730874737 302.5\"/><path stroke-width=\"2\" stroke=\"yellow\" d=\"M 210 40.0 194.19204807749566 40.0\"/><path stroke-width=\"2\" stroke=\"yellow\" d=\"M 197.56351555622226 57.5 194.19204807749566 57.5\"/><path stroke-width=\"2\" stroke=\"yellow\" d=\"M 194.19204807749566 40.0 194.19204807749566 57.5\"/><path stroke-width=\"2\" stroke=\"orange\" d=\"M 210 680.0 194.16810863163354 680.0\"/><path stroke-width=\"2\" stroke=\"orange\" d=\"M 197.67573591945643 712.5 194.16810863163354 712.5\"/><path stroke-width=\"2\" stroke=\"orange\" d=\"M 194.16810863163354 680.0 194.16810863163354 712.5\"/><path stroke-width=\"2\" stroke=\"green\" d=\"M 210 450.0 192.99618610679477 450.0\"/><path stroke-width=\"2\" stroke=\"green\" d=\"M 196.80033676270932 468.75 192.99618610679477 468.75\"/><path stroke-width=\"2\" stroke=\"green\" d=\"M 192.99618610679477 450.0 192.99618610679477 468.75\"/><path stroke-width=\"2\" stroke=\"green\" d=\"M 210 510.0 192.67748351186975 510.0\"/><path stroke-width=\"2\" stroke=\"green\" d=\"M 197.55083163611744 536.25 192.67748351186975 536.25\"/><path stroke-width=\"2\" stroke=\"green\" d=\"M 192.67748351186975 510.0 192.67748351186975 536.25\"/><path stroke-width=\"2\" stroke=\"blue\" d=\"M 202.12247330077608 948.75 192.3619896932389 948.75\"/><path stroke-width=\"2\" stroke=\"blue\" d=\"M 199.74594912425357 987.5 192.3619896932389 987.5\"/><path stroke-width=\"2\" stroke=\"blue\" d=\"M 192.3619896932389 948.75 192.3619896932389 987.5\"/><path stroke-width=\"2\" stroke=\"orange\" d=\"M 200.3114001613294 642.5 191.9524444704591 642.5\"/><path stroke-width=\"2\" stroke=\"orange\" d=\"M 194.16810863163354 696.25 191.9524444704591 696.25\"/><path stroke-width=\"2\" stroke=\"orange\" d=\"M 191.9524444704591 642.5 191.9524444704591 696.25\"/><path stroke-width=\"2\" stroke=\"yellow\" d=\"M 202.87898562796423 17.5 191.56391607363403 17.5\"/><path stroke-width=\"2\" stroke=\"yellow\" d=\"M 194.19204807749566 48.75 191.56391607363403 48.75\"/><path stroke-width=\"2\" stroke=\"yellow\" d=\"M 191.56391607363403 17.5 191.56391607363403 48.75\"/><path stroke-width=\"2\" stroke=\"blue\" d=\"M 201.7790346036947 917.5 191.38977984630614 917.5\"/><path stroke-width=\"2\" stroke=\"blue\" d=\"M 192.3619896932389 968.125 191.38977984630614 968.125\"/><path stroke-width=\"2\" stroke=\"blue\" d=\"M 191.38977984630614 917.5 191.38977984630614 968.125\"/><path stroke-width=\"2\" stroke=\"blue\" d=\"M 210 840.0 189.97975146662353 840.0\"/><path stroke-width=\"2\" stroke=\"blue\" d=\"M 199.6926616798706 857.5 189.97975146662353 857.5\"/><path stroke-width=\"2\" stroke=\"blue\" d=\"M 189.97975146662353 840.0 189.97975146662353 857.5\"/><path stroke-width=\"2\" stroke=\"green\" d=\"M 201.07846533129046 385.0 189.69899406759683 385.0\"/><path stroke-width=\"2\" stroke=\"green\" d=\"M 198.47845875513855 405.0 189.69899406759683 405.0\"/><path stroke-width=\"2\" stroke=\"green\" d=\"M 189.69899406759683 385.0 189.69899406759683 405.0\"/><path stroke-width=\"2\" stroke=\"green\" d=\"M 200.2936001354658 427.5 189.00508084373794 427.5\"/><path stroke-width=\"2\" stroke=\"green\" d=\"M 192.99618610679477 459.375 189.00508084373794 459.375\"/><path stroke-width=\"2\" stroke=\"green\" d=\"M 189.00508084373794 427.5 189.00508084373794 459.375\"/><path stroke-width=\"2\" stroke=\"green\" d=\"M 210 500.0 188.24614341091097 500.0\"/><path stroke-width=\"2\" stroke=\"green\" d=\"M 192.67748351186975 523.125 188.24614341091097 523.125\"/><path stroke-width=\"2\" stroke=\"green\" d=\"M 188.24614341091097 500.0 188.24614341091097 523.125\"/><path stroke-width=\"2\" stroke=\"purple\" d=\"M 197.14849977824903 345.0 187.8200956045037 345.0\"/><path stroke-width=\"2\" stroke=\"purple\" d=\"M 196.40562199044476 365.0 187.8200956045037 365.0\"/><path stroke-width=\"2\" stroke=\"purple\" d=\"M 187.8200956045037 345.0 187.8200956045037 365.0\"/><path stroke-width=\"2\" stroke=\"blue\" d=\"M 196.6977012414434 796.875 185.1837957814303 796.875\"/><path stroke-width=\"2\" stroke=\"blue\" d=\"M 189.97975146662353 848.75 185.1837957814303 848.75\"/><path stroke-width=\"2\" stroke=\"blue\" d=\"M 185.1837957814303 796.875 185.1837957814303 848.75\"/><path stroke-width=\"2\" stroke=\"red\" d=\"M 200.91428142169914 95.0 185.1548472246103 95.0\"/><path stroke-width=\"2\" stroke=\"red\" d=\"M 195.92446224403477 162.65625 185.1548472246103 162.65625\"/><path stroke-width=\"2\" stroke=\"red\" d=\"M 185.1548472246103 95.0 185.1548472246103 162.65625\"/><path stroke-width=\"2\" stroke=\"green\" d=\"M 189.00508084373794 443.4375 182.07147855819767 443.4375\"/><path stroke-width=\"2\" stroke=\"green\" d=\"M 188.24614341091097 511.5625 182.07147855819767 511.5625\"/><path stroke-width=\"2\" stroke=\"green\" d=\"M 182.07147855819767 443.4375 182.07147855819767 511.5625\"/><path stroke-width=\"2\" stroke=\"blue\" d=\"M 195.55555017088204 887.5 181.68074877240804 887.5\"/><path stroke-width=\"2\" stroke=\"blue\" d=\"M 191.38977984630614 942.8125 181.68074877240804 942.8125\"/><path stroke-width=\"2\" stroke=\"blue\" d=\"M 181.68074877240804 887.5 181.68074877240804 942.8125\"/><path stroke-width=\"2\" stroke=\"orange\" d=\"M 202.75252449591503 615.0 180.55898459449674 615.0\"/><path stroke-width=\"2\" stroke=\"orange\" d=\"M 191.9524444704591 669.375 180.55898459449674 669.375\"/><path stroke-width=\"2\" stroke=\"orange\" d=\"M 180.55898459449674 615.0 180.55898459449674 669.375\"/><path stroke-width=\"2\" stroke=\"blue\" d=\"M 185.1837957814303 822.8125 177.20474203433628 822.8125\"/><path stroke-width=\"2\" stroke=\"blue\" d=\"M 181.68074877240804 915.15625 177.20474203433628 915.15625\"/><path stroke-width=\"2\" stroke=\"blue\" d=\"M 177.20474203433628 822.8125 177.20474203433628 915.15625\"/><path stroke-width=\"2\" stroke=\"purple\" d=\"M 194.873730874737 291.25 177.04413608604605 291.25\"/><path stroke-width=\"2\" stroke=\"purple\" d=\"M 187.8200956045037 355.0 177.04413608604605 355.0\"/><path stroke-width=\"2\" stroke=\"purple\" d=\"M 177.04413608604605 291.25 177.04413608604605 355.0\"/><path stroke-width=\"2\" stroke=\"orange\" d=\"M 195.6686332341968 585.0 172.97607190211704 585.0\"/><path stroke-width=\"2\" stroke=\"orange\" d=\"M 180.55898459449674 642.1875 172.97607190211704 642.1875\"/><path stroke-width=\"2\" stroke=\"orange\" d=\"M 172.97607190211704 585.0 172.97607190211704 642.1875\"/><path stroke-width=\"2\" stroke=\"blue\" d=\"M 199.31866913187008 757.5 172.8139882883651 757.5\"/><path stroke-width=\"2\" stroke=\"blue\" d=\"M 177.20474203433628 868.984375 172.8139882883651 868.984375\"/><path stroke-width=\"2\" stroke=\"blue\" d=\"M 172.8139882883651 757.5 172.8139882883651 868.984375\"/><path stroke-width=\"2\" stroke=\"green\" d=\"M 189.69899406759683 395.0 162.2919938906273 395.0\"/><path stroke-width=\"2\" stroke=\"green\" d=\"M 182.07147855819767 477.5 162.2919938906273 477.5\"/><path stroke-width=\"2\" stroke=\"green\" d=\"M 162.2919938906273 395.0 162.2919938906273 477.5\"/><path stroke-width=\"2\" stroke=\"black\" d=\"M 191.56391607363403 33.125 157.09392294559655 33.125\"/><path stroke-width=\"2\" stroke=\"black\" d=\"M 185.1548472246103 128.828125 157.09392294559655 128.828125\"/><path stroke-width=\"2\" stroke=\"black\" d=\"M 157.09392294559655 33.125 157.09392294559655 128.828125\"/><path stroke-width=\"2\" stroke=\"black\" d=\"M 172.97607190211704 613.59375 117.73220894378522 613.59375\"/><path stroke-width=\"2\" stroke=\"black\" d=\"M 172.8139882883651 813.2421875 117.73220894378522 813.2421875\"/><path stroke-width=\"2\" stroke=\"black\" d=\"M 117.73220894378522 613.59375 117.73220894378522 813.2421875\"/><path stroke-width=\"2\" stroke=\"black\" d=\"M 162.2919938906273 436.25 108.73308288729105 436.25\"/><path stroke-width=\"2\" stroke=\"black\" d=\"M 117.73220894378522 713.41796875 108.73308288729105 713.41796875\"/><path stroke-width=\"2\" stroke=\"black\" d=\"M 108.73308288729105 436.25 108.73308288729105 713.41796875\"/><path stroke-width=\"2\" stroke=\"black\" d=\"M 177.04413608604605 323.125 82.79606122066794 323.125\"/><path stroke-width=\"2\" stroke=\"black\" d=\"M 108.73308288729105 574.833984375 82.79606122066794 574.833984375\"/><path stroke-width=\"2\" stroke=\"black\" d=\"M 82.79606122066794 323.125 82.79606122066794 574.833984375\"/><path stroke-width=\"2\" stroke=\"black\" d=\"M 157.09392294559655 80.9765625 10.0 80.9765625\"/><path stroke-width=\"2\" stroke=\"black\" d=\"M 82.79606122066794 448.9794921875 10.0 448.9794921875\"/><path stroke-width=\"2\" stroke=\"black\" d=\"M 10.0 80.9765625 10.0 448.9794921875\"/></svg>"
      ],
      "text/plain": [
       "<IPython.core.display.SVG object>"
      ]
     },
     "execution_count": 149,
     "metadata": {},
     "output_type": "execute_result"
    }
   ],
   "source": [
    "# visualization\n",
    "image = visualize_dendrogram(dendrogram, names=names[index], rotate=True, width=200, height=1000, n_clusters=6)\n",
    "SVG(image)\n"
   ]
  }
 ],
 "metadata": {
  "kernelspec": {
   "display_name": "Python 3 (ipykernel)",
   "language": "python",
   "name": "python3"
  },
  "language_info": {
   "codemirror_mode": {
    "name": "ipython",
    "version": 3
   },
   "file_extension": ".py",
   "mimetype": "text/x-python",
   "name": "python",
   "nbconvert_exporter": "python",
   "pygments_lexer": "ipython3",
   "version": "3.9.13"
  }
 },
 "nbformat": 4,
 "nbformat_minor": 4
}