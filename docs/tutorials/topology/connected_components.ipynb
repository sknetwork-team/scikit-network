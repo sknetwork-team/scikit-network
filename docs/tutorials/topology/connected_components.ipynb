{
 "cells": [
  {
   "cell_type": "markdown",
   "metadata": {},
   "source": [
    "# Connected components"
   ]
  },
  {
   "cell_type": "markdown",
   "metadata": {},
   "source": [
    "This notebook illustrates the search for [connected components](https://en.wikipedia.org/wiki/Component_(graph_theory)) in graphs."
   ]
  },
  {
   "cell_type": "code",
   "execution_count": 2,
   "metadata": {},
   "outputs": [],
   "source": [
    "from IPython.display import SVG"
   ]
  },
  {
   "cell_type": "code",
   "execution_count": 3,
   "metadata": {
    "ExecuteTime": {
     "end_time": "2019-07-15T12:29:50.554431Z",
     "start_time": "2019-07-15T12:29:50.414075Z"
    }
   },
   "outputs": [],
   "source": [
    "import numpy as np"
   ]
  },
  {
   "cell_type": "code",
   "execution_count": 4,
   "metadata": {},
   "outputs": [],
   "source": [
    "from sknetwork.data import karate_club, painters, movie_actor\n",
    "from sknetwork.topology import get_connected_components, get_largest_connected_component\n",
    "from sknetwork.visualization import visualize_graph, visualize_bigraph\n",
    "from sknetwork.utils.format import bipartite2undirected"
   ]
  },
  {
   "cell_type": "markdown",
   "metadata": {},
   "source": [
    "## Graphs"
   ]
  },
  {
   "cell_type": "code",
   "execution_count": 5,
   "metadata": {
    "ExecuteTime": {
     "end_time": "2019-07-15T12:29:51.261957Z",
     "start_time": "2019-07-15T12:29:51.249107Z"
    }
   },
   "outputs": [],
   "source": [
    "graph = karate_club(metadata=True)\n",
    "adjacency = graph.adjacency\n",
    "position = graph.position"
   ]
  },
  {
   "cell_type": "code",
   "execution_count": 6,
   "metadata": {},
   "outputs": [],
   "source": [
    "# subgraph\n",
    "k = 15\n",
    "adjacency = adjacency[:k][:,:k]\n",
    "position = position[:k]"
   ]
  },
  {
   "cell_type": "code",
   "execution_count": 7,
   "metadata": {},
   "outputs": [],
   "source": [
    "# connected components\n",
    "labels = get_connected_components(adjacency)"
   ]
  },
  {
   "cell_type": "code",
   "execution_count": 8,
   "metadata": {
    "ExecuteTime": {
     "end_time": "2019-07-15T12:29:55.341520Z",
     "start_time": "2019-07-15T12:29:55.026465Z"
    },
    "scrolled": true
   },
   "outputs": [
    {
     "data": {
      "image/svg+xml": [
       "<svg xmlns=\"http://www.w3.org/2000/svg\" width=\"440\" height=\"340\">\n",
       "<path stroke-width=\"1\" stroke=\"black\" d=\"M 266 221 420 180\"/>\n",
       "<path stroke-width=\"1\" stroke=\"black\" d=\"M 250 292 266 221\"/>\n",
       "<path stroke-width=\"1\" stroke=\"black\" d=\"M 250 292 266 320\"/>\n",
       "<path stroke-width=\"1\" stroke=\"black\" d=\"M 250 292 135 287\"/>\n",
       "<path stroke-width=\"1\" stroke=\"black\" d=\"M 173 317 266 221\"/>\n",
       "<path stroke-width=\"1\" stroke=\"black\" d=\"M 173 317 266 320\"/>\n",
       "<path stroke-width=\"1\" stroke=\"black\" d=\"M 173 317 135 287\"/>\n",
       "<path stroke-width=\"1\" stroke=\"black\" d=\"M 266 320 266 221\"/>\n",
       "<path stroke-width=\"1\" stroke=\"black\" d=\"M 266 320 250 292\"/>\n",
       "<path stroke-width=\"1\" stroke=\"black\" d=\"M 266 320 173 317\"/>\n",
       "<path stroke-width=\"1\" stroke=\"black\" d=\"M 396 203 266 221\"/>\n",
       "<path stroke-width=\"1\" stroke=\"black\" d=\"M 396 203 420 180\"/>\n",
       "<path stroke-width=\"1\" stroke=\"black\" d=\"M 335 210 296 161\"/>\n",
       "<path stroke-width=\"1\" stroke=\"black\" d=\"M 396 203 243 148\"/>\n",
       "<path stroke-width=\"1\" stroke=\"black\" d=\"M 296 125 266 221\"/>\n",
       "<path stroke-width=\"1\" stroke=\"black\" d=\"M 296 125 243 148\"/>\n",
       "<path stroke-width=\"1\" stroke=\"black\" d=\"M 150 93 243 148\"/>\n",
       "<path stroke-width=\"1\" stroke=\"black\" d=\"M 135 287 266 221\"/>\n",
       "<path stroke-width=\"1\" stroke=\"black\" d=\"M 135 287 250 292\"/>\n",
       "<path stroke-width=\"1\" stroke=\"black\" d=\"M 135 287 173 317\"/>\n",
       "<path stroke-width=\"1\" stroke=\"black\" d=\"M 20 237 266 221\"/>\n",
       "<path stroke-width=\"1\" stroke=\"black\" d=\"M 389 267 266 221\"/>\n",
       "<path stroke-width=\"1\" stroke=\"black\" d=\"M 389 267 335 210\"/>\n",
       "<path stroke-width=\"1\" stroke=\"black\" d=\"M 296 161 266 221\"/>\n",
       "<path stroke-width=\"1\" stroke=\"black\" d=\"M 296 161 420 180\"/>\n",
       "<path stroke-width=\"1\" stroke=\"black\" d=\"M 396 203 335 210\"/>\n",
       "<path stroke-width=\"1\" stroke=\"black\" d=\"M 335 210 389 267\"/>\n",
       "<path stroke-width=\"1\" stroke=\"black\" d=\"M 335 210 396 203\"/>\n",
       "<path stroke-width=\"1\" stroke=\"black\" d=\"M 335 210 243 148\"/>\n",
       "<path stroke-width=\"1\" stroke=\"black\" d=\"M 266 221 243 148\"/>\n",
       "<path stroke-width=\"1\" stroke=\"black\" d=\"M 266 221 335 210\"/>\n",
       "<path stroke-width=\"1\" stroke=\"black\" d=\"M 266 221 250 292\"/>\n",
       "<path stroke-width=\"1\" stroke=\"black\" d=\"M 266 221 173 317\"/>\n",
       "<path stroke-width=\"1\" stroke=\"black\" d=\"M 266 221 266 320\"/>\n",
       "<path stroke-width=\"1\" stroke=\"black\" d=\"M 266 221 396 203\"/>\n",
       "<path stroke-width=\"1\" stroke=\"black\" d=\"M 266 221 296 125\"/>\n",
       "<path stroke-width=\"1\" stroke=\"black\" d=\"M 266 221 135 287\"/>\n",
       "<path stroke-width=\"1\" stroke=\"black\" d=\"M 266 221 20 237\"/>\n",
       "<path stroke-width=\"1\" stroke=\"black\" d=\"M 266 221 389 267\"/>\n",
       "<path stroke-width=\"1\" stroke=\"black\" d=\"M 266 221 296 161\"/>\n",
       "<path stroke-width=\"1\" stroke=\"black\" d=\"M 420 180 266 221\"/>\n",
       "<path stroke-width=\"1\" stroke=\"black\" d=\"M 420 180 243 148\"/>\n",
       "<path stroke-width=\"1\" stroke=\"black\" d=\"M 420 180 335 210\"/>\n",
       "<path stroke-width=\"1\" stroke=\"black\" d=\"M 420 180 396 203\"/>\n",
       "<path stroke-width=\"1\" stroke=\"black\" d=\"M 420 180 296 161\"/>\n",
       "<path stroke-width=\"1\" stroke=\"black\" d=\"M 243 148 266 221\"/>\n",
       "<path stroke-width=\"1\" stroke=\"black\" d=\"M 243 148 420 180\"/>\n",
       "<path stroke-width=\"1\" stroke=\"black\" d=\"M 243 148 335 210\"/>\n",
       "<path stroke-width=\"1\" stroke=\"black\" d=\"M 243 148 396 203\"/>\n",
       "<path stroke-width=\"1\" stroke=\"black\" d=\"M 243 148 296 125\"/>\n",
       "<path stroke-width=\"1\" stroke=\"black\" d=\"M 243 148 150 93\"/>\n",
       "<path stroke-width=\"1\" stroke=\"black\" d=\"M 243 148 296 161\"/>\n",
       "<path stroke-width=\"1\" stroke=\"black\" d=\"M 335 210 266 221\"/>\n",
       "<path stroke-width=\"1\" stroke=\"black\" d=\"M 335 210 420 180\"/>\n",
       "<path stroke-width=\"1\" stroke=\"black\" d=\"M 296 161 243 148\"/>\n",
       "<path stroke-width=\"1\" stroke=\"black\" d=\"M 296 161 335 210\"/>\n",
       "<circle cx=\"266\" cy=\"221\" r=\"7.0\" style=\"fill:blue;stroke:black;stroke-width:1.0\"/>\n",
       "<circle cx=\"420\" cy=\"180\" r=\"7.0\" style=\"fill:blue;stroke:black;stroke-width:1.0\"/>\n",
       "<circle cx=\"243\" cy=\"148\" r=\"7.0\" style=\"fill:blue;stroke:black;stroke-width:1.0\"/>\n",
       "<circle cx=\"335\" cy=\"210\" r=\"7.0\" style=\"fill:blue;stroke:black;stroke-width:1.0\"/>\n",
       "<circle cx=\"250\" cy=\"292\" r=\"7.0\" style=\"fill:blue;stroke:black;stroke-width:1.0\"/>\n",
       "<circle cx=\"173\" cy=\"317\" r=\"7.0\" style=\"fill:blue;stroke:black;stroke-width:1.0\"/>\n",
       "<circle cx=\"266\" cy=\"320\" r=\"7.0\" style=\"fill:blue;stroke:black;stroke-width:1.0\"/>\n",
       "<circle cx=\"396\" cy=\"203\" r=\"7.0\" style=\"fill:blue;stroke:black;stroke-width:1.0\"/>\n",
       "<circle cx=\"296\" cy=\"125\" r=\"7.0\" style=\"fill:blue;stroke:black;stroke-width:1.0\"/>\n",
       "<circle cx=\"150\" cy=\"93\" r=\"7.0\" style=\"fill:blue;stroke:black;stroke-width:1.0\"/>\n",
       "<circle cx=\"135\" cy=\"287\" r=\"7.0\" style=\"fill:blue;stroke:black;stroke-width:1.0\"/>\n",
       "<circle cx=\"20\" cy=\"237\" r=\"7.0\" style=\"fill:blue;stroke:black;stroke-width:1.0\"/>\n",
       "<circle cx=\"389\" cy=\"267\" r=\"7.0\" style=\"fill:blue;stroke:black;stroke-width:1.0\"/>\n",
       "<circle cx=\"296\" cy=\"161\" r=\"7.0\" style=\"fill:blue;stroke:black;stroke-width:1.0\"/>\n",
       "<circle cx=\"412\" cy=\"20\" r=\"7.0\" style=\"fill:red;stroke:black;stroke-width:1.0\"/>\n",
       "</svg>"
      ],
      "text/plain": [
       "<IPython.core.display.SVG object>"
      ]
     },
     "execution_count": 8,
     "metadata": {},
     "output_type": "execute_result"
    }
   ],
   "source": [
    "image = visualize_graph(adjacency, position, labels=labels)\n",
    "SVG(image)"
   ]
  },
  {
   "cell_type": "code",
   "execution_count": 9,
   "metadata": {},
   "outputs": [],
   "source": [
    "# largest connected component\n",
    "new_adjacency, index = get_largest_connected_component(adjacency, return_index=True)"
   ]
  },
  {
   "cell_type": "code",
   "execution_count": 13,
   "metadata": {},
   "outputs": [
    {
     "data": {
      "text/plain": [
       "14"
      ]
     },
     "execution_count": 13,
     "metadata": {},
     "output_type": "execute_result"
    }
   ],
   "source": [
    "len(index)"
   ]
  },
  {
   "cell_type": "markdown",
   "metadata": {},
   "source": [
    "## Directed graphs"
   ]
  },
  {
   "cell_type": "code",
   "execution_count": 34,
   "metadata": {
    "ExecuteTime": {
     "end_time": "2019-07-15T12:29:58.542147Z",
     "start_time": "2019-07-15T12:29:58.529699Z"
    }
   },
   "outputs": [],
   "source": [
    "graph = painters(metadata=True)\n",
    "adjacency = graph.adjacency\n",
    "names = graph.names\n",
    "position = graph.position"
   ]
  },
  {
   "cell_type": "code",
   "execution_count": 35,
   "metadata": {},
   "outputs": [],
   "source": [
    "# weak connected components\n",
    "labels = get_connected_components(adjacency)"
   ]
  },
  {
   "cell_type": "code",
   "execution_count": 36,
   "metadata": {
    "scrolled": true
   },
   "outputs": [
    {
     "data": {
      "image/svg+xml": [
       "<svg xmlns=\"http://www.w3.org/2000/svg\" width=\"584.0\" height=\"340\">\n",
       "<defs><marker id=\"arrow-gray\" markerWidth=\"10\" markerHeight=\"10\" refX=\"9\" refY=\"3\" orient=\"auto\">\n",
       "<path d=\"M0,0 L0,6 L9,3 z\" fill=\"gray\"/></marker></defs>\n",
       "<path stroke-width=\"1\" stroke=\"gray\" d=\"M 247 48 77 64\" marker-end=\"url(#arrow-gray)\"/>\n",
       "<path stroke-width=\"1\" stroke=\"gray\" d=\"M 205 140 148 222\" marker-end=\"url(#arrow-gray)\"/>\n",
       "<path stroke-width=\"1\" stroke=\"gray\" d=\"M 205 140 208 251\" marker-end=\"url(#arrow-gray)\"/>\n",
       "<path stroke-width=\"1\" stroke=\"gray\" d=\"M 205 140 61 162\" marker-end=\"url(#arrow-gray)\"/>\n",
       "<path stroke-width=\"1\" stroke=\"gray\" d=\"M 205 140 167 61\" marker-end=\"url(#arrow-gray)\"/>\n",
       "<path stroke-width=\"1\" stroke=\"gray\" d=\"M 205 140 137 95\" marker-end=\"url(#arrow-gray)\"/>\n",
       "<path stroke-width=\"1\" stroke=\"gray\" d=\"M 151 320 79 271\" marker-end=\"url(#arrow-gray)\"/>\n",
       "<path stroke-width=\"1\" stroke=\"gray\" d=\"M 151 320 144 233\" marker-end=\"url(#arrow-gray)\"/>\n",
       "<path stroke-width=\"1\" stroke=\"gray\" d=\"M 164 55 241 48\" marker-end=\"url(#arrow-gray)\"/>\n",
       "<path stroke-width=\"1\" stroke=\"gray\" d=\"M 164 55 77 64\" marker-end=\"url(#arrow-gray)\"/>\n",
       "<path stroke-width=\"1\" stroke=\"gray\" d=\"M 164 55 202 134\" marker-end=\"url(#arrow-gray)\"/>\n",
       "<path stroke-width=\"1\" stroke=\"gray\" d=\"M 164 55 136 87\" marker-end=\"url(#arrow-gray)\"/>\n",
       "<path stroke-width=\"1\" stroke=\"gray\" d=\"M 164 55 97 126\" marker-end=\"url(#arrow-gray)\"/>\n",
       "<path stroke-width=\"1\" stroke=\"gray\" d=\"M 132 92 241 50\" marker-end=\"url(#arrow-gray)\"/>\n",
       "<path stroke-width=\"1\" stroke=\"gray\" d=\"M 132 92 26 108\" marker-end=\"url(#arrow-gray)\"/>\n",
       "<path stroke-width=\"1\" stroke=\"gray\" d=\"M 132 92 77 66\" marker-end=\"url(#arrow-gray)\"/>\n",
       "<path stroke-width=\"1\" stroke=\"gray\" d=\"M 132 92 160 60\" marker-end=\"url(#arrow-gray)\"/>\n",
       "<path stroke-width=\"1\" stroke=\"gray\" d=\"M 132 92 97 127\" marker-end=\"url(#arrow-gray)\"/>\n",
       "<path stroke-width=\"1\" stroke=\"gray\" d=\"M 93 131 26 110\" marker-end=\"url(#arrow-gray)\"/>\n",
       "<path stroke-width=\"1\" stroke=\"gray\" d=\"M 93 131 73 70\" marker-end=\"url(#arrow-gray)\"/>\n",
       "<path stroke-width=\"1\" stroke=\"gray\" d=\"M 93 131 141 221\" marker-end=\"url(#arrow-gray)\"/>\n",
       "<path stroke-width=\"1\" stroke=\"gray\" d=\"M 93 131 60 158\" marker-end=\"url(#arrow-gray)\"/>\n",
       "<path stroke-width=\"1\" stroke=\"gray\" d=\"M 205 140 26 109\" marker-end=\"url(#arrow-gray)\"/>\n",
       "<path stroke-width=\"1\" stroke=\"gray\" d=\"M 205 140 245 54\" marker-end=\"url(#arrow-gray)\"/>\n",
       "<path stroke-width=\"1\" stroke=\"gray\" d=\"M 55 162 88 135\" marker-end=\"url(#arrow-gray)\"/>\n",
       "<path stroke-width=\"1\" stroke=\"gray\" d=\"M 55 162 127 96\" marker-end=\"url(#arrow-gray)\"/>\n",
       "<path stroke-width=\"1\" stroke=\"gray\" d=\"M 247 48 170 55\" marker-end=\"url(#arrow-gray)\"/>\n",
       "<path stroke-width=\"1\" stroke=\"gray\" d=\"M 20 108 66 68\" marker-end=\"url(#arrow-gray)\"/>\n",
       "<path stroke-width=\"1\" stroke=\"gray\" d=\"M 20 108 87 129\" marker-end=\"url(#arrow-gray)\"/>\n",
       "<path stroke-width=\"1\" stroke=\"gray\" d=\"M 74 268 146 317\" marker-end=\"url(#arrow-gray)\"/>\n",
       "<path stroke-width=\"1\" stroke=\"gray\" d=\"M 71 64 241 48\" marker-end=\"url(#arrow-gray)\"/>\n",
       "<path stroke-width=\"1\" stroke=\"gray\" d=\"M 71 64 25 104\" marker-end=\"url(#arrow-gray)\"/>\n",
       "<path stroke-width=\"1\" stroke=\"gray\" d=\"M 71 64 56 156\" marker-end=\"url(#arrow-gray)\"/>\n",
       "<path stroke-width=\"1\" stroke=\"gray\" d=\"M 71 64 126 90\" marker-end=\"url(#arrow-gray)\"/>\n",
       "<path stroke-width=\"1\" stroke=\"gray\" d=\"M 71 64 91 125\" marker-end=\"url(#arrow-gray)\"/>\n",
       "<path stroke-width=\"1\" stroke=\"gray\" d=\"M 144 227 80 265\" marker-end=\"url(#arrow-gray)\"/>\n",
       "<path stroke-width=\"1\" stroke=\"gray\" d=\"M 404 94 419 26\" marker-end=\"url(#arrow-gray)\"/>\n",
       "<path stroke-width=\"1\" stroke=\"gray\" d=\"M 144 227 202 255\" marker-end=\"url(#arrow-gray)\"/>\n",
       "<path stroke-width=\"1\" stroke=\"gray\" d=\"M 208 257 80 268\" marker-end=\"url(#arrow-gray)\"/>\n",
       "<path stroke-width=\"1\" stroke=\"gray\" d=\"M 208 257 150 229\" marker-end=\"url(#arrow-gray)\"/>\n",
       "<path stroke-width=\"1\" stroke=\"gray\" d=\"M 208 257 205 146\" marker-end=\"url(#arrow-gray)\"/>\n",
       "<path stroke-width=\"1\" stroke=\"gray\" d=\"M 208 257 155 315\" marker-end=\"url(#arrow-gray)\"/>\n",
       "<path stroke-width=\"1\" stroke=\"gray\" d=\"M 420 20 253 47\" marker-end=\"url(#arrow-gray)\"/>\n",
       "<path stroke-width=\"1\" stroke=\"gray\" d=\"M 420 20 405 88\" marker-end=\"url(#arrow-gray)\"/>\n",
       "<path stroke-width=\"1\" stroke=\"gray\" d=\"M 55 162 23 113\" marker-end=\"url(#arrow-gray)\"/>\n",
       "<path stroke-width=\"1\" stroke=\"gray\" d=\"M 55 162 73 262\" marker-end=\"url(#arrow-gray)\"/>\n",
       "<path stroke-width=\"1\" stroke=\"gray\" d=\"M 55 162 70 70\" marker-end=\"url(#arrow-gray)\"/>\n",
       "<path stroke-width=\"1\" stroke=\"gray\" d=\"M 55 162 199 140\" marker-end=\"url(#arrow-gray)\"/>\n",
       "<path stroke-width=\"1\" stroke=\"gray\" d=\"M 144 227 151 314\" marker-end=\"url(#arrow-gray)\"/>\n",
       "<path stroke-width=\"1\" stroke=\"gray\" d=\"M 404 94 211 139\" marker-end=\"url(#arrow-gray)\"/>\n",
       "<circle cx=\"247\" cy=\"48\" r=\"7.0\" style=\"fill:blue;stroke:black;stroke-width:1.0\"/>\n",
       "<circle cx=\"20\" cy=\"108\" r=\"7.0\" style=\"fill:blue;stroke:black;stroke-width:1.0\"/>\n",
       "<circle cx=\"74\" cy=\"268\" r=\"7.0\" style=\"fill:blue;stroke:black;stroke-width:1.0\"/>\n",
       "<circle cx=\"71\" cy=\"64\" r=\"7.0\" style=\"fill:blue;stroke:black;stroke-width:1.0\"/>\n",
       "<circle cx=\"144\" cy=\"227\" r=\"7.0\" style=\"fill:blue;stroke:black;stroke-width:1.0\"/>\n",
       "<circle cx=\"208\" cy=\"257\" r=\"7.0\" style=\"fill:blue;stroke:black;stroke-width:1.0\"/>\n",
       "<circle cx=\"420\" cy=\"20\" r=\"7.0\" style=\"fill:blue;stroke:black;stroke-width:1.0\"/>\n",
       "<circle cx=\"55\" cy=\"162\" r=\"7.0\" style=\"fill:blue;stroke:black;stroke-width:1.0\"/>\n",
       "<circle cx=\"205\" cy=\"140\" r=\"7.0\" style=\"fill:blue;stroke:black;stroke-width:1.0\"/>\n",
       "<circle cx=\"151\" cy=\"320\" r=\"7.0\" style=\"fill:blue;stroke:black;stroke-width:1.0\"/>\n",
       "<circle cx=\"164\" cy=\"55\" r=\"7.0\" style=\"fill:blue;stroke:black;stroke-width:1.0\"/>\n",
       "<circle cx=\"132\" cy=\"92\" r=\"7.0\" style=\"fill:blue;stroke:black;stroke-width:1.0\"/>\n",
       "<circle cx=\"93\" cy=\"131\" r=\"7.0\" style=\"fill:blue;stroke:black;stroke-width:1.0\"/>\n",
       "<circle cx=\"404\" cy=\"94\" r=\"7.0\" style=\"fill:blue;stroke:black;stroke-width:1.0\"/>\n",
       "<text text-anchor=\"start\" x=\"264\" y=\"48\" font-size=\"12\">Pablo Picasso</text><text text-anchor=\"start\" x=\"37\" y=\"108\" font-size=\"12\">Claude Monet</text><text text-anchor=\"start\" x=\"91\" y=\"268\" font-size=\"12\">Michel Angelo</text><text text-anchor=\"start\" x=\"88\" y=\"64\" font-size=\"12\">Edouard Manet</text><text text-anchor=\"start\" x=\"161\" y=\"227\" font-size=\"12\">Peter Paul Rubens</text><text text-anchor=\"start\" x=\"225\" y=\"257\" font-size=\"12\">Rembrandt</text><text text-anchor=\"start\" x=\"437\" y=\"20\" font-size=\"12\">Gustav Klimt</text><text text-anchor=\"start\" x=\"72\" y=\"162\" font-size=\"12\">Edgar Degas</text><text text-anchor=\"start\" x=\"222\" y=\"140\" font-size=\"12\">Vincent van Gogh</text><text text-anchor=\"start\" x=\"168\" y=\"320\" font-size=\"12\">Leonardo da Vinci</text><text text-anchor=\"start\" x=\"181\" y=\"55\" font-size=\"12\">Henri Matisse</text><text text-anchor=\"start\" x=\"149\" y=\"92\" font-size=\"12\">Paul Cezanne</text><text text-anchor=\"start\" x=\"110\" y=\"131\" font-size=\"12\">Pierre-Auguste Renoir</text><text text-anchor=\"start\" x=\"421\" y=\"94\" font-size=\"12\">Egon Schiele</text></svg>"
      ],
      "text/plain": [
       "<IPython.core.display.SVG object>"
      ]
     },
     "execution_count": 36,
     "metadata": {},
     "output_type": "execute_result"
    }
   ],
   "source": [
    "image = visualize_graph(adjacency, position=position, names=names, labels=labels)\n",
    "SVG(image)"
   ]
  },
  {
   "cell_type": "code",
   "execution_count": 37,
   "metadata": {},
   "outputs": [],
   "source": [
    "# strong connected components\n",
    "labels = get_connected_components(adjacency, connection='strong')"
   ]
  },
  {
   "cell_type": "code",
   "execution_count": 38,
   "metadata": {},
   "outputs": [
    {
     "data": {
      "image/svg+xml": [
       "<svg xmlns=\"http://www.w3.org/2000/svg\" width=\"584.0\" height=\"340\">\n",
       "<defs><marker id=\"arrow-gray\" markerWidth=\"10\" markerHeight=\"10\" refX=\"9\" refY=\"3\" orient=\"auto\">\n",
       "<path d=\"M0,0 L0,6 L9,3 z\" fill=\"gray\"/></marker></defs>\n",
       "<path stroke-width=\"1\" stroke=\"gray\" d=\"M 247 48 77 64\" marker-end=\"url(#arrow-gray)\"/>\n",
       "<path stroke-width=\"1\" stroke=\"gray\" d=\"M 205 140 148 222\" marker-end=\"url(#arrow-gray)\"/>\n",
       "<path stroke-width=\"1\" stroke=\"gray\" d=\"M 205 140 208 251\" marker-end=\"url(#arrow-gray)\"/>\n",
       "<path stroke-width=\"1\" stroke=\"gray\" d=\"M 205 140 61 162\" marker-end=\"url(#arrow-gray)\"/>\n",
       "<path stroke-width=\"1\" stroke=\"gray\" d=\"M 205 140 167 61\" marker-end=\"url(#arrow-gray)\"/>\n",
       "<path stroke-width=\"1\" stroke=\"gray\" d=\"M 205 140 137 95\" marker-end=\"url(#arrow-gray)\"/>\n",
       "<path stroke-width=\"1\" stroke=\"gray\" d=\"M 151 320 79 271\" marker-end=\"url(#arrow-gray)\"/>\n",
       "<path stroke-width=\"1\" stroke=\"gray\" d=\"M 151 320 144 233\" marker-end=\"url(#arrow-gray)\"/>\n",
       "<path stroke-width=\"1\" stroke=\"gray\" d=\"M 164 55 241 48\" marker-end=\"url(#arrow-gray)\"/>\n",
       "<path stroke-width=\"1\" stroke=\"gray\" d=\"M 164 55 77 64\" marker-end=\"url(#arrow-gray)\"/>\n",
       "<path stroke-width=\"1\" stroke=\"gray\" d=\"M 164 55 202 134\" marker-end=\"url(#arrow-gray)\"/>\n",
       "<path stroke-width=\"1\" stroke=\"gray\" d=\"M 164 55 136 87\" marker-end=\"url(#arrow-gray)\"/>\n",
       "<path stroke-width=\"1\" stroke=\"gray\" d=\"M 164 55 97 126\" marker-end=\"url(#arrow-gray)\"/>\n",
       "<path stroke-width=\"1\" stroke=\"gray\" d=\"M 132 92 241 50\" marker-end=\"url(#arrow-gray)\"/>\n",
       "<path stroke-width=\"1\" stroke=\"gray\" d=\"M 132 92 26 108\" marker-end=\"url(#arrow-gray)\"/>\n",
       "<path stroke-width=\"1\" stroke=\"gray\" d=\"M 132 92 77 66\" marker-end=\"url(#arrow-gray)\"/>\n",
       "<path stroke-width=\"1\" stroke=\"gray\" d=\"M 132 92 160 60\" marker-end=\"url(#arrow-gray)\"/>\n",
       "<path stroke-width=\"1\" stroke=\"gray\" d=\"M 132 92 97 127\" marker-end=\"url(#arrow-gray)\"/>\n",
       "<path stroke-width=\"1\" stroke=\"gray\" d=\"M 93 131 26 110\" marker-end=\"url(#arrow-gray)\"/>\n",
       "<path stroke-width=\"1\" stroke=\"gray\" d=\"M 93 131 73 70\" marker-end=\"url(#arrow-gray)\"/>\n",
       "<path stroke-width=\"1\" stroke=\"gray\" d=\"M 93 131 141 221\" marker-end=\"url(#arrow-gray)\"/>\n",
       "<path stroke-width=\"1\" stroke=\"gray\" d=\"M 93 131 60 158\" marker-end=\"url(#arrow-gray)\"/>\n",
       "<path stroke-width=\"1\" stroke=\"gray\" d=\"M 205 140 26 109\" marker-end=\"url(#arrow-gray)\"/>\n",
       "<path stroke-width=\"1\" stroke=\"gray\" d=\"M 205 140 245 54\" marker-end=\"url(#arrow-gray)\"/>\n",
       "<path stroke-width=\"1\" stroke=\"gray\" d=\"M 55 162 88 135\" marker-end=\"url(#arrow-gray)\"/>\n",
       "<path stroke-width=\"1\" stroke=\"gray\" d=\"M 55 162 127 96\" marker-end=\"url(#arrow-gray)\"/>\n",
       "<path stroke-width=\"1\" stroke=\"gray\" d=\"M 247 48 170 55\" marker-end=\"url(#arrow-gray)\"/>\n",
       "<path stroke-width=\"1\" stroke=\"gray\" d=\"M 20 108 66 68\" marker-end=\"url(#arrow-gray)\"/>\n",
       "<path stroke-width=\"1\" stroke=\"gray\" d=\"M 20 108 87 129\" marker-end=\"url(#arrow-gray)\"/>\n",
       "<path stroke-width=\"1\" stroke=\"gray\" d=\"M 74 268 146 317\" marker-end=\"url(#arrow-gray)\"/>\n",
       "<path stroke-width=\"1\" stroke=\"gray\" d=\"M 71 64 241 48\" marker-end=\"url(#arrow-gray)\"/>\n",
       "<path stroke-width=\"1\" stroke=\"gray\" d=\"M 71 64 25 104\" marker-end=\"url(#arrow-gray)\"/>\n",
       "<path stroke-width=\"1\" stroke=\"gray\" d=\"M 71 64 56 156\" marker-end=\"url(#arrow-gray)\"/>\n",
       "<path stroke-width=\"1\" stroke=\"gray\" d=\"M 71 64 126 90\" marker-end=\"url(#arrow-gray)\"/>\n",
       "<path stroke-width=\"1\" stroke=\"gray\" d=\"M 71 64 91 125\" marker-end=\"url(#arrow-gray)\"/>\n",
       "<path stroke-width=\"1\" stroke=\"gray\" d=\"M 144 227 80 265\" marker-end=\"url(#arrow-gray)\"/>\n",
       "<path stroke-width=\"1\" stroke=\"gray\" d=\"M 404 94 419 26\" marker-end=\"url(#arrow-gray)\"/>\n",
       "<path stroke-width=\"1\" stroke=\"gray\" d=\"M 144 227 202 255\" marker-end=\"url(#arrow-gray)\"/>\n",
       "<path stroke-width=\"1\" stroke=\"gray\" d=\"M 208 257 80 268\" marker-end=\"url(#arrow-gray)\"/>\n",
       "<path stroke-width=\"1\" stroke=\"gray\" d=\"M 208 257 150 229\" marker-end=\"url(#arrow-gray)\"/>\n",
       "<path stroke-width=\"1\" stroke=\"gray\" d=\"M 208 257 205 146\" marker-end=\"url(#arrow-gray)\"/>\n",
       "<path stroke-width=\"1\" stroke=\"gray\" d=\"M 208 257 155 315\" marker-end=\"url(#arrow-gray)\"/>\n",
       "<path stroke-width=\"1\" stroke=\"gray\" d=\"M 420 20 253 47\" marker-end=\"url(#arrow-gray)\"/>\n",
       "<path stroke-width=\"1\" stroke=\"gray\" d=\"M 420 20 405 88\" marker-end=\"url(#arrow-gray)\"/>\n",
       "<path stroke-width=\"1\" stroke=\"gray\" d=\"M 55 162 23 113\" marker-end=\"url(#arrow-gray)\"/>\n",
       "<path stroke-width=\"1\" stroke=\"gray\" d=\"M 55 162 73 262\" marker-end=\"url(#arrow-gray)\"/>\n",
       "<path stroke-width=\"1\" stroke=\"gray\" d=\"M 55 162 70 70\" marker-end=\"url(#arrow-gray)\"/>\n",
       "<path stroke-width=\"1\" stroke=\"gray\" d=\"M 55 162 199 140\" marker-end=\"url(#arrow-gray)\"/>\n",
       "<path stroke-width=\"1\" stroke=\"gray\" d=\"M 144 227 151 314\" marker-end=\"url(#arrow-gray)\"/>\n",
       "<path stroke-width=\"1\" stroke=\"gray\" d=\"M 404 94 211 139\" marker-end=\"url(#arrow-gray)\"/>\n",
       "<circle cx=\"247\" cy=\"48\" r=\"7.0\" style=\"fill:blue;stroke:black;stroke-width:1.0\"/>\n",
       "<circle cx=\"20\" cy=\"108\" r=\"7.0\" style=\"fill:blue;stroke:black;stroke-width:1.0\"/>\n",
       "<circle cx=\"74\" cy=\"268\" r=\"7.0\" style=\"fill:blue;stroke:black;stroke-width:1.0\"/>\n",
       "<circle cx=\"71\" cy=\"64\" r=\"7.0\" style=\"fill:blue;stroke:black;stroke-width:1.0\"/>\n",
       "<circle cx=\"144\" cy=\"227\" r=\"7.0\" style=\"fill:blue;stroke:black;stroke-width:1.0\"/>\n",
       "<circle cx=\"208\" cy=\"257\" r=\"7.0\" style=\"fill:blue;stroke:black;stroke-width:1.0\"/>\n",
       "<circle cx=\"420\" cy=\"20\" r=\"7.0\" style=\"fill:red;stroke:black;stroke-width:1.0\"/>\n",
       "<circle cx=\"55\" cy=\"162\" r=\"7.0\" style=\"fill:blue;stroke:black;stroke-width:1.0\"/>\n",
       "<circle cx=\"205\" cy=\"140\" r=\"7.0\" style=\"fill:blue;stroke:black;stroke-width:1.0\"/>\n",
       "<circle cx=\"151\" cy=\"320\" r=\"7.0\" style=\"fill:blue;stroke:black;stroke-width:1.0\"/>\n",
       "<circle cx=\"164\" cy=\"55\" r=\"7.0\" style=\"fill:blue;stroke:black;stroke-width:1.0\"/>\n",
       "<circle cx=\"132\" cy=\"92\" r=\"7.0\" style=\"fill:blue;stroke:black;stroke-width:1.0\"/>\n",
       "<circle cx=\"93\" cy=\"131\" r=\"7.0\" style=\"fill:blue;stroke:black;stroke-width:1.0\"/>\n",
       "<circle cx=\"404\" cy=\"94\" r=\"7.0\" style=\"fill:red;stroke:black;stroke-width:1.0\"/>\n",
       "<text text-anchor=\"start\" x=\"264\" y=\"48\" font-size=\"12\">Pablo Picasso</text><text text-anchor=\"start\" x=\"37\" y=\"108\" font-size=\"12\">Claude Monet</text><text text-anchor=\"start\" x=\"91\" y=\"268\" font-size=\"12\">Michel Angelo</text><text text-anchor=\"start\" x=\"88\" y=\"64\" font-size=\"12\">Edouard Manet</text><text text-anchor=\"start\" x=\"161\" y=\"227\" font-size=\"12\">Peter Paul Rubens</text><text text-anchor=\"start\" x=\"225\" y=\"257\" font-size=\"12\">Rembrandt</text><text text-anchor=\"start\" x=\"437\" y=\"20\" font-size=\"12\">Gustav Klimt</text><text text-anchor=\"start\" x=\"72\" y=\"162\" font-size=\"12\">Edgar Degas</text><text text-anchor=\"start\" x=\"222\" y=\"140\" font-size=\"12\">Vincent van Gogh</text><text text-anchor=\"start\" x=\"168\" y=\"320\" font-size=\"12\">Leonardo da Vinci</text><text text-anchor=\"start\" x=\"181\" y=\"55\" font-size=\"12\">Henri Matisse</text><text text-anchor=\"start\" x=\"149\" y=\"92\" font-size=\"12\">Paul Cezanne</text><text text-anchor=\"start\" x=\"110\" y=\"131\" font-size=\"12\">Pierre-Auguste Renoir</text><text text-anchor=\"start\" x=\"421\" y=\"94\" font-size=\"12\">Egon Schiele</text></svg>"
      ],
      "text/plain": [
       "<IPython.core.display.SVG object>"
      ]
     },
     "execution_count": 38,
     "metadata": {},
     "output_type": "execute_result"
    }
   ],
   "source": [
    "image = visualize_graph(adjacency, position, names, labels)\n",
    "SVG(image)"
   ]
  },
  {
   "cell_type": "code",
   "execution_count": 39,
   "metadata": {},
   "outputs": [],
   "source": [
    "# largest connected component\n",
    "new_adjacency, index = get_largest_connected_component(adjacency, connection='strong', return_index=True)"
   ]
  },
  {
   "cell_type": "code",
   "execution_count": 40,
   "metadata": {},
   "outputs": [
    {
     "data": {
      "image/svg+xml": [
       "<svg xmlns=\"http://www.w3.org/2000/svg\" width=\"596.0\" height=\"340\">\n",
       "<defs><marker id=\"arrow-gray\" markerWidth=\"10\" markerHeight=\"10\" refX=\"9\" refY=\"3\" orient=\"auto\">\n",
       "<path d=\"M0,0 L0,6 L9,3 z\" fill=\"gray\"/></marker></defs>\n",
       "<path stroke-width=\"1\" stroke=\"gray\" d=\"M 420 20 116 37\" marker-end=\"url(#arrow-gray)\"/>\n",
       "<path stroke-width=\"1\" stroke=\"gray\" d=\"M 346 121 244 214\" marker-end=\"url(#arrow-gray)\"/>\n",
       "<path stroke-width=\"1\" stroke=\"gray\" d=\"M 346 121 352 245\" marker-end=\"url(#arrow-gray)\"/>\n",
       "<path stroke-width=\"1\" stroke=\"gray\" d=\"M 346 121 87 145\" marker-end=\"url(#arrow-gray)\"/>\n",
       "<path stroke-width=\"1\" stroke=\"gray\" d=\"M 346 121 277 32\" marker-end=\"url(#arrow-gray)\"/>\n",
       "<path stroke-width=\"1\" stroke=\"gray\" d=\"M 346 121 223 71\" marker-end=\"url(#arrow-gray)\"/>\n",
       "<path stroke-width=\"1\" stroke=\"gray\" d=\"M 250 320 121 265\" marker-end=\"url(#arrow-gray)\"/>\n",
       "<path stroke-width=\"1\" stroke=\"gray\" d=\"M 250 320 239 224\" marker-end=\"url(#arrow-gray)\"/>\n",
       "<path stroke-width=\"1\" stroke=\"gray\" d=\"M 273 27 414 20\" marker-end=\"url(#arrow-gray)\"/>\n",
       "<path stroke-width=\"1\" stroke=\"gray\" d=\"M 273 27 116 37\" marker-end=\"url(#arrow-gray)\"/>\n",
       "<path stroke-width=\"1\" stroke=\"gray\" d=\"M 273 27 342 116\" marker-end=\"url(#arrow-gray)\"/>\n",
       "<path stroke-width=\"1\" stroke=\"gray\" d=\"M 273 27 222 65\" marker-end=\"url(#arrow-gray)\"/>\n",
       "<path stroke-width=\"1\" stroke=\"gray\" d=\"M 273 27 154 109\" marker-end=\"url(#arrow-gray)\"/>\n",
       "<path stroke-width=\"1\" stroke=\"gray\" d=\"M 217 69 414 21\" marker-end=\"url(#arrow-gray)\"/>\n",
       "<path stroke-width=\"1\" stroke=\"gray\" d=\"M 217 69 26 86\" marker-end=\"url(#arrow-gray)\"/>\n",
       "<path stroke-width=\"1\" stroke=\"gray\" d=\"M 217 69 116 38\" marker-end=\"url(#arrow-gray)\"/>\n",
       "<path stroke-width=\"1\" stroke=\"gray\" d=\"M 217 69 268 31\" marker-end=\"url(#arrow-gray)\"/>\n",
       "<path stroke-width=\"1\" stroke=\"gray\" d=\"M 217 69 154 109\" marker-end=\"url(#arrow-gray)\"/>\n",
       "<path stroke-width=\"1\" stroke=\"gray\" d=\"M 149 112 26 87\" marker-end=\"url(#arrow-gray)\"/>\n",
       "<path stroke-width=\"1\" stroke=\"gray\" d=\"M 149 112 113 43\" marker-end=\"url(#arrow-gray)\"/>\n",
       "<path stroke-width=\"1\" stroke=\"gray\" d=\"M 346 121 26 86\" marker-end=\"url(#arrow-gray)\"/>\n",
       "<path stroke-width=\"1\" stroke=\"gray\" d=\"M 346 121 416 25\" marker-end=\"url(#arrow-gray)\"/>\n",
       "<path stroke-width=\"1\" stroke=\"gray\" d=\"M 81 145 143 115\" marker-end=\"url(#arrow-gray)\"/>\n",
       "<path stroke-width=\"1\" stroke=\"gray\" d=\"M 81 145 211 72\" marker-end=\"url(#arrow-gray)\"/>\n",
       "<path stroke-width=\"1\" stroke=\"gray\" d=\"M 420 20 279 27\" marker-end=\"url(#arrow-gray)\"/>\n",
       "<path stroke-width=\"1\" stroke=\"gray\" d=\"M 20 86 104 40\" marker-end=\"url(#arrow-gray)\"/>\n",
       "<path stroke-width=\"1\" stroke=\"gray\" d=\"M 20 86 143 111\" marker-end=\"url(#arrow-gray)\"/>\n",
       "<path stroke-width=\"1\" stroke=\"gray\" d=\"M 115 263 244 318\" marker-end=\"url(#arrow-gray)\"/>\n",
       "<path stroke-width=\"1\" stroke=\"gray\" d=\"M 110 37 414 20\" marker-end=\"url(#arrow-gray)\"/>\n",
       "<path stroke-width=\"1\" stroke=\"gray\" d=\"M 110 37 26 83\" marker-end=\"url(#arrow-gray)\"/>\n",
       "<path stroke-width=\"1\" stroke=\"gray\" d=\"M 110 37 82 139\" marker-end=\"url(#arrow-gray)\"/>\n",
       "<path stroke-width=\"1\" stroke=\"gray\" d=\"M 110 37 211 68\" marker-end=\"url(#arrow-gray)\"/>\n",
       "<path stroke-width=\"1\" stroke=\"gray\" d=\"M 110 37 146 106\" marker-end=\"url(#arrow-gray)\"/>\n",
       "<path stroke-width=\"1\" stroke=\"gray\" d=\"M 149 112 235 213\" marker-end=\"url(#arrow-gray)\"/>\n",
       "<path stroke-width=\"1\" stroke=\"gray\" d=\"M 239 218 121 261\" marker-end=\"url(#arrow-gray)\"/>\n",
       "<path stroke-width=\"1\" stroke=\"gray\" d=\"M 239 218 250 314\" marker-end=\"url(#arrow-gray)\"/>\n",
       "<path stroke-width=\"1\" stroke=\"gray\" d=\"M 352 251 121 263\" marker-end=\"url(#arrow-gray)\"/>\n",
       "<path stroke-width=\"1\" stroke=\"gray\" d=\"M 352 251 245 219\" marker-end=\"url(#arrow-gray)\"/>\n",
       "<path stroke-width=\"1\" stroke=\"gray\" d=\"M 352 251 346 127\" marker-end=\"url(#arrow-gray)\"/>\n",
       "<path stroke-width=\"1\" stroke=\"gray\" d=\"M 352 251 255 317\" marker-end=\"url(#arrow-gray)\"/>\n",
       "<path stroke-width=\"1\" stroke=\"gray\" d=\"M 81 145 25 90\" marker-end=\"url(#arrow-gray)\"/>\n",
       "<path stroke-width=\"1\" stroke=\"gray\" d=\"M 81 145 114 257\" marker-end=\"url(#arrow-gray)\"/>\n",
       "<path stroke-width=\"1\" stroke=\"gray\" d=\"M 81 145 109 43\" marker-end=\"url(#arrow-gray)\"/>\n",
       "<path stroke-width=\"1\" stroke=\"gray\" d=\"M 81 145 340 121\" marker-end=\"url(#arrow-gray)\"/>\n",
       "<path stroke-width=\"1\" stroke=\"gray\" d=\"M 239 218 346 250\" marker-end=\"url(#arrow-gray)\"/>\n",
       "<path stroke-width=\"1\" stroke=\"gray\" d=\"M 149 112 87 142\" marker-end=\"url(#arrow-gray)\"/>\n",
       "<circle cx=\"420\" cy=\"20\" r=\"7.0\" style=\"fill:gray;stroke:black;stroke-width:1.0\"/>\n",
       "<circle cx=\"20\" cy=\"86\" r=\"7.0\" style=\"fill:gray;stroke:black;stroke-width:1.0\"/>\n",
       "<circle cx=\"115\" cy=\"263\" r=\"7.0\" style=\"fill:gray;stroke:black;stroke-width:1.0\"/>\n",
       "<circle cx=\"110\" cy=\"37\" r=\"7.0\" style=\"fill:gray;stroke:black;stroke-width:1.0\"/>\n",
       "<circle cx=\"239\" cy=\"218\" r=\"7.0\" style=\"fill:gray;stroke:black;stroke-width:1.0\"/>\n",
       "<circle cx=\"352\" cy=\"251\" r=\"7.0\" style=\"fill:gray;stroke:black;stroke-width:1.0\"/>\n",
       "<circle cx=\"81\" cy=\"145\" r=\"7.0\" style=\"fill:gray;stroke:black;stroke-width:1.0\"/>\n",
       "<circle cx=\"346\" cy=\"121\" r=\"7.0\" style=\"fill:gray;stroke:black;stroke-width:1.0\"/>\n",
       "<circle cx=\"250\" cy=\"320\" r=\"7.0\" style=\"fill:gray;stroke:black;stroke-width:1.0\"/>\n",
       "<circle cx=\"273\" cy=\"27\" r=\"7.0\" style=\"fill:gray;stroke:black;stroke-width:1.0\"/>\n",
       "<circle cx=\"217\" cy=\"69\" r=\"7.0\" style=\"fill:gray;stroke:black;stroke-width:1.0\"/>\n",
       "<circle cx=\"149\" cy=\"112\" r=\"7.0\" style=\"fill:gray;stroke:black;stroke-width:1.0\"/>\n",
       "<text text-anchor=\"start\" x=\"437\" y=\"20\" font-size=\"12\">Pablo Picasso</text><text text-anchor=\"start\" x=\"37\" y=\"86\" font-size=\"12\">Claude Monet</text><text text-anchor=\"start\" x=\"132\" y=\"263\" font-size=\"12\">Michel Angelo</text><text text-anchor=\"start\" x=\"127\" y=\"37\" font-size=\"12\">Edouard Manet</text><text text-anchor=\"start\" x=\"256\" y=\"218\" font-size=\"12\">Peter Paul Rubens</text><text text-anchor=\"start\" x=\"369\" y=\"251\" font-size=\"12\">Rembrandt</text><text text-anchor=\"start\" x=\"98\" y=\"145\" font-size=\"12\">Edgar Degas</text><text text-anchor=\"start\" x=\"363\" y=\"121\" font-size=\"12\">Vincent van Gogh</text><text text-anchor=\"start\" x=\"267\" y=\"320\" font-size=\"12\">Leonardo da Vinci</text><text text-anchor=\"start\" x=\"290\" y=\"27\" font-size=\"12\">Henri Matisse</text><text text-anchor=\"start\" x=\"234\" y=\"69\" font-size=\"12\">Paul Cezanne</text><text text-anchor=\"start\" x=\"166\" y=\"112\" font-size=\"12\">Pierre-Auguste Renoir</text></svg>"
      ],
      "text/plain": [
       "<IPython.core.display.SVG object>"
      ]
     },
     "execution_count": 40,
     "metadata": {},
     "output_type": "execute_result"
    }
   ],
   "source": [
    "image = visualize_graph(new_adjacency, position[index], names[index])\n",
    "SVG(image)"
   ]
  },
  {
   "cell_type": "markdown",
   "metadata": {},
   "source": [
    "## Bipartite graphs"
   ]
  },
  {
   "cell_type": "code",
   "execution_count": 21,
   "metadata": {},
   "outputs": [],
   "source": [
    "graph = movie_actor(metadata=True)\n",
    "biadjacency = graph.biadjacency\n",
    "names_row = graph.names_row\n",
    "names_col = graph.names_col"
   ]
  },
  {
   "cell_type": "code",
   "execution_count": 22,
   "metadata": {},
   "outputs": [],
   "source": [
    "# subgraph\n",
    "k = 5\n",
    "biadjacency = biadjacency[k:]\n",
    "names_row = names_row[k:]"
   ]
  },
  {
   "cell_type": "code",
   "execution_count": 26,
   "metadata": {},
   "outputs": [],
   "source": [
    "labels = get_connected_components(biadjacency, force_bipartite=True)"
   ]
  },
  {
   "cell_type": "code",
   "execution_count": 27,
   "metadata": {},
   "outputs": [],
   "source": [
    "n_row, _ = biadjacency.shape\n",
    "labels_row = labels[:n_row]\n",
    "labels_col = labels[n_row:]"
   ]
  },
  {
   "cell_type": "code",
   "execution_count": 28,
   "metadata": {},
   "outputs": [
    {
     "data": {
      "image/svg+xml": [
       "<svg xmlns=\"http://www.w3.org/2000/svg\" width=\"728.0\" height=\"340\">\n",
       "<path stroke-width=\"1\" stroke=\"black\" d=\"M 188 260 588 300\"/>\n",
       "<path stroke-width=\"1\" stroke=\"black\" d=\"M 188 120 588 100\"/>\n",
       "<path stroke-width=\"1\" stroke=\"black\" d=\"M 188 120 588 120\"/>\n",
       "<path stroke-width=\"1\" stroke=\"black\" d=\"M 188 160 588 180\"/>\n",
       "<path stroke-width=\"1\" stroke=\"black\" d=\"M 188 160 588 220\"/>\n",
       "<path stroke-width=\"1\" stroke=\"black\" d=\"M 188 160 588 240\"/>\n",
       "<path stroke-width=\"1\" stroke=\"black\" d=\"M 188 79 588 59\"/>\n",
       "<path stroke-width=\"1\" stroke=\"black\" d=\"M 188 79 588 220\"/>\n",
       "<path stroke-width=\"1\" stroke=\"black\" d=\"M 188 79 588 79\"/>\n",
       "<path stroke-width=\"1\" stroke=\"black\" d=\"M 188 180 588 59\"/>\n",
       "<path stroke-width=\"1\" stroke=\"black\" d=\"M 188 180 588 200\"/>\n",
       "<path stroke-width=\"1\" stroke=\"black\" d=\"M 188 180 588 220\"/>\n",
       "<path stroke-width=\"1\" stroke=\"black\" d=\"M 188 140 588 120\"/>\n",
       "<path stroke-width=\"1\" stroke=\"black\" d=\"M 188 140 588 140\"/>\n",
       "<path stroke-width=\"1\" stroke=\"black\" d=\"M 188 140 588 160\"/>\n",
       "<path stroke-width=\"1\" stroke=\"black\" d=\"M 188 200 588 180\"/>\n",
       "<path stroke-width=\"1\" stroke=\"black\" d=\"M 188 200 588 120\"/>\n",
       "<path stroke-width=\"1\" stroke=\"black\" d=\"M 188 200 588 140\"/>\n",
       "<path stroke-width=\"1\" stroke=\"black\" d=\"M 188 200 588 200\"/>\n",
       "<path stroke-width=\"1\" stroke=\"black\" d=\"M 188 200 588 220\"/>\n",
       "<path stroke-width=\"1\" stroke=\"black\" d=\"M 188 220 588 260\"/>\n",
       "<path stroke-width=\"1\" stroke=\"black\" d=\"M 188 220 588 320\"/>\n",
       "<path stroke-width=\"1\" stroke=\"black\" d=\"M 188 240 588 260\"/>\n",
       "<path stroke-width=\"1\" stroke=\"black\" d=\"M 188 240 588 280\"/>\n",
       "<path stroke-width=\"1\" stroke=\"black\" d=\"M 188 240 588 300\"/>\n",
       "<path stroke-width=\"1\" stroke=\"black\" d=\"M 188 260 588 280\"/>\n",
       "<path stroke-width=\"1\" stroke=\"black\" d=\"M 188 100 588 140\"/>\n",
       "<path stroke-width=\"1\" stroke=\"black\" d=\"M 188 100 588 100\"/>\n",
       "<circle cx=\"188\" cy=\"260\" r=\"7.0\" style=\"fill:blue;stroke:black;stroke-width:1.0\"/>\n",
       "<circle cx=\"188\" cy=\"240\" r=\"7.0\" style=\"fill:blue;stroke:black;stroke-width:1.0\"/>\n",
       "<circle cx=\"188\" cy=\"220\" r=\"7.0\" style=\"fill:blue;stroke:black;stroke-width:1.0\"/>\n",
       "<circle cx=\"188\" cy=\"200\" r=\"7.0\" style=\"fill:red;stroke:black;stroke-width:1.0\"/>\n",
       "<circle cx=\"188\" cy=\"140\" r=\"7.0\" style=\"fill:red;stroke:black;stroke-width:1.0\"/>\n",
       "<circle cx=\"188\" cy=\"180\" r=\"7.0\" style=\"fill:red;stroke:black;stroke-width:1.0\"/>\n",
       "<circle cx=\"188\" cy=\"79\" r=\"7.0\" style=\"fill:red;stroke:black;stroke-width:1.0\"/>\n",
       "<circle cx=\"188\" cy=\"160\" r=\"7.0\" style=\"fill:red;stroke:black;stroke-width:1.0\"/>\n",
       "<circle cx=\"188\" cy=\"120\" r=\"7.0\" style=\"fill:red;stroke:black;stroke-width:1.0\"/>\n",
       "<circle cx=\"188\" cy=\"100\" r=\"7.0\" style=\"fill:red;stroke:black;stroke-width:1.0\"/>\n",
       "<circle cx=\"588\" cy=\"160\" r=\"7.0\" style=\"fill:red;stroke:black;stroke-width:1.0\"/>\n",
       "<circle cx=\"588\" cy=\"240\" r=\"7.0\" style=\"fill:red;stroke:black;stroke-width:1.0\"/>\n",
       "<circle cx=\"588\" cy=\"40\" r=\"7.0\" style=\"fill:green;stroke:black;stroke-width:1.0\"/>\n",
       "<circle cx=\"588\" cy=\"320\" r=\"7.0\" style=\"fill:blue;stroke:black;stroke-width:1.0\"/>\n",
       "<circle cx=\"588\" cy=\"300\" r=\"7.0\" style=\"fill:blue;stroke:black;stroke-width:1.0\"/>\n",
       "<circle cx=\"588\" cy=\"79\" r=\"7.0\" style=\"fill:red;stroke:black;stroke-width:1.0\"/>\n",
       "<circle cx=\"588\" cy=\"20\" r=\"7.0\" style=\"fill:orange;stroke:black;stroke-width:1.0\"/>\n",
       "<circle cx=\"588\" cy=\"280\" r=\"7.0\" style=\"fill:blue;stroke:black;stroke-width:1.0\"/>\n",
       "<circle cx=\"588\" cy=\"260\" r=\"7.0\" style=\"fill:blue;stroke:black;stroke-width:1.0\"/>\n",
       "<circle cx=\"588\" cy=\"220\" r=\"7.0\" style=\"fill:red;stroke:black;stroke-width:1.0\"/>\n",
       "<circle cx=\"588\" cy=\"200\" r=\"7.0\" style=\"fill:red;stroke:black;stroke-width:1.0\"/>\n",
       "<circle cx=\"588\" cy=\"140\" r=\"7.0\" style=\"fill:red;stroke:black;stroke-width:1.0\"/>\n",
       "<circle cx=\"588\" cy=\"120\" r=\"7.0\" style=\"fill:red;stroke:black;stroke-width:1.0\"/>\n",
       "<circle cx=\"588\" cy=\"59\" r=\"7.0\" style=\"fill:red;stroke:black;stroke-width:1.0\"/>\n",
       "<circle cx=\"588\" cy=\"100\" r=\"7.0\" style=\"fill:red;stroke:black;stroke-width:1.0\"/>\n",
       "<circle cx=\"588\" cy=\"180\" r=\"7.0\" style=\"fill:red;stroke:black;stroke-width:1.0\"/>\n",
       "<text text-anchor=\"end\" x=\"178\" y=\"260\" font-size=\"12\">La La Land</text><text text-anchor=\"end\" x=\"178\" y=\"240\" font-size=\"12\">Crazy Stupid Love</text><text text-anchor=\"end\" x=\"178\" y=\"220\" font-size=\"12\">Vice</text><text text-anchor=\"end\" x=\"178\" y=\"200\" font-size=\"12\">The Grand Budapest Hotel</text><text text-anchor=\"end\" x=\"178\" y=\"140\" font-size=\"12\">Aviator</text><text text-anchor=\"end\" x=\"178\" y=\"180\" font-size=\"12\">007 Spectre</text><text text-anchor=\"end\" x=\"178\" y=\"79\" font-size=\"12\">Inglourious Basterds</text><text text-anchor=\"end\" x=\"178\" y=\"160\" font-size=\"12\">Midnight In Paris</text><text text-anchor=\"end\" x=\"178\" y=\"120\" font-size=\"12\">Murder on the Orient Express</text><text text-anchor=\"end\" x=\"178\" y=\"100\" font-size=\"12\">Fantastic Beasts 2</text><text text-anchor=\"start\" x=\"598\" y=\"160\" font-size=\"12\">Leonardo DiCaprio</text><text text-anchor=\"start\" x=\"598\" y=\"240\" font-size=\"12\">Marion Cotillard</text><text text-anchor=\"start\" x=\"598\" y=\"40\" font-size=\"12\">Joseph Gordon Lewitt</text><text text-anchor=\"start\" x=\"598\" y=\"320\" font-size=\"12\">Christian Bale</text><text text-anchor=\"start\" x=\"598\" y=\"300\" font-size=\"12\">Ryan Gosling</text><text text-anchor=\"start\" x=\"598\" y=\"79\" font-size=\"12\">Brad Pitt</text><text text-anchor=\"start\" x=\"598\" y=\"20\" font-size=\"12\">Carey Mulligan</text><text text-anchor=\"start\" x=\"598\" y=\"280\" font-size=\"12\">Emma Stone</text><text text-anchor=\"start\" x=\"598\" y=\"260\" font-size=\"12\">Steve Carell</text><text text-anchor=\"start\" x=\"598\" y=\"220\" font-size=\"12\">Lea Seydoux</text><text text-anchor=\"start\" x=\"598\" y=\"200\" font-size=\"12\">Ralph Fiennes</text><text text-anchor=\"start\" x=\"598\" y=\"140\" font-size=\"12\">Jude Law</text><text text-anchor=\"start\" x=\"598\" y=\"120\" font-size=\"12\">Willem Dafoe</text><text text-anchor=\"start\" x=\"598\" y=\"59\" font-size=\"12\">Christophe Waltz</text><text text-anchor=\"start\" x=\"598\" y=\"100\" font-size=\"12\">Johnny Depp</text><text text-anchor=\"start\" x=\"598\" y=\"180\" font-size=\"12\">Owen Wilson</text></svg>"
      ],
      "text/plain": [
       "<IPython.core.display.SVG object>"
      ]
     },
     "execution_count": 28,
     "metadata": {},
     "output_type": "execute_result"
    }
   ],
   "source": [
    "image = visualize_bigraph(biadjacency, names_row, names_col, labels_row, labels_col)\n",
    "SVG(image)"
   ]
  },
  {
   "cell_type": "code",
   "execution_count": 29,
   "metadata": {},
   "outputs": [],
   "source": [
    "# largest connected component\n",
    "new_biadjacency, index = get_largest_connected_component(biadjacency, force_bipartite=True, return_index=True)"
   ]
  },
  {
   "cell_type": "code",
   "execution_count": 30,
   "metadata": {},
   "outputs": [],
   "source": [
    "n_row, n_col = new_biadjacency.shape\n",
    "index_row = index[:n_row]\n",
    "index_col = index[n_row:]"
   ]
  },
  {
   "cell_type": "code",
   "execution_count": 32,
   "metadata": {},
   "outputs": [
    {
     "data": {
      "image/svg+xml": [
       "<svg xmlns=\"http://www.w3.org/2000/svg\" width=\"710.0\" height=\"340\">\n",
       "<path stroke-width=\"1\" stroke=\"black\" d=\"M 188 170 588 186\"/>\n",
       "<path stroke-width=\"1\" stroke=\"black\" d=\"M 188 236 588 220\"/>\n",
       "<path stroke-width=\"1\" stroke=\"black\" d=\"M 188 236 588 253\"/>\n",
       "<path stroke-width=\"1\" stroke=\"black\" d=\"M 188 103 588 86\"/>\n",
       "<path stroke-width=\"1\" stroke=\"black\" d=\"M 188 103 588 186\"/>\n",
       "<path stroke-width=\"1\" stroke=\"black\" d=\"M 188 103 588 120\"/>\n",
       "<path stroke-width=\"1\" stroke=\"black\" d=\"M 188 69 588 20\"/>\n",
       "<path stroke-width=\"1\" stroke=\"black\" d=\"M 188 69 588 186\"/>\n",
       "<path stroke-width=\"1\" stroke=\"black\" d=\"M 188 69 588 53\"/>\n",
       "<path stroke-width=\"1\" stroke=\"black\" d=\"M 188 203 588 286\"/>\n",
       "<path stroke-width=\"1\" stroke=\"black\" d=\"M 188 136 588 20\"/>\n",
       "<path stroke-width=\"1\" stroke=\"black\" d=\"M 188 136 588 186\"/>\n",
       "<path stroke-width=\"1\" stroke=\"black\" d=\"M 188 270 588 253\"/>\n",
       "<path stroke-width=\"1\" stroke=\"black\" d=\"M 188 270 588 286\"/>\n",
       "<path stroke-width=\"1\" stroke=\"black\" d=\"M 188 270 588 320\"/>\n",
       "<path stroke-width=\"1\" stroke=\"black\" d=\"M 188 170 588 86\"/>\n",
       "<path stroke-width=\"1\" stroke=\"black\" d=\"M 188 170 588 253\"/>\n",
       "<path stroke-width=\"1\" stroke=\"black\" d=\"M 188 170 588 286\"/>\n",
       "<path stroke-width=\"1\" stroke=\"black\" d=\"M 188 170 588 153\"/>\n",
       "<path stroke-width=\"1\" stroke=\"black\" d=\"M 188 136 588 153\"/>\n",
       "<path stroke-width=\"1\" stroke=\"black\" d=\"M 188 203 588 220\"/>\n",
       "<circle cx=\"188\" cy=\"170\" r=\"7.0\" style=\"fill:gray;stroke:black;stroke-width:1.0\"/>\n",
       "<circle cx=\"188\" cy=\"270\" r=\"7.0\" style=\"fill:gray;stroke:black;stroke-width:1.0\"/>\n",
       "<circle cx=\"188\" cy=\"136\" r=\"7.0\" style=\"fill:gray;stroke:black;stroke-width:1.0\"/>\n",
       "<circle cx=\"188\" cy=\"69\" r=\"7.0\" style=\"fill:gray;stroke:black;stroke-width:1.0\"/>\n",
       "<circle cx=\"188\" cy=\"103\" r=\"7.0\" style=\"fill:gray;stroke:black;stroke-width:1.0\"/>\n",
       "<circle cx=\"188\" cy=\"236\" r=\"7.0\" style=\"fill:gray;stroke:black;stroke-width:1.0\"/>\n",
       "<circle cx=\"188\" cy=\"203\" r=\"7.0\" style=\"fill:gray;stroke:black;stroke-width:1.0\"/>\n",
       "<circle cx=\"588\" cy=\"320\" r=\"7.0\" style=\"fill:gray;stroke:black;stroke-width:1.0\"/>\n",
       "<circle cx=\"588\" cy=\"120\" r=\"7.0\" style=\"fill:gray;stroke:black;stroke-width:1.0\"/>\n",
       "<circle cx=\"588\" cy=\"53\" r=\"7.0\" style=\"fill:gray;stroke:black;stroke-width:1.0\"/>\n",
       "<circle cx=\"588\" cy=\"186\" r=\"7.0\" style=\"fill:gray;stroke:black;stroke-width:1.0\"/>\n",
       "<circle cx=\"588\" cy=\"153\" r=\"7.0\" style=\"fill:gray;stroke:black;stroke-width:1.0\"/>\n",
       "<circle cx=\"588\" cy=\"286\" r=\"7.0\" style=\"fill:gray;stroke:black;stroke-width:1.0\"/>\n",
       "<circle cx=\"588\" cy=\"253\" r=\"7.0\" style=\"fill:gray;stroke:black;stroke-width:1.0\"/>\n",
       "<circle cx=\"588\" cy=\"20\" r=\"7.0\" style=\"fill:gray;stroke:black;stroke-width:1.0\"/>\n",
       "<circle cx=\"588\" cy=\"220\" r=\"7.0\" style=\"fill:gray;stroke:black;stroke-width:1.0\"/>\n",
       "<circle cx=\"588\" cy=\"86\" r=\"7.0\" style=\"fill:gray;stroke:black;stroke-width:1.0\"/>\n",
       "<text text-anchor=\"end\" x=\"178\" y=\"170\" font-size=\"12\">The Grand Budapest Hotel</text><text text-anchor=\"end\" x=\"178\" y=\"270\" font-size=\"12\">Aviator</text><text text-anchor=\"end\" x=\"178\" y=\"136\" font-size=\"12\">007 Spectre</text><text text-anchor=\"end\" x=\"178\" y=\"69\" font-size=\"12\">Inglourious Basterds</text><text text-anchor=\"end\" x=\"178\" y=\"103\" font-size=\"12\">Midnight In Paris</text><text text-anchor=\"end\" x=\"178\" y=\"236\" font-size=\"12\">Murder on the Orient Express</text><text text-anchor=\"end\" x=\"178\" y=\"203\" font-size=\"12\">Fantastic Beasts 2</text><text text-anchor=\"start\" x=\"598\" y=\"320\" font-size=\"12\">Leonardo DiCaprio</text><text text-anchor=\"start\" x=\"598\" y=\"120\" font-size=\"12\">Marion Cotillard</text><text text-anchor=\"start\" x=\"598\" y=\"53\" font-size=\"12\">Brad Pitt</text><text text-anchor=\"start\" x=\"598\" y=\"186\" font-size=\"12\">Lea Seydoux</text><text text-anchor=\"start\" x=\"598\" y=\"153\" font-size=\"12\">Ralph Fiennes</text><text text-anchor=\"start\" x=\"598\" y=\"286\" font-size=\"12\">Jude Law</text><text text-anchor=\"start\" x=\"598\" y=\"253\" font-size=\"12\">Willem Dafoe</text><text text-anchor=\"start\" x=\"598\" y=\"20\" font-size=\"12\">Christophe Waltz</text><text text-anchor=\"start\" x=\"598\" y=\"220\" font-size=\"12\">Johnny Depp</text><text text-anchor=\"start\" x=\"598\" y=\"86\" font-size=\"12\">Owen Wilson</text></svg>"
      ],
      "text/plain": [
       "<IPython.core.display.SVG object>"
      ]
     },
     "execution_count": 32,
     "metadata": {},
     "output_type": "execute_result"
    }
   ],
   "source": [
    "image = visualize_bigraph(new_biadjacency, names_row[index_row], names_col[index_col])\n",
    "SVG(image)"
   ]
  }
 ],
 "metadata": {
  "kernelspec": {
   "display_name": "Python 3 (ipykernel)",
   "language": "python",
   "name": "python3"
  },
  "language_info": {
   "codemirror_mode": {
    "name": "ipython",
    "version": 3
   },
   "file_extension": ".py",
   "mimetype": "text/x-python",
   "name": "python",
   "nbconvert_exporter": "python",
   "pygments_lexer": "ipython3",
   "version": "3.9.13"
  },
  "toc": {
   "base_numbering": 1,
   "nav_menu": {},
   "number_sections": true,
   "sideBar": true,
   "skip_h1_title": false,
   "title_cell": "Table of Contents",
   "title_sidebar": "Contents",
   "toc_cell": false,
   "toc_position": {},
   "toc_section_display": true,
   "toc_window_display": false
  }
 },
 "nbformat": 4,
 "nbformat_minor": 2
}
