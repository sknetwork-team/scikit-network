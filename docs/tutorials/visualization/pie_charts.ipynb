{
 "cells": [
  {
   "cell_type": "markdown",
   "metadata": {
    "pycharm": {
     "name": "#%% md\n"
    }
   },
   "source": [
    "# Pie-chart nodes\n",
    "\n",
    "Visualization of membership matrices with pie-chart nodes."
   ]
  },
  {
   "cell_type": "code",
   "execution_count": 12,
   "metadata": {
    "pycharm": {
     "name": "#%%\n"
    }
   },
   "outputs": [],
   "source": [
    "from IPython.display import SVG\n",
    "from scipy import sparse"
   ]
  },
  {
   "cell_type": "code",
   "execution_count": 32,
   "metadata": {
    "pycharm": {
     "name": "#%%\n"
    }
   },
   "outputs": [],
   "source": [
    "from sknetwork.data import bow_tie, karate_club, painters\n",
    "from sknetwork.visualization import visualize_graph\n",
    "from sknetwork.clustering import Louvain"
   ]
  },
  {
   "cell_type": "markdown",
   "metadata": {
    "pycharm": {
     "name": "#%% md\n"
    }
   },
   "source": [
    "## Graphs"
   ]
  },
  {
   "cell_type": "code",
   "execution_count": 33,
   "metadata": {
    "pycharm": {
     "name": "#%%\n"
    }
   },
   "outputs": [],
   "source": [
    "graph = bow_tie(True)\n",
    "adjacency = graph.adjacency\n",
    "position = graph.position"
   ]
  },
  {
   "cell_type": "code",
   "execution_count": 34,
   "metadata": {
    "pycharm": {
     "name": "#%%\n"
    }
   },
   "outputs": [],
   "source": [
    "# probabilities\n",
    "probs = [.5, 0, 0, 1, 1]\n",
    "probs = sparse.csr_matrix([[p, 1-p] for p in probs])"
   ]
  },
  {
   "cell_type": "code",
   "execution_count": 35,
   "metadata": {
    "pycharm": {
     "name": "#%%\n"
    }
   },
   "outputs": [
    {
     "data": {
      "image/svg+xml": [
       "<svg xmlns=\"http://www.w3.org/2000/svg\" width=\"440\" height=\"340\">\n",
       "<path stroke-width=\"1\" stroke=\"black\" d=\"M 220 170 20 20\"/>\n",
       "<path stroke-width=\"1\" stroke=\"black\" d=\"M 220 170 420 20\"/>\n",
       "<path stroke-width=\"1\" stroke=\"black\" d=\"M 220 170 20 320\"/>\n",
       "<path stroke-width=\"1\" stroke=\"black\" d=\"M 220 170 420 320\"/>\n",
       "<path stroke-width=\"1\" stroke=\"black\" d=\"M 20 20 220 170\"/>\n",
       "<path stroke-width=\"1\" stroke=\"black\" d=\"M 20 20 420 20\"/>\n",
       "<path stroke-width=\"1\" stroke=\"black\" d=\"M 420 20 220 170\"/>\n",
       "<path stroke-width=\"1\" stroke=\"black\" d=\"M 420 20 20 20\"/>\n",
       "<path stroke-width=\"1\" stroke=\"black\" d=\"M 20 320 220 170\"/>\n",
       "<path stroke-width=\"1\" stroke=\"black\" d=\"M 20 320 420 320\"/>\n",
       "<path stroke-width=\"1\" stroke=\"black\" d=\"M 420 320 220 170\"/>\n",
       "<path stroke-width=\"1\" stroke=\"black\" d=\"M 420 320 20 320\"/>\n",
       "<path d=\"M 230.0 170.0 A 10.0 10.0 0 0 1 210.0 170.0 L 220.0 170.0\" style=\"fill:blue;stroke:black;stroke-width:1.0\"/>\n",
       "<path d=\"M 210.0 170.0 A 10.0 10.0 0 0 1 230.0 170.0 L 220.0 170.0\" style=\"fill:red;stroke:black;stroke-width:1.0\"/>\n",
       "<circle cx=\"20\" cy=\"20\" r=\"10.0\" style=\"fill:red;stroke:black;stroke-width:1.0\"/>\n",
       "<circle cx=\"420\" cy=\"20\" r=\"10.0\" style=\"fill:red;stroke:black;stroke-width:1.0\"/>\n",
       "<circle cx=\"20\" cy=\"320\" r=\"10.0\" style=\"fill:blue;stroke:black;stroke-width:1.0\"/>\n",
       "<circle cx=\"420\" cy=\"320\" r=\"10.0\" style=\"fill:blue;stroke:black;stroke-width:1.0\"/>\n",
       "</svg>"
      ],
      "text/plain": [
       "<IPython.core.display.SVG object>"
      ]
     },
     "execution_count": 35,
     "metadata": {},
     "output_type": "execute_result"
    }
   ],
   "source": [
    "image = visualize_graph(adjacency, position, probs=probs, node_size=10)\n",
    "SVG(image)"
   ]
  },
  {
   "cell_type": "code",
   "execution_count": 36,
   "metadata": {
    "pycharm": {
     "name": "#%%\n"
    }
   },
   "outputs": [],
   "source": [
    "graph = karate_club(True)\n",
    "adjacency = graph.adjacency\n",
    "position = graph.position"
   ]
  },
  {
   "cell_type": "code",
   "execution_count": 37,
   "metadata": {
    "pycharm": {
     "name": "#%%\n"
    }
   },
   "outputs": [],
   "source": [
    "# soft clustering\n",
    "louvain = Louvain()\n",
    "probs = louvain.fit_predict_proba(adjacency)"
   ]
  },
  {
   "cell_type": "code",
   "execution_count": 38,
   "metadata": {
    "pycharm": {
     "name": "#%%\n"
    }
   },
   "outputs": [
    {
     "data": {
      "image/svg+xml": [
       "<svg xmlns=\"http://www.w3.org/2000/svg\" width=\"440\" height=\"340\">\n",
       "<path stroke-width=\"1\" stroke=\"black\" d=\"M 264 200 353 168\"/>\n",
       "<path stroke-width=\"1\" stroke=\"black\" d=\"M 20 116 153 125\"/>\n",
       "<path stroke-width=\"1\" stroke=\"black\" d=\"M 28 91 131 68\"/>\n",
       "<path stroke-width=\"1\" stroke=\"black\" d=\"M 28 91 20 116\"/>\n",
       "<path stroke-width=\"1\" stroke=\"black\" d=\"M 28 91 153 125\"/>\n",
       "<path stroke-width=\"1\" stroke=\"black\" d=\"M 162 20 171 45\"/>\n",
       "<path stroke-width=\"1\" stroke=\"black\" d=\"M 162 20 246 82\"/>\n",
       "<path stroke-width=\"1\" stroke=\"black\" d=\"M 122 103 251 143\"/>\n",
       "<path stroke-width=\"1\" stroke=\"black\" d=\"M 122 103 131 68\"/>\n",
       "<path stroke-width=\"1\" stroke=\"black\" d=\"M 122 103 20 116\"/>\n",
       "<path stroke-width=\"1\" stroke=\"black\" d=\"M 122 103 246 82\"/>\n",
       "<path stroke-width=\"1\" stroke=\"black\" d=\"M 197 120 251 143\"/>\n",
       "<path stroke-width=\"1\" stroke=\"black\" d=\"M 197 120 153 125\"/>\n",
       "<path stroke-width=\"1\" stroke=\"black\" d=\"M 197 120 246 82\"/>\n",
       "<path stroke-width=\"1\" stroke=\"black\" d=\"M 171 45 131 68\"/>\n",
       "<path stroke-width=\"1\" stroke=\"black\" d=\"M 171 45 162 20\"/>\n",
       "<path stroke-width=\"1\" stroke=\"black\" d=\"M 20 116 122 103\"/>\n",
       "<path stroke-width=\"1\" stroke=\"black\" d=\"M 20 116 28 91\"/>\n",
       "<path stroke-width=\"1\" stroke=\"black\" d=\"M 131 68 246 82\"/>\n",
       "<path stroke-width=\"1\" stroke=\"black\" d=\"M 131 68 260 73\"/>\n",
       "<path stroke-width=\"1\" stroke=\"black\" d=\"M 388 216 264 200\"/>\n",
       "<path stroke-width=\"1\" stroke=\"black\" d=\"M 388 216 353 168\"/>\n",
       "<path stroke-width=\"1\" stroke=\"black\" d=\"M 313 34 260 73\"/>\n",
       "<path stroke-width=\"1\" stroke=\"black\" d=\"M 313 34 246 82\"/>\n",
       "<path stroke-width=\"1\" stroke=\"black\" d=\"M 331 143 264 200\"/>\n",
       "<path stroke-width=\"1\" stroke=\"black\" d=\"M 331 143 353 168\"/>\n",
       "<path stroke-width=\"1\" stroke=\"black\" d=\"M 331 143 246 82\"/>\n",
       "<path stroke-width=\"1\" stroke=\"black\" d=\"M 171 45 260 73\"/>\n",
       "<path stroke-width=\"1\" stroke=\"black\" d=\"M 366 61 260 73\"/>\n",
       "<path stroke-width=\"1\" stroke=\"black\" d=\"M 420 202 264 200\"/>\n",
       "<path stroke-width=\"1\" stroke=\"black\" d=\"M 420 202 353 168\"/>\n",
       "<path stroke-width=\"1\" stroke=\"black\" d=\"M 228 32 260 73\"/>\n",
       "<path stroke-width=\"1\" stroke=\"black\" d=\"M 228 32 246 82\"/>\n",
       "<path stroke-width=\"1\" stroke=\"black\" d=\"M 131 68 28 91\"/>\n",
       "<path stroke-width=\"1\" stroke=\"black\" d=\"M 131 68 122 103\"/>\n",
       "<path stroke-width=\"1\" stroke=\"black\" d=\"M 131 68 171 45\"/>\n",
       "<path stroke-width=\"1\" stroke=\"black\" d=\"M 366 61 246 82\"/>\n",
       "<path stroke-width=\"1\" stroke=\"black\" d=\"M 220 320 264 277\"/>\n",
       "<path stroke-width=\"1\" stroke=\"black\" d=\"M 171 45 246 82\"/>\n",
       "<path stroke-width=\"1\" stroke=\"black\" d=\"M 344 107 282 125\"/>\n",
       "<path stroke-width=\"1\" stroke=\"black\" d=\"M 246 82 282 125\"/>\n",
       "<path stroke-width=\"1\" stroke=\"black\" d=\"M 246 82 197 100\"/>\n",
       "<path stroke-width=\"1\" stroke=\"black\" d=\"M 246 82 282 153\"/>\n",
       "<path stroke-width=\"1\" stroke=\"black\" d=\"M 246 82 348 43\"/>\n",
       "<path stroke-width=\"1\" stroke=\"black\" d=\"M 246 82 273 27\"/>\n",
       "<path stroke-width=\"1\" stroke=\"black\" d=\"M 246 82 313 34\"/>\n",
       "<path stroke-width=\"1\" stroke=\"black\" d=\"M 246 82 331 143\"/>\n",
       "<path stroke-width=\"1\" stroke=\"black\" d=\"M 246 82 366 61\"/>\n",
       "<path stroke-width=\"1\" stroke=\"black\" d=\"M 246 82 228 32\"/>\n",
       "<path stroke-width=\"1\" stroke=\"black\" d=\"M 246 82 131 68\"/>\n",
       "<path stroke-width=\"1\" stroke=\"black\" d=\"M 246 82 162 20\"/>\n",
       "<path stroke-width=\"1\" stroke=\"black\" d=\"M 246 82 122 103\"/>\n",
       "<path stroke-width=\"1\" stroke=\"black\" d=\"M 246 82 197 120\"/>\n",
       "<path stroke-width=\"1\" stroke=\"black\" d=\"M 246 82 171 45\"/>\n",
       "<path stroke-width=\"1\" stroke=\"black\" d=\"M 246 82 344 107\"/>\n",
       "<path stroke-width=\"1\" stroke=\"black\" d=\"M 260 73 246 82\"/>\n",
       "<path stroke-width=\"1\" stroke=\"black\" d=\"M 260 73 153 125\"/>\n",
       "<path stroke-width=\"1\" stroke=\"black\" d=\"M 260 73 344 107\"/>\n",
       "<path stroke-width=\"1\" stroke=\"black\" d=\"M 260 73 171 45\"/>\n",
       "<path stroke-width=\"1\" stroke=\"black\" d=\"M 344 107 260 73\"/>\n",
       "<path stroke-width=\"1\" stroke=\"black\" d=\"M 344 107 246 82\"/>\n",
       "<path stroke-width=\"1\" stroke=\"black\" d=\"M 153 125 264 200\"/>\n",
       "<path stroke-width=\"1\" stroke=\"black\" d=\"M 153 125 20 116\"/>\n",
       "<path stroke-width=\"1\" stroke=\"black\" d=\"M 153 125 28 91\"/>\n",
       "<path stroke-width=\"1\" stroke=\"black\" d=\"M 153 125 197 120\"/>\n",
       "<path stroke-width=\"1\" stroke=\"black\" d=\"M 153 125 260 73\"/>\n",
       "<path stroke-width=\"1\" stroke=\"black\" d=\"M 344 107 353 168\"/>\n",
       "<path stroke-width=\"1\" stroke=\"black\" d=\"M 153 125 246 82\"/>\n",
       "<path stroke-width=\"1\" stroke=\"black\" d=\"M 260 73 282 125\"/>\n",
       "<path stroke-width=\"1\" stroke=\"black\" d=\"M 260 73 348 43\"/>\n",
       "<path stroke-width=\"1\" stroke=\"black\" d=\"M 260 73 273 27\"/>\n",
       "<path stroke-width=\"1\" stroke=\"black\" d=\"M 260 73 313 34\"/>\n",
       "<path stroke-width=\"1\" stroke=\"black\" d=\"M 260 73 366 61\"/>\n",
       "<path stroke-width=\"1\" stroke=\"black\" d=\"M 260 73 228 32\"/>\n",
       "<path stroke-width=\"1\" stroke=\"black\" d=\"M 260 73 131 68\"/>\n",
       "<path stroke-width=\"1\" stroke=\"black\" d=\"M 260 73 251 143\"/>\n",
       "<path stroke-width=\"1\" stroke=\"black\" d=\"M 220 320 211 275\"/>\n",
       "<path stroke-width=\"1\" stroke=\"black\" d=\"M 273 27 246 82\"/>\n",
       "<path stroke-width=\"1\" stroke=\"black\" d=\"M 273 27 260 73\"/>\n",
       "<path stroke-width=\"1\" stroke=\"black\" d=\"M 353 168 388 216\"/>\n",
       "<path stroke-width=\"1\" stroke=\"black\" d=\"M 353 168 331 143\"/>\n",
       "<path stroke-width=\"1\" stroke=\"black\" d=\"M 353 168 420 202\"/>\n",
       "<path stroke-width=\"1\" stroke=\"black\" d=\"M 353 168 344 107\"/>\n",
       "<path stroke-width=\"1\" stroke=\"black\" d=\"M 251 143 264 200\"/>\n",
       "<path stroke-width=\"1\" stroke=\"black\" d=\"M 251 143 353 168\"/>\n",
       "<path stroke-width=\"1\" stroke=\"black\" d=\"M 251 143 304 191\"/>\n",
       "<path stroke-width=\"1\" stroke=\"black\" d=\"M 251 143 340 186\"/>\n",
       "<path stroke-width=\"1\" stroke=\"black\" d=\"M 251 143 282 125\"/>\n",
       "<path stroke-width=\"1\" stroke=\"black\" d=\"M 251 143 197 100\"/>\n",
       "<path stroke-width=\"1\" stroke=\"black\" d=\"M 251 143 282 153\"/>\n",
       "<path stroke-width=\"1\" stroke=\"black\" d=\"M 251 143 122 103\"/>\n",
       "<path stroke-width=\"1\" stroke=\"black\" d=\"M 251 143 197 120\"/>\n",
       "<path stroke-width=\"1\" stroke=\"black\" d=\"M 251 143 260 73\"/>\n",
       "<path stroke-width=\"1\" stroke=\"black\" d=\"M 304 191 264 200\"/>\n",
       "<path stroke-width=\"1\" stroke=\"black\" d=\"M 353 168 282 153\"/>\n",
       "<path stroke-width=\"1\" stroke=\"black\" d=\"M 353 168 340 186\"/>\n",
       "<path stroke-width=\"1\" stroke=\"black\" d=\"M 353 168 304 191\"/>\n",
       "<path stroke-width=\"1\" stroke=\"black\" d=\"M 353 168 251 143\"/>\n",
       "<path stroke-width=\"1\" stroke=\"black\" d=\"M 264 200 251 143\"/>\n",
       "<path stroke-width=\"1\" stroke=\"black\" d=\"M 264 200 304 191\"/>\n",
       "<path stroke-width=\"1\" stroke=\"black\" d=\"M 264 200 255 255\"/>\n",
       "<path stroke-width=\"1\" stroke=\"black\" d=\"M 264 200 211 275\"/>\n",
       "<path stroke-width=\"1\" stroke=\"black\" d=\"M 264 200 264 277\"/>\n",
       "<path stroke-width=\"1\" stroke=\"black\" d=\"M 264 200 340 186\"/>\n",
       "<path stroke-width=\"1\" stroke=\"black\" d=\"M 264 200 282 125\"/>\n",
       "<path stroke-width=\"1\" stroke=\"black\" d=\"M 304 191 353 168\"/>\n",
       "<path stroke-width=\"1\" stroke=\"black\" d=\"M 264 200 188 252\"/>\n",
       "<path stroke-width=\"1\" stroke=\"black\" d=\"M 264 200 335 236\"/>\n",
       "<path stroke-width=\"1\" stroke=\"black\" d=\"M 264 200 282 153\"/>\n",
       "<path stroke-width=\"1\" stroke=\"black\" d=\"M 264 200 388 216\"/>\n",
       "<path stroke-width=\"1\" stroke=\"black\" d=\"M 264 200 331 143\"/>\n",
       "<path stroke-width=\"1\" stroke=\"black\" d=\"M 264 200 420 202\"/>\n",
       "<path stroke-width=\"1\" stroke=\"black\" d=\"M 264 200 153 125\"/>\n",
       "<path stroke-width=\"1\" stroke=\"black\" d=\"M 353 168 264 200\"/>\n",
       "<path stroke-width=\"1\" stroke=\"black\" d=\"M 264 200 122 212\"/>\n",
       "<path stroke-width=\"1\" stroke=\"black\" d=\"M 304 191 251 143\"/>\n",
       "<path stroke-width=\"1\" stroke=\"black\" d=\"M 304 191 340 186\"/>\n",
       "<path stroke-width=\"1\" stroke=\"black\" d=\"M 304 191 335 236\"/>\n",
       "<path stroke-width=\"1\" stroke=\"black\" d=\"M 282 125 246 82\"/>\n",
       "<path stroke-width=\"1\" stroke=\"black\" d=\"M 197 100 251 143\"/>\n",
       "<path stroke-width=\"1\" stroke=\"black\" d=\"M 197 100 246 82\"/>\n",
       "<path stroke-width=\"1\" stroke=\"black\" d=\"M 188 252 264 200\"/>\n",
       "<path stroke-width=\"1\" stroke=\"black\" d=\"M 188 252 255 255\"/>\n",
       "<path stroke-width=\"1\" stroke=\"black\" d=\"M 188 252 211 275\"/>\n",
       "<path stroke-width=\"1\" stroke=\"black\" d=\"M 122 212 264 200\"/>\n",
       "<path stroke-width=\"1\" stroke=\"black\" d=\"M 282 125 260 73\"/>\n",
       "<path stroke-width=\"1\" stroke=\"black\" d=\"M 335 236 264 200\"/>\n",
       "<path stroke-width=\"1\" stroke=\"black\" d=\"M 282 153 264 200\"/>\n",
       "<path stroke-width=\"1\" stroke=\"black\" d=\"M 282 153 353 168\"/>\n",
       "<path stroke-width=\"1\" stroke=\"black\" d=\"M 282 153 251 143\"/>\n",
       "<path stroke-width=\"1\" stroke=\"black\" d=\"M 282 153 304 191\"/>\n",
       "<path stroke-width=\"1\" stroke=\"black\" d=\"M 282 153 246 82\"/>\n",
       "<path stroke-width=\"1\" stroke=\"black\" d=\"M 348 43 260 73\"/>\n",
       "<path stroke-width=\"1\" stroke=\"black\" d=\"M 348 43 246 82\"/>\n",
       "<path stroke-width=\"1\" stroke=\"black\" d=\"M 335 236 304 191\"/>\n",
       "<path stroke-width=\"1\" stroke=\"black\" d=\"M 246 82 153 125\"/>\n",
       "<path stroke-width=\"1\" stroke=\"black\" d=\"M 282 125 344 107\"/>\n",
       "<path stroke-width=\"1\" stroke=\"black\" d=\"M 282 125 264 200\"/>\n",
       "<path stroke-width=\"1\" stroke=\"black\" d=\"M 304 191 282 153\"/>\n",
       "<path stroke-width=\"1\" stroke=\"black\" d=\"M 255 255 264 200\"/>\n",
       "<path stroke-width=\"1\" stroke=\"black\" d=\"M 255 255 264 277\"/>\n",
       "<path stroke-width=\"1\" stroke=\"black\" d=\"M 255 255 188 252\"/>\n",
       "<path stroke-width=\"1\" stroke=\"black\" d=\"M 211 275 264 200\"/>\n",
       "<path stroke-width=\"1\" stroke=\"black\" d=\"M 211 275 264 277\"/>\n",
       "<path stroke-width=\"1\" stroke=\"black\" d=\"M 211 275 188 252\"/>\n",
       "<path stroke-width=\"1\" stroke=\"black\" d=\"M 282 125 251 143\"/>\n",
       "<path stroke-width=\"1\" stroke=\"black\" d=\"M 211 275 220 320\"/>\n",
       "<path stroke-width=\"1\" stroke=\"black\" d=\"M 264 277 255 255\"/>\n",
       "<path stroke-width=\"1\" stroke=\"black\" d=\"M 264 277 211 275\"/>\n",
       "<path stroke-width=\"1\" stroke=\"black\" d=\"M 264 277 220 320\"/>\n",
       "<path stroke-width=\"1\" stroke=\"black\" d=\"M 340 186 264 200\"/>\n",
       "<path stroke-width=\"1\" stroke=\"black\" d=\"M 340 186 353 168\"/>\n",
       "<path stroke-width=\"1\" stroke=\"black\" d=\"M 340 186 251 143\"/>\n",
       "<path stroke-width=\"1\" stroke=\"black\" d=\"M 340 186 304 191\"/>\n",
       "<path stroke-width=\"1\" stroke=\"black\" d=\"M 264 277 264 200\"/>\n",
       "<path stroke-width=\"1\" stroke=\"black\" d=\"M 246 82 260 73\"/>\n",
       "<path d=\"M 271.44444444444446 200.3571428571429 A 7.0 7.0 0 1 1 259.49469697613864 195.40739538883705 L 264.44444444444446 200.3571428571429\" style=\"fill:blue;stroke:black;stroke-width:1.0\"/>\n",
       "<path d=\"M 259.49469697613864 195.40739538883705 A 7.0 7.0 0 0 1 261.76566041788885 193.88998612956388 L 264.44444444444446 200.3571428571429\" style=\"fill:red;stroke:black;stroke-width:1.0\"/>\n",
       "<path d=\"M 261.76566041788885 193.88998612956388 A 7.0 7.0 0 0 1 264.44444444444446 193.3571428571429 L 264.44444444444446 200.3571428571429\" style=\"fill:green;stroke:black;stroke-width:1.0\"/>\n",
       "<path d=\"M 264.44444444444446 193.3571428571429 A 7.0 7.0 0 0 1 271.44444444444446 200.3571428571429 L 264.44444444444446 200.3571428571429\" style=\"fill:orange;stroke:black;stroke-width:1.0\"/>\n",
       "<path d=\"M 360.3333333333333 168.21428571428572 A 7.0 7.0 0 1 1 358.6956444351662 163.71477244647994 L 353.3333333333333 168.21428571428572\" style=\"fill:blue;stroke:black;stroke-width:1.0\"/>\n",
       "<path d=\"M 358.6956444351662 163.71477244647994 A 7.0 7.0 0 0 1 360.3333333333333 168.21428571428572 L 353.3333333333333 168.21428571428572\" style=\"fill:red;stroke:black;stroke-width:1.0\"/>\n",
       "<path d=\"M 360.3333333333333 168.21428571428572 A 7.0 7.0 0 0 1 360.3333333333333 168.21428571428572 L 353.3333333333333 168.21428571428572\" style=\"fill:green;stroke:black;stroke-width:1.0\"/>\n",
       "<path d=\"M 360.3333333333333 168.21428571428572 A 7.0 7.0 0 0 1 360.3333333333333 168.21428571428572 L 353.3333333333333 168.21428571428572\" style=\"fill:orange;stroke:black;stroke-width:1.0\"/>\n",
       "<path d=\"M 258.11111111111114 143.21428571428572 A 7.0 7.0 0 1 1 245.4479921504865 139.0997889482384 L 251.11111111111114 143.21428571428572\" style=\"fill:blue;stroke:black;stroke-width:1.0\"/>\n",
       "<path d=\"M 245.4479921504865 139.0997889482384 A 7.0 7.0 0 0 1 253.2742300717358 136.55689010021965 L 251.11111111111114 143.21428571428572\" style=\"fill:red;stroke:black;stroke-width:1.0\"/>\n",
       "<path d=\"M 253.2742300717358 136.55689010021965 A 7.0 7.0 0 0 1 258.11111111111114 143.21428571428572 L 251.11111111111114 143.21428571428572\" style=\"fill:green;stroke:black;stroke-width:1.0\"/>\n",
       "<path d=\"M 258.11111111111114 143.21428571428572 A 7.0 7.0 0 0 1 258.11111111111114 143.21428571428572 L 251.11111111111114 143.21428571428572\" style=\"fill:orange;stroke:black;stroke-width:1.0\"/>\n",
       "<circle cx=\"304\" cy=\"191\" r=\"7.0\" style=\"fill:blue;stroke:black;stroke-width:1.0\"/>\n",
       "<path d=\"M 262.55555555555554 255.71428571428575 A 7.0 7.0 0 0 1 252.05555555555557 261.77646354077683 L 255.55555555555557 255.71428571428575\" style=\"fill:blue;stroke:black;stroke-width:1.0\"/>\n",
       "<path d=\"M 252.05555555555557 261.77646354077683 A 7.0 7.0 0 0 1 252.05555555555557 261.77646354077683 L 255.55555555555557 255.71428571428575\" style=\"fill:red;stroke:black;stroke-width:1.0\"/>\n",
       "<path d=\"M 252.05555555555557 261.77646354077683 A 7.0 7.0 0 0 1 252.05555555555557 261.77646354077683 L 255.55555555555557 255.71428571428575\" style=\"fill:green;stroke:black;stroke-width:1.0\"/>\n",
       "<path d=\"M 252.05555555555557 261.77646354077683 A 7.0 7.0 0 1 1 262.55555555555554 255.71428571428575 L 255.55555555555557 255.71428571428575\" style=\"fill:orange;stroke:black;stroke-width:1.0\"/>\n",
       "<path d=\"M 218.1111111111111 275.3571428571429 A 7.0 7.0 0 0 1 211.1111111111111 282.3571428571429 L 211.1111111111111 275.3571428571429\" style=\"fill:blue;stroke:black;stroke-width:1.0\"/>\n",
       "<path d=\"M 211.1111111111111 282.3571428571429 A 7.0 7.0 0 0 1 211.1111111111111 282.3571428571429 L 211.1111111111111 275.3571428571429\" style=\"fill:red;stroke:black;stroke-width:1.0\"/>\n",
       "<path d=\"M 211.1111111111111 282.3571428571429 A 7.0 7.0 0 0 1 211.1111111111111 282.3571428571429 L 211.1111111111111 275.3571428571429\" style=\"fill:green;stroke:black;stroke-width:1.0\"/>\n",
       "<path d=\"M 211.1111111111111 282.3571428571429 A 7.0 7.0 0 1 1 218.1111111111111 275.3571428571429 L 211.1111111111111 275.3571428571429\" style=\"fill:orange;stroke:black;stroke-width:1.0\"/>\n",
       "<path d=\"M 271.44444444444446 277.14285714285717 A 7.0 7.0 0 0 1 264.44444444444446 284.14285714285717 L 264.44444444444446 277.14285714285717\" style=\"fill:blue;stroke:black;stroke-width:1.0\"/>\n",
       "<path d=\"M 264.44444444444446 284.14285714285717 A 7.0 7.0 0 0 1 264.44444444444446 284.14285714285717 L 264.44444444444446 277.14285714285717\" style=\"fill:red;stroke:black;stroke-width:1.0\"/>\n",
       "<path d=\"M 264.44444444444446 284.14285714285717 A 7.0 7.0 0 0 1 264.44444444444446 284.14285714285717 L 264.44444444444446 277.14285714285717\" style=\"fill:green;stroke:black;stroke-width:1.0\"/>\n",
       "<path d=\"M 264.44444444444446 284.14285714285717 A 7.0 7.0 0 1 1 271.44444444444446 277.14285714285717 L 264.44444444444446 277.14285714285717\" style=\"fill:orange;stroke:black;stroke-width:1.0\"/>\n",
       "<circle cx=\"340\" cy=\"186\" r=\"7.0\" style=\"fill:blue;stroke:black;stroke-width:1.0\"/>\n",
       "<path d=\"M 289.22222222222223 125.35714285714285 A 7.0 7.0 0 0 1 276.5591032615976 129.47163962319016 L 282.22222222222223 125.35714285714285\" style=\"fill:blue;stroke:black;stroke-width:1.0\"/>\n",
       "<path d=\"M 276.5591032615976 129.47163962319016 A 7.0 7.0 0 1 1 289.22222222222223 125.35714285714285 L 282.22222222222223 125.35714285714285\" style=\"fill:red;stroke:black;stroke-width:1.0\"/>\n",
       "<path d=\"M 289.22222222222223 125.35714285714285 A 7.0 7.0 0 0 1 289.22222222222223 125.35714285714285 L 282.22222222222223 125.35714285714285\" style=\"fill:green;stroke:black;stroke-width:1.0\"/>\n",
       "<path d=\"M 289.22222222222223 125.35714285714285 A 7.0 7.0 0 0 1 289.22222222222223 125.35714285714285 L 282.22222222222223 125.35714285714285\" style=\"fill:orange;stroke:black;stroke-width:1.0\"/>\n",
       "<path d=\"M 204.7777777777778 100.35714285714288 A 7.0 7.0 0 0 1 190.7777777777778 100.35714285714288 L 197.7777777777778 100.35714285714288\" style=\"fill:blue;stroke:black;stroke-width:1.0\"/>\n",
       "<path d=\"M 190.7777777777778 100.35714285714288 A 7.0 7.0 0 0 1 204.7777777777778 100.35714285714288 L 197.7777777777778 100.35714285714288\" style=\"fill:red;stroke:black;stroke-width:1.0\"/>\n",
       "<path d=\"M 204.7777777777778 100.35714285714288 A 7.0 7.0 0 0 1 204.7777777777778 100.35714285714288 L 197.7777777777778 100.35714285714288\" style=\"fill:green;stroke:black;stroke-width:1.0\"/>\n",
       "<path d=\"M 204.7777777777778 100.35714285714288 A 7.0 7.0 0 0 1 204.7777777777778 100.35714285714288 L 197.7777777777778 100.35714285714288\" style=\"fill:orange;stroke:black;stroke-width:1.0\"/>\n",
       "<path d=\"M 195.88888888888889 252.14285714285714 A 7.0 7.0 0 0 1 185.38888888888889 258.2050349693482 L 188.88888888888889 252.14285714285714\" style=\"fill:blue;stroke:black;stroke-width:1.0\"/>\n",
       "<path d=\"M 185.38888888888889 258.2050349693482 A 7.0 7.0 0 0 1 185.38888888888889 258.2050349693482 L 188.88888888888889 252.14285714285714\" style=\"fill:red;stroke:black;stroke-width:1.0\"/>\n",
       "<path d=\"M 185.38888888888889 258.2050349693482 A 7.0 7.0 0 0 1 185.38888888888889 258.2050349693482 L 188.88888888888889 252.14285714285714\" style=\"fill:green;stroke:black;stroke-width:1.0\"/>\n",
       "<path d=\"M 185.38888888888889 258.2050349693482 A 7.0 7.0 0 1 1 195.88888888888889 252.14285714285714 L 188.88888888888889 252.14285714285714\" style=\"fill:orange;stroke:black;stroke-width:1.0\"/>\n",
       "<circle cx=\"122\" cy=\"212\" r=\"7.0\" style=\"fill:blue;stroke:black;stroke-width:1.0\"/>\n",
       "<circle cx=\"335\" cy=\"236\" r=\"7.0\" style=\"fill:blue;stroke:black;stroke-width:1.0\"/>\n",
       "<path d=\"M 289.22222222222223 153.92857142857144 A 7.0 7.0 0 1 1 284.38534118284684 147.27117581450537 L 282.22222222222223 153.92857142857144\" style=\"fill:blue;stroke:black;stroke-width:1.0\"/>\n",
       "<path d=\"M 284.38534118284684 147.27117581450537 A 7.0 7.0 0 0 1 289.22222222222223 153.92857142857144 L 282.22222222222223 153.92857142857144\" style=\"fill:red;stroke:black;stroke-width:1.0\"/>\n",
       "<path d=\"M 289.22222222222223 153.92857142857144 A 7.0 7.0 0 0 1 289.22222222222223 153.92857142857144 L 282.22222222222223 153.92857142857144\" style=\"fill:green;stroke:black;stroke-width:1.0\"/>\n",
       "<path d=\"M 289.22222222222223 153.92857142857144 A 7.0 7.0 0 0 1 289.22222222222223 153.92857142857144 L 282.22222222222223 153.92857142857144\" style=\"fill:orange;stroke:black;stroke-width:1.0\"/>\n",
       "<circle cx=\"348\" cy=\"43\" r=\"7.0\" style=\"fill:red;stroke:black;stroke-width:1.0\"/>\n",
       "<circle cx=\"273\" cy=\"27\" r=\"7.0\" style=\"fill:red;stroke:black;stroke-width:1.0\"/>\n",
       "<circle cx=\"220\" cy=\"320\" r=\"7.0\" style=\"fill:orange;stroke:black;stroke-width:1.0\"/>\n",
       "<circle cx=\"388\" cy=\"216\" r=\"7.0\" style=\"fill:blue;stroke:black;stroke-width:1.0\"/>\n",
       "<circle cx=\"313\" cy=\"34\" r=\"7.0\" style=\"fill:red;stroke:black;stroke-width:1.0\"/>\n",
       "<path d=\"M 338.1111111111111 143.21428571428572 A 7.0 7.0 0 1 1 327.6111111111111 137.15210788779464 L 331.1111111111111 143.21428571428572\" style=\"fill:blue;stroke:black;stroke-width:1.0\"/>\n",
       "<path d=\"M 327.6111111111111 137.15210788779464 A 7.0 7.0 0 0 1 338.1111111111111 143.21428571428572 L 331.1111111111111 143.21428571428572\" style=\"fill:red;stroke:black;stroke-width:1.0\"/>\n",
       "<path d=\"M 338.1111111111111 143.21428571428572 A 7.0 7.0 0 0 1 338.1111111111111 143.21428571428572 L 331.1111111111111 143.21428571428572\" style=\"fill:green;stroke:black;stroke-width:1.0\"/>\n",
       "<path d=\"M 338.1111111111111 143.21428571428572 A 7.0 7.0 0 0 1 338.1111111111111 143.21428571428572 L 331.1111111111111 143.21428571428572\" style=\"fill:orange;stroke:black;stroke-width:1.0\"/>\n",
       "<circle cx=\"366\" cy=\"61\" r=\"7.0\" style=\"fill:red;stroke:black;stroke-width:1.0\"/>\n",
       "<circle cx=\"420\" cy=\"202\" r=\"7.0\" style=\"fill:blue;stroke:black;stroke-width:1.0\"/>\n",
       "<circle cx=\"228\" cy=\"32\" r=\"7.0\" style=\"fill:red;stroke:black;stroke-width:1.0\"/>\n",
       "<path d=\"M 138.11111111111111 68.21428571428575 A 7.0 7.0 0 0 1 138.11111111111111 68.21428571428575 L 131.11111111111111 68.21428571428575\" style=\"fill:blue;stroke:black;stroke-width:1.0\"/>\n",
       "<path d=\"M 138.11111111111111 68.21428571428575 A 7.0 7.0 0 1 1 125.44799215048648 64.09978894823844 L 131.11111111111111 68.21428571428575\" style=\"fill:red;stroke:black;stroke-width:1.0\"/>\n",
       "<path d=\"M 125.44799215048648 64.09978894823844 A 7.0 7.0 0 0 1 138.11111111111111 68.21428571428575 L 131.11111111111111 68.21428571428575\" style=\"fill:green;stroke:black;stroke-width:1.0\"/>\n",
       "<path d=\"M 138.11111111111111 68.21428571428575 A 7.0 7.0 0 0 1 138.11111111111111 68.21428571428575 L 131.11111111111111 68.21428571428575\" style=\"fill:orange;stroke:black;stroke-width:1.0\"/>\n",
       "<circle cx=\"20\" cy=\"116\" r=\"7.0\" style=\"fill:green;stroke:black;stroke-width:1.0\"/>\n",
       "<circle cx=\"28\" cy=\"91\" r=\"7.0\" style=\"fill:green;stroke:black;stroke-width:1.0\"/>\n",
       "<circle cx=\"162\" cy=\"20\" r=\"7.0\" style=\"fill:red;stroke:black;stroke-width:1.0\"/>\n",
       "<path d=\"M 129.22222222222223 103.92857142857146 A 7.0 7.0 0 0 1 122.22222222222221 110.92857142857146 L 122.22222222222221 103.92857142857146\" style=\"fill:blue;stroke:black;stroke-width:1.0\"/>\n",
       "<path d=\"M 122.22222222222221 110.92857142857146 A 7.0 7.0 0 0 1 115.22222222222221 103.92857142857146 L 122.22222222222221 103.92857142857146\" style=\"fill:red;stroke:black;stroke-width:1.0\"/>\n",
       "<path d=\"M 115.22222222222221 103.92857142857146 A 7.0 7.0 0 0 1 129.22222222222223 103.92857142857146 L 122.22222222222221 103.92857142857146\" style=\"fill:green;stroke:black;stroke-width:1.0\"/>\n",
       "<path d=\"M 129.22222222222223 103.92857142857146 A 7.0 7.0 0 0 1 129.22222222222223 103.92857142857146 L 122.22222222222221 103.92857142857146\" style=\"fill:orange;stroke:black;stroke-width:1.0\"/>\n",
       "<path d=\"M 204.7777777777778 120.00000000000001 A 7.0 7.0 0 0 1 194.2777777777778 126.06217782649108 L 197.7777777777778 120.00000000000001\" style=\"fill:blue;stroke:black;stroke-width:1.0\"/>\n",
       "<path d=\"M 194.2777777777778 126.06217782649108 A 7.0 7.0 0 0 1 194.2777777777778 113.93782217350895 L 197.7777777777778 120.00000000000001\" style=\"fill:red;stroke:black;stroke-width:1.0\"/>\n",
       "<path d=\"M 194.2777777777778 113.93782217350895 A 7.0 7.0 0 0 1 204.7777777777778 120.00000000000001 L 197.7777777777778 120.00000000000001\" style=\"fill:green;stroke:black;stroke-width:1.0\"/>\n",
       "<path d=\"M 204.7777777777778 120.00000000000001 A 7.0 7.0 0 0 1 204.7777777777778 120.00000000000001 L 197.7777777777778 120.00000000000001\" style=\"fill:orange;stroke:black;stroke-width:1.0\"/>\n",
       "<path d=\"M 178.1111111111111 45.000000000000014 A 7.0 7.0 0 0 1 178.1111111111111 45.000000000000014 L 171.1111111111111 45.000000000000014\" style=\"fill:blue;stroke:black;stroke-width:1.0\"/>\n",
       "<path d=\"M 178.1111111111111 45.000000000000014 A 7.0 7.0 0 1 1 171.1111111111111 38.000000000000014 L 171.1111111111111 45.000000000000014\" style=\"fill:red;stroke:black;stroke-width:1.0\"/>\n",
       "<path d=\"M 171.1111111111111 38.000000000000014 A 7.0 7.0 0 0 1 178.1111111111111 45.000000000000014 L 171.1111111111111 45.000000000000014\" style=\"fill:green;stroke:black;stroke-width:1.0\"/>\n",
       "<path d=\"M 178.1111111111111 45.000000000000014 A 7.0 7.0 0 0 1 178.1111111111111 45.000000000000014 L 171.1111111111111 45.000000000000014\" style=\"fill:orange;stroke:black;stroke-width:1.0\"/>\n",
       "<path d=\"M 351.44444444444446 107.50000000000003 A 7.0 7.0 0 0 1 344.44444444444446 114.50000000000003 L 344.44444444444446 107.50000000000003\" style=\"fill:blue;stroke:black;stroke-width:1.0\"/>\n",
       "<path d=\"M 344.44444444444446 114.50000000000003 A 7.0 7.0 0 1 1 351.44444444444446 107.50000000000003 L 344.44444444444446 107.50000000000003\" style=\"fill:red;stroke:black;stroke-width:1.0\"/>\n",
       "<path d=\"M 351.44444444444446 107.50000000000003 A 7.0 7.0 0 0 1 351.44444444444446 107.50000000000003 L 344.44444444444446 107.50000000000003\" style=\"fill:green;stroke:black;stroke-width:1.0\"/>\n",
       "<path d=\"M 351.44444444444446 107.50000000000003 A 7.0 7.0 0 0 1 351.44444444444446 107.50000000000003 L 344.44444444444446 107.50000000000003\" style=\"fill:orange;stroke:black;stroke-width:1.0\"/>\n",
       "<path d=\"M 160.33333333333334 125.35714285714285 A 7.0 7.0 0 0 1 156.83333333333334 131.4193206836339 L 153.33333333333334 125.35714285714285\" style=\"fill:blue;stroke:black;stroke-width:1.0\"/>\n",
       "<path d=\"M 156.83333333333334 131.4193206836339 A 7.0 7.0 0 0 1 146.33333333333334 125.35714285714285 L 153.33333333333334 125.35714285714285\" style=\"fill:red;stroke:black;stroke-width:1.0\"/>\n",
       "<path d=\"M 146.33333333333334 125.35714285714285 A 7.0 7.0 0 0 1 160.33333333333334 125.35714285714285 L 153.33333333333334 125.35714285714285\" style=\"fill:green;stroke:black;stroke-width:1.0\"/>\n",
       "<path d=\"M 160.33333333333334 125.35714285714285 A 7.0 7.0 0 0 1 160.33333333333334 125.35714285714285 L 153.33333333333334 125.35714285714285\" style=\"fill:orange;stroke:black;stroke-width:1.0\"/>\n",
       "<path d=\"M 267.0 73.57142857142861 A 7.0 7.0 0 0 1 266.06217782649105 77.07142857142861 L 260.0 73.57142857142861\" style=\"fill:blue;stroke:black;stroke-width:1.0\"/>\n",
       "<path d=\"M 266.06217782649105 77.07142857142861 A 7.0 7.0 0 1 1 263.5 67.50925074493755 L 260.0 73.57142857142861\" style=\"fill:red;stroke:black;stroke-width:1.0\"/>\n",
       "<path d=\"M 263.5 67.50925074493755 A 7.0 7.0 0 0 1 267.0 73.57142857142861 L 260.0 73.57142857142861\" style=\"fill:green;stroke:black;stroke-width:1.0\"/>\n",
       "<path d=\"M 267.0 73.57142857142861 A 7.0 7.0 0 0 1 267.0 73.57142857142861 L 260.0 73.57142857142861\" style=\"fill:orange;stroke:black;stroke-width:1.0\"/>\n",
       "<path d=\"M 253.66666666666666 82.50000000000001 A 7.0 7.0 0 0 1 249.78683515710242 88.76614303948546 L 246.66666666666666 82.50000000000001\" style=\"fill:blue;stroke:black;stroke-width:1.0\"/>\n",
       "<path d=\"M 249.78683515710242 88.76614303948546 A 7.0 7.0 0 1 1 247.31254518290976 75.52986076593477 L 246.66666666666666 82.50000000000001\" style=\"fill:red;stroke:black;stroke-width:1.0\"/>\n",
       "<path d=\"M 247.31254518290976 75.52986076593477 A 7.0 7.0 0 0 1 253.66666666666666 82.50000000000001 L 246.66666666666666 82.50000000000001\" style=\"fill:green;stroke:black;stroke-width:1.0\"/>\n",
       "<path d=\"M 253.66666666666666 82.50000000000001 A 7.0 7.0 0 0 1 253.66666666666666 82.50000000000001 L 246.66666666666666 82.50000000000001\" style=\"fill:orange;stroke:black;stroke-width:1.0\"/>\n",
       "</svg>"
      ],
      "text/plain": [
       "<IPython.core.display.SVG object>"
      ]
     },
     "execution_count": 38,
     "metadata": {},
     "output_type": "execute_result"
    }
   ],
   "source": [
    "image = visualize_graph(adjacency, position, probs=probs)\n",
    "SVG(image)"
   ]
  },
  {
   "cell_type": "markdown",
   "metadata": {
    "pycharm": {
     "name": "#%% md\n"
    }
   },
   "source": [
    "## Directed graphs"
   ]
  },
  {
   "cell_type": "code",
   "execution_count": 39,
   "metadata": {
    "pycharm": {
     "name": "#%%\n"
    }
   },
   "outputs": [],
   "source": [
    "graph = painters(True)\n",
    "adjacency = graph.adjacency\n",
    "names = graph.names"
   ]
  },
  {
   "cell_type": "code",
   "execution_count": 40,
   "metadata": {
    "pycharm": {
     "name": "#%%\n"
    }
   },
   "outputs": [],
   "source": [
    "# soft clustering\n",
    "louvain = Louvain()\n",
    "probs = louvain.fit_predict_proba(adjacency)"
   ]
  },
  {
   "cell_type": "code",
   "execution_count": 42,
   "metadata": {
    "pycharm": {
     "name": "#%%\n"
    }
   },
   "outputs": [
    {
     "data": {
      "image/svg+xml": [
       "<svg xmlns=\"http://www.w3.org/2000/svg\" width=\"566.0\" height=\"340\">\n",
       "<defs><marker id=\"arrow\" markerWidth=\"10\" markerHeight=\"10\" refX=\"9\" refY=\"3\" orient=\"auto\">\n",
       "<path d=\"M0,0 L0,6 L9,3 z\" fill=\"gray\"/></marker></defs>\n",
       "<path stroke-width=\"1\" stroke=\"gray\" d=\"M 112 187 177 273\" marker-end=\"url(#arrow)\"/>\n",
       "<path stroke-width=\"1\" stroke=\"gray\" d=\"M 223 128 333 137\" marker-end=\"url(#arrow)\"/>\n",
       "<path stroke-width=\"1\" stroke=\"gray\" d=\"M 223 128 317 68\" marker-end=\"url(#arrow)\"/>\n",
       "<path stroke-width=\"1\" stroke=\"gray\" d=\"M 223 128 261 205\" marker-end=\"url(#arrow)\"/>\n",
       "<path stroke-width=\"1\" stroke=\"gray\" d=\"M 223 128 171 169\" marker-end=\"url(#arrow)\"/>\n",
       "<path stroke-width=\"1\" stroke=\"gray\" d=\"M 223 128 190 220\" marker-end=\"url(#arrow)\"/>\n",
       "<path stroke-width=\"1\" stroke=\"gray\" d=\"M 420 75 396 136\" marker-end=\"url(#arrow)\"/>\n",
       "<path stroke-width=\"1\" stroke=\"gray\" d=\"M 420 75 349 131\" marker-end=\"url(#arrow)\"/>\n",
       "<path stroke-width=\"1\" stroke=\"gray\" d=\"M 164 175 121 185\" marker-end=\"url(#arrow)\"/>\n",
       "<path stroke-width=\"1\" stroke=\"gray\" d=\"M 164 175 181 272\" marker-end=\"url(#arrow)\"/>\n",
       "<path stroke-width=\"1\" stroke=\"gray\" d=\"M 164 175 216 134\" marker-end=\"url(#arrow)\"/>\n",
       "<path stroke-width=\"1\" stroke=\"gray\" d=\"M 164 175 184 220\" marker-end=\"url(#arrow)\"/>\n",
       "<path stroke-width=\"1\" stroke=\"gray\" d=\"M 164 175 246 261\" marker-end=\"url(#arrow)\"/>\n",
       "<path stroke-width=\"1\" stroke=\"gray\" d=\"M 187 229 120 191\" marker-end=\"url(#arrow)\"/>\n",
       "<path stroke-width=\"1\" stroke=\"gray\" d=\"M 187 229 223 311\" marker-end=\"url(#arrow)\"/>\n",
       "<path stroke-width=\"1\" stroke=\"gray\" d=\"M 187 229 183 272\" marker-end=\"url(#arrow)\"/>\n",
       "<path stroke-width=\"1\" stroke=\"gray\" d=\"M 187 229 167 184\" marker-end=\"url(#arrow)\"/>\n",
       "<path stroke-width=\"1\" stroke=\"gray\" d=\"M 187 229 244 263\" marker-end=\"url(#arrow)\"/>\n",
       "<path stroke-width=\"1\" stroke=\"gray\" d=\"M 252 268 230 312\" marker-end=\"url(#arrow)\"/>\n",
       "<path stroke-width=\"1\" stroke=\"gray\" d=\"M 252 268 191 280\" marker-end=\"url(#arrow)\"/>\n",
       "<path stroke-width=\"1\" stroke=\"gray\" d=\"M 252 268 337 145\" marker-end=\"url(#arrow)\"/>\n",
       "<path stroke-width=\"1\" stroke=\"gray\" d=\"M 252 268 263 222\" marker-end=\"url(#arrow)\"/>\n",
       "<path stroke-width=\"1\" stroke=\"gray\" d=\"M 223 128 226 311\" marker-end=\"url(#arrow)\"/>\n",
       "<path stroke-width=\"1\" stroke=\"gray\" d=\"M 223 128 120 183\" marker-end=\"url(#arrow)\"/>\n",
       "<path stroke-width=\"1\" stroke=\"gray\" d=\"M 265 213 254 259\" marker-end=\"url(#arrow)\"/>\n",
       "<path stroke-width=\"1\" stroke=\"gray\" d=\"M 265 213 196 228\" marker-end=\"url(#arrow)\"/>\n",
       "<path stroke-width=\"1\" stroke=\"gray\" d=\"M 112 187 155 177\" marker-end=\"url(#arrow)\"/>\n",
       "<path stroke-width=\"1\" stroke=\"gray\" d=\"M 226 320 189 287\" marker-end=\"url(#arrow)\"/>\n",
       "<path stroke-width=\"1\" stroke=\"gray\" d=\"M 226 320 248 276\" marker-end=\"url(#arrow)\"/>\n",
       "<path stroke-width=\"1\" stroke=\"gray\" d=\"M 393 145 417 84\" marker-end=\"url(#arrow)\"/>\n",
       "<path stroke-width=\"1\" stroke=\"gray\" d=\"M 182 281 117 195\" marker-end=\"url(#arrow)\"/>\n",
       "<path stroke-width=\"1\" stroke=\"gray\" d=\"M 182 281 219 314\" marker-end=\"url(#arrow)\"/>\n",
       "<path stroke-width=\"1\" stroke=\"gray\" d=\"M 182 281 258 219\" marker-end=\"url(#arrow)\"/>\n",
       "<path stroke-width=\"1\" stroke=\"gray\" d=\"M 182 281 186 238\" marker-end=\"url(#arrow)\"/>\n",
       "<path stroke-width=\"1\" stroke=\"gray\" d=\"M 182 281 243 269\" marker-end=\"url(#arrow)\"/>\n",
       "<path stroke-width=\"1\" stroke=\"gray\" d=\"M 342 137 384 144\" marker-end=\"url(#arrow)\"/>\n",
       "<path stroke-width=\"1\" stroke=\"gray\" d=\"M 87 20 28 63\" marker-end=\"url(#arrow)\"/>\n",
       "<path stroke-width=\"1\" stroke=\"gray\" d=\"M 342 137 327 72\" marker-end=\"url(#arrow)\"/>\n",
       "<path stroke-width=\"1\" stroke=\"gray\" d=\"M 325 63 387 138\" marker-end=\"url(#arrow)\"/>\n",
       "<path stroke-width=\"1\" stroke=\"gray\" d=\"M 325 63 340 128\" marker-end=\"url(#arrow)\"/>\n",
       "<path stroke-width=\"1\" stroke=\"gray\" d=\"M 325 63 231 123\" marker-end=\"url(#arrow)\"/>\n",
       "<path stroke-width=\"1\" stroke=\"gray\" d=\"M 325 63 411 74\" marker-end=\"url(#arrow)\"/>\n",
       "<path stroke-width=\"1\" stroke=\"gray\" d=\"M 20 68 106 180\" marker-end=\"url(#arrow)\"/>\n",
       "<path stroke-width=\"1\" stroke=\"gray\" d=\"M 20 68 79 25\" marker-end=\"url(#arrow)\"/>\n",
       "<path stroke-width=\"1\" stroke=\"gray\" d=\"M 265 213 229 311\" marker-end=\"url(#arrow)\"/>\n",
       "<path stroke-width=\"1\" stroke=\"gray\" d=\"M 265 213 385 149\" marker-end=\"url(#arrow)\"/>\n",
       "<path stroke-width=\"1\" stroke=\"gray\" d=\"M 265 213 189 275\" marker-end=\"url(#arrow)\"/>\n",
       "<path stroke-width=\"1\" stroke=\"gray\" d=\"M 265 213 227 136\" marker-end=\"url(#arrow)\"/>\n",
       "<path stroke-width=\"1\" stroke=\"gray\" d=\"M 342 137 413 81\" marker-end=\"url(#arrow)\"/>\n",
       "<path stroke-width=\"1\" stroke=\"gray\" d=\"M 87 20 216 122\" marker-end=\"url(#arrow)\"/>\n",
       "<path d=\"M 122.60510926955025 187.25137040710044 A 10.0 10.0 0 0 1 102.60510926955025 187.25137040710044 L 112.60510926955025 187.25137040710044\" style=\"fill:blue;stroke:black;stroke-width:1.0\"/>\n",
       "<path d=\"M 102.60510926955025 187.25137040710044 A 10.0 10.0 0 0 1 122.60510926955025 187.25137040710044 L 112.60510926955025 187.25137040710044\" style=\"fill:red;stroke:black;stroke-width:1.0\"/>\n",
       "<path d=\"M 122.60510926955025 187.25137040710044 A 10.0 10.0 0 0 1 122.60510926955025 187.25137040710044 L 112.60510926955025 187.25137040710044\" style=\"fill:green;stroke:black;stroke-width:1.0\"/>\n",
       "<circle cx=\"226\" cy=\"320\" r=\"10.0\" style=\"fill:blue;stroke:black;stroke-width:1.0\"/>\n",
       "<circle cx=\"393\" cy=\"145\" r=\"10.0\" style=\"fill:green;stroke:black;stroke-width:1.0\"/>\n",
       "<path d=\"M 192.06344173689183 281.7878448393742 A 10.0 10.0 0 1 1 185.1536116806413 272.27727967642267 L 182.06344173689183 281.7878448393742\" style=\"fill:blue;stroke:black;stroke-width:1.0\"/>\n",
       "<path d=\"M 185.1536116806413 272.27727967642267 A 10.0 10.0 0 0 1 192.06344173689183 281.7878448393742 L 182.06344173689183 281.7878448393742\" style=\"fill:red;stroke:black;stroke-width:1.0\"/>\n",
       "<path d=\"M 192.06344173689183 281.7878448393742 A 10.0 10.0 0 0 1 192.06344173689183 281.7878448393742 L 182.06344173689183 281.7878448393742\" style=\"fill:green;stroke:black;stroke-width:1.0\"/>\n",
       "<circle cx=\"342\" cy=\"137\" r=\"10.0\" style=\"fill:green;stroke:black;stroke-width:1.0\"/>\n",
       "<path d=\"M 335.88326901730994 63.123023744068014 A 10.0 10.0 0 0 1 335.88326901730994 63.123023744068014 L 325.88326901730994 63.123023744068014\" style=\"fill:blue;stroke:black;stroke-width:1.0\"/>\n",
       "<path d=\"M 335.88326901730994 63.123023744068014 A 10.0 10.0 0 0 1 325.88326901730994 73.123023744068 L 325.88326901730994 63.123023744068014\" style=\"fill:red;stroke:black;stroke-width:1.0\"/>\n",
       "<path d=\"M 325.88326901730994 73.123023744068 A 10.0 10.0 0 1 1 335.88326901730994 63.123023744068014 L 325.88326901730994 63.123023744068014\" style=\"fill:green;stroke:black;stroke-width:1.0\"/>\n",
       "<circle cx=\"20\" cy=\"68\" r=\"10.0\" style=\"fill:red;stroke:black;stroke-width:1.0\"/>\n",
       "<path d=\"M 275.8609353123515 213.9649796564339 A 10.0 10.0 0 1 1 260.8609353123515 205.30472561858952 L 265.8609353123515 213.9649796564339\" style=\"fill:blue;stroke:black;stroke-width:1.0\"/>\n",
       "<path d=\"M 260.8609353123515 205.30472561858952 A 10.0 10.0 0 0 1 270.8609353123515 205.30472561858952 L 265.8609353123515 213.9649796564339\" style=\"fill:red;stroke:black;stroke-width:1.0\"/>\n",
       "<path d=\"M 270.8609353123515 205.30472561858952 A 10.0 10.0 0 0 1 275.8609353123515 213.9649796564339 L 265.8609353123515 213.9649796564339\" style=\"fill:green;stroke:black;stroke-width:1.0\"/>\n",
       "<path d=\"M 233.71969913737823 128.17945121001358 A 10.0 10.0 0 0 1 214.71001045835405 132.51828860118917 L 223.71969913737823 128.17945121001358\" style=\"fill:blue;stroke:black;stroke-width:1.0\"/>\n",
       "<path d=\"M 214.71001045835405 132.51828860118917 A 10.0 10.0 0 0 1 221.49448979781508 118.43017208819535 L 223.71969913737823 128.17945121001358\" style=\"fill:red;stroke:black;stroke-width:1.0\"/>\n",
       "<path d=\"M 221.49448979781508 118.43017208819535 A 10.0 10.0 0 0 1 233.71969913737823 128.17945121001358 L 223.71969913737823 128.17945121001358\" style=\"fill:green;stroke:black;stroke-width:1.0\"/>\n",
       "<circle cx=\"420\" cy=\"75\" r=\"10.0\" style=\"fill:green;stroke:black;stroke-width:1.0\"/>\n",
       "<path d=\"M 174.99403627285585 175.93634003321617 A 10.0 10.0 0 1 1 156.9038663291064 170.05848751029143 L 164.99403627285585 175.93634003321617\" style=\"fill:blue;stroke:black;stroke-width:1.0\"/>\n",
       "<path d=\"M 156.9038663291064 170.05848751029143 A 10.0 10.0 0 0 1 174.99403627285585 175.93634003321617 L 164.99403627285585 175.93634003321617\" style=\"fill:red;stroke:black;stroke-width:1.0\"/>\n",
       "<path d=\"M 174.99403627285585 175.93634003321617 A 10.0 10.0 0 0 1 174.99403627285585 175.93634003321617 L 164.99403627285585 175.93634003321617\" style=\"fill:green;stroke:black;stroke-width:1.0\"/>\n",
       "<path d=\"M 197.9266891446781 229.56674631304404 A 10.0 10.0 0 1 1 179.83651920092865 223.6888937901193 L 187.9266891446781 229.56674631304404\" style=\"fill:blue;stroke:black;stroke-width:1.0\"/>\n",
       "<path d=\"M 179.83651920092865 223.6888937901193 A 10.0 10.0 0 0 1 197.9266891446781 229.56674631304404 L 187.9266891446781 229.56674631304404\" style=\"fill:red;stroke:black;stroke-width:1.0\"/>\n",
       "<path d=\"M 197.9266891446781 229.56674631304404 A 10.0 10.0 0 0 1 197.9266891446781 229.56674631304404 L 187.9266891446781 229.56674631304404\" style=\"fill:green;stroke:black;stroke-width:1.0\"/>\n",
       "<path d=\"M 262.7949483346332 268.2453421586024 A 10.0 10.0 0 1 1 252.7949483346332 258.2453421586024 L 252.7949483346332 268.2453421586024\" style=\"fill:blue;stroke:black;stroke-width:1.0\"/>\n",
       "<path d=\"M 252.7949483346332 258.2453421586024 A 10.0 10.0 0 0 1 252.7949483346332 258.2453421586024 L 252.7949483346332 268.2453421586024\" style=\"fill:red;stroke:black;stroke-width:1.0\"/>\n",
       "<path d=\"M 252.7949483346332 258.2453421586024 A 10.0 10.0 0 0 1 262.7949483346332 268.2453421586024 L 252.7949483346332 268.2453421586024\" style=\"fill:green;stroke:black;stroke-width:1.0\"/>\n",
       "<circle cx=\"87\" cy=\"20\" r=\"10.0\" style=\"fill:red;stroke:black;stroke-width:1.0\"/>\n",
       "<text x=\"132\" y=\"197\" font-size=\"12\">Pablo Picasso</text><text x=\"246\" y=\"330\" font-size=\"12\">Claude Monet</text><text x=\"413\" y=\"155\" font-size=\"12\">Michel Angelo</text><text x=\"202\" y=\"291\" font-size=\"12\">Edouard Manet</text><text x=\"362\" y=\"147\" font-size=\"12\">Peter Paul Rubens</text><text x=\"345\" y=\"73\" font-size=\"12\">Rembrandt</text><text x=\"40\" y=\"78\" font-size=\"12\">Gustav Klimt</text><text x=\"285\" y=\"223\" font-size=\"12\">Edgar Degas</text><text x=\"243\" y=\"138\" font-size=\"12\">Vincent van Gogh</text><text x=\"440\" y=\"85\" font-size=\"12\">Leonardo da Vinci</text><text x=\"184\" y=\"185\" font-size=\"12\">Henri Matisse</text><text x=\"207\" y=\"239\" font-size=\"12\">Paul Cezanne</text><text x=\"272\" y=\"278\" font-size=\"12\">Pierre-Auguste Renoir</text><text x=\"107\" y=\"30\" font-size=\"12\">Egon Schiele</text></svg>"
      ],
      "text/plain": [
       "<IPython.core.display.SVG object>"
      ]
     },
     "execution_count": 42,
     "metadata": {},
     "output_type": "execute_result"
    }
   ],
   "source": [
    "image = visualize_graph(adjacency, names=names, probs=probs, node_size=10)\n",
    "SVG(image)\n"
   ]
  }
 ],
 "metadata": {
  "kernelspec": {
   "display_name": "Python 3 (ipykernel)",
   "language": "python",
   "name": "python3"
  },
  "language_info": {
   "codemirror_mode": {
    "name": "ipython",
    "version": 3
   },
   "file_extension": ".py",
   "mimetype": "text/x-python",
   "name": "python",
   "nbconvert_exporter": "python",
   "pygments_lexer": "ipython3",
   "version": "3.9.13"
  },
  "pycharm": {
   "stem_cell": {
    "cell_type": "raw",
    "metadata": {
     "collapsed": false
    },
    "source": []
   }
  }
 },
 "nbformat": 4,
 "nbformat_minor": 2
}
