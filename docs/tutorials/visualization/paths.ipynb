{
 "cells": [
  {
   "cell_type": "markdown",
   "metadata": {},
   "source": [
    "# Paths"
   ]
  },
  {
   "cell_type": "markdown",
   "metadata": {},
   "source": [
    "Visualization of paths."
   ]
  },
  {
   "cell_type": "code",
   "execution_count": 1,
   "metadata": {},
   "outputs": [],
   "source": [
    "from IPython.display import SVG"
   ]
  },
  {
   "cell_type": "code",
   "execution_count": 2,
   "metadata": {},
   "outputs": [],
   "source": [
    "from sknetwork.data import house, cyclic_digraph, star_wars\n",
    "from sknetwork.visualization import visualize_graph, visualize_bigraph"
   ]
  },
  {
   "cell_type": "markdown",
   "metadata": {},
   "source": [
    "## Graphs"
   ]
  },
  {
   "cell_type": "code",
   "execution_count": 3,
   "metadata": {},
   "outputs": [],
   "source": [
    "graph = house(True)\n",
    "adjacency = graph.adjacency\n",
    "position = graph.position"
   ]
  },
  {
   "cell_type": "code",
   "execution_count": 4,
   "metadata": {},
   "outputs": [],
   "source": [
    "path = [(0, 1), (1, 2), (2, 3)]\n",
    "edge_labels = [(*edge, 0) for edge in path]"
   ]
  },
  {
   "cell_type": "code",
   "execution_count": 5,
   "metadata": {},
   "outputs": [
    {
     "data": {
      "image/svg+xml": [
       "<svg xmlns=\"http://www.w3.org/2000/svg\" width=\"440\" height=\"340\">\n",
       "<path stroke-width=\"3\" stroke=\"black\" d=\"M 220 20 420 120\"/>\n",
       "<path stroke-width=\"3\" stroke=\"black\" d=\"M 20 120 220 20\"/>\n",
       "<path stroke-width=\"3\" stroke=\"black\" d=\"M 20 120 420 120\"/>\n",
       "<path stroke-width=\"3\" stroke=\"black\" d=\"M 20 320 20 120\"/>\n",
       "<path stroke-width=\"3\" stroke=\"black\" d=\"M 420 320 20 320\"/>\n",
       "<path stroke-width=\"3\" stroke=\"black\" d=\"M 420 320 420 120\"/>\n",
       "<path stroke-width=\"3\" stroke=\"black\" d=\"M 420 120 220 20\"/>\n",
       "<path stroke-width=\"3\" stroke=\"black\" d=\"M 420 120 20 120\"/>\n",
       "<path stroke-width=\"3\" stroke=\"black\" d=\"M 420 120 420 320\"/>\n",
       "<path stroke-width=\"3\" stroke=\"blue\" d=\"M 220 20 20 120\"/>\n",
       "<path stroke-width=\"3\" stroke=\"blue\" d=\"M 20 120 20 320\"/>\n",
       "<path stroke-width=\"3\" stroke=\"blue\" d=\"M 20 320 420 320\"/>\n",
       "<circle cx=\"220\" cy=\"20\" r=\"7.0\" style=\"fill:gray;stroke:black;stroke-width:1.0\"/>\n",
       "<circle cx=\"20\" cy=\"120\" r=\"7.0\" style=\"fill:gray;stroke:black;stroke-width:1.0\"/>\n",
       "<circle cx=\"20\" cy=\"320\" r=\"7.0\" style=\"fill:gray;stroke:black;stroke-width:1.0\"/>\n",
       "<circle cx=\"420\" cy=\"320\" r=\"7.0\" style=\"fill:gray;stroke:black;stroke-width:1.0\"/>\n",
       "<circle cx=\"420\" cy=\"120\" r=\"7.0\" style=\"fill:gray;stroke:black;stroke-width:1.0\"/>\n",
       "</svg>"
      ],
      "text/plain": [
       "<IPython.core.display.SVG object>"
      ]
     },
     "execution_count": 5,
     "metadata": {},
     "output_type": "execute_result"
    }
   ],
   "source": [
    "image = visualize_graph(adjacency, position, edge_width=3, edge_labels=edge_labels)\n",
    "SVG(image)"
   ]
  },
  {
   "cell_type": "code",
   "execution_count": 6,
   "metadata": {},
   "outputs": [
    {
     "data": {
      "image/svg+xml": [
       "<svg xmlns=\"http://www.w3.org/2000/svg\" width=\"440\" height=\"340\">\n",
       "<path stroke-width=\"3\" stroke=\"blue\" d=\"M 220 20 20 120\"/>\n",
       "<path stroke-width=\"3\" stroke=\"blue\" d=\"M 20 120 20 320\"/>\n",
       "<path stroke-width=\"3\" stroke=\"blue\" d=\"M 20 320 420 320\"/>\n",
       "<circle cx=\"220\" cy=\"20\" r=\"7.0\" style=\"fill:gray;stroke:black;stroke-width:1.0\"/>\n",
       "<circle cx=\"20\" cy=\"120\" r=\"7.0\" style=\"fill:gray;stroke:black;stroke-width:1.0\"/>\n",
       "<circle cx=\"20\" cy=\"320\" r=\"7.0\" style=\"fill:gray;stroke:black;stroke-width:1.0\"/>\n",
       "<circle cx=\"420\" cy=\"320\" r=\"7.0\" style=\"fill:gray;stroke:black;stroke-width:1.0\"/>\n",
       "<circle cx=\"420\" cy=\"120\" r=\"7.0\" style=\"fill:gray;stroke:black;stroke-width:1.0\"/>\n",
       "</svg>"
      ],
      "text/plain": [
       "<IPython.core.display.SVG object>"
      ]
     },
     "execution_count": 6,
     "metadata": {},
     "output_type": "execute_result"
    }
   ],
   "source": [
    "image = visualize_graph(None, position, edge_width=3, edge_labels=edge_labels)\n",
    "SVG(image)"
   ]
  },
  {
   "cell_type": "markdown",
   "metadata": {},
   "source": [
    "## Directed graphs"
   ]
  },
  {
   "cell_type": "code",
   "execution_count": 13,
   "metadata": {},
   "outputs": [],
   "source": [
    "graph = cyclic_digraph(10, metadata=True)\n",
    "adjacency = graph.adjacency\n",
    "position = graph.position"
   ]
  },
  {
   "cell_type": "code",
   "execution_count": 14,
   "metadata": {},
   "outputs": [],
   "source": [
    "paths = [[(0, 1), (1, 2), (2, 3)], [(6, 7), (7, 8)]]\n",
    "edge_labels = [(*edge, label) for label, path in enumerate(paths) for edge in path]"
   ]
  },
  {
   "cell_type": "code",
   "execution_count": 16,
   "metadata": {},
   "outputs": [
    {
     "data": {
      "image/svg+xml": [
       "<svg xmlns=\"http://www.w3.org/2000/svg\" width=\"240\" height=\"230.21130325903073\">\n",
       "<defs><marker id=\"arrow-blue\" markerWidth=\"10\" markerHeight=\"10\" refX=\"9\" refY=\"3\" orient=\"auto\">\n",
       "<path d=\"M0,0 L0,6 L9,3 z\" fill=\"blue\"/></marker></defs>\n",
       "<defs><marker id=\"arrow-red\" markerWidth=\"10\" markerHeight=\"10\" refX=\"9\" refY=\"3\" orient=\"auto\">\n",
       "<path d=\"M0,0 L0,6 L9,3 z\" fill=\"red\"/></marker></defs>\n",
       "<defs><marker id=\"arrow-black\" markerWidth=\"10\" markerHeight=\"10\" refX=\"9\" refY=\"3\" orient=\"auto\">\n",
       "<path d=\"M0,0 L0,6 L9,3 z\" fill=\"black\"/></marker></defs>\n",
       "<path stroke-width=\"3\" stroke=\"black\" d=\"M 89 20 44 52\" marker-end=\"url(#arrow-black)\"/>\n",
       "<path stroke-width=\"3\" stroke=\"black\" d=\"M 39 56 22 109\" marker-end=\"url(#arrow-black)\"/>\n",
       "<path stroke-width=\"3\" stroke=\"black\" d=\"M 20 115 37 167\" marker-end=\"url(#arrow-black)\"/>\n",
       "<path stroke-width=\"3\" stroke=\"black\" d=\"M 150 210 195 177\" marker-end=\"url(#arrow-black)\"/>\n",
       "<path stroke-width=\"3\" stroke=\"black\" d=\"M 200 173 218 121\" marker-end=\"url(#arrow-black)\"/>\n",
       "<path stroke-width=\"3\" stroke=\"blue\" d=\"M 220 115 202 62\" marker-end=\"url(#arrow-blue)\"/>\n",
       "<path stroke-width=\"3\" stroke=\"blue\" d=\"M 200 56 155 24\" marker-end=\"url(#arrow-blue)\"/>\n",
       "<path stroke-width=\"3\" stroke=\"blue\" d=\"M 150 20 96 20\" marker-end=\"url(#arrow-blue)\"/>\n",
       "<path stroke-width=\"3\" stroke=\"red\" d=\"M 39 173 84 206\" marker-end=\"url(#arrow-red)\"/>\n",
       "<path stroke-width=\"3\" stroke=\"red\" d=\"M 89 210 143 210\" marker-end=\"url(#arrow-red)\"/>\n",
       "<circle cx=\"220\" cy=\"115\" r=\"7.0\" style=\"fill:gray;stroke:black;stroke-width:1.0\"/>\n",
       "<circle cx=\"200\" cy=\"56\" r=\"7.0\" style=\"fill:gray;stroke:black;stroke-width:1.0\"/>\n",
       "<circle cx=\"150\" cy=\"20\" r=\"7.0\" style=\"fill:gray;stroke:black;stroke-width:1.0\"/>\n",
       "<circle cx=\"89\" cy=\"20\" r=\"7.0\" style=\"fill:gray;stroke:black;stroke-width:1.0\"/>\n",
       "<circle cx=\"39\" cy=\"56\" r=\"7.0\" style=\"fill:gray;stroke:black;stroke-width:1.0\"/>\n",
       "<circle cx=\"20\" cy=\"115\" r=\"7.0\" style=\"fill:gray;stroke:black;stroke-width:1.0\"/>\n",
       "<circle cx=\"39\" cy=\"173\" r=\"7.0\" style=\"fill:gray;stroke:black;stroke-width:1.0\"/>\n",
       "<circle cx=\"89\" cy=\"210\" r=\"7.0\" style=\"fill:gray;stroke:black;stroke-width:1.0\"/>\n",
       "<circle cx=\"150\" cy=\"210\" r=\"7.0\" style=\"fill:gray;stroke:black;stroke-width:1.0\"/>\n",
       "<circle cx=\"200\" cy=\"173\" r=\"7.0\" style=\"fill:gray;stroke:black;stroke-width:1.0\"/>\n",
       "</svg>"
      ],
      "text/plain": [
       "<IPython.core.display.SVG object>"
      ]
     },
     "execution_count": 16,
     "metadata": {},
     "output_type": "execute_result"
    }
   ],
   "source": [
    "image = visualize_graph(adjacency, position, width=200, height=None, edge_width=3, edge_labels=edge_labels)\n",
    "SVG(image)"
   ]
  },
  {
   "cell_type": "markdown",
   "metadata": {},
   "source": [
    "## Bipartite graphs"
   ]
  },
  {
   "cell_type": "code",
   "execution_count": 10,
   "metadata": {},
   "outputs": [],
   "source": [
    "graph = star_wars(True)\n",
    "biadjacency = graph.biadjacency\n",
    "names_row = graph.names_row\n",
    "names_col = graph.names_col"
   ]
  },
  {
   "cell_type": "code",
   "execution_count": 11,
   "metadata": {},
   "outputs": [],
   "source": [
    "path = [(0, 1), (2, 1)]\n",
    "edge_labels = [(*edge, 0) for edge in path]"
   ]
  },
  {
   "cell_type": "code",
   "execution_count": 12,
   "metadata": {},
   "outputs": [
    {
     "data": {
      "image/svg+xml": [
       "<svg xmlns=\"http://www.w3.org/2000/svg\" width=\"614.0\" height=\"340\">\n",
       "<path stroke-width=\"3\" stroke=\"black\" d=\"M 56 120 456 69\"/>\n",
       "<path stroke-width=\"3\" stroke=\"black\" d=\"M 56 120 456 170\"/>\n",
       "<path stroke-width=\"3\" stroke=\"black\" d=\"M 56 20 456 69\"/>\n",
       "<path stroke-width=\"3\" stroke=\"black\" d=\"M 56 320 456 69\"/>\n",
       "<path stroke-width=\"3\" stroke=\"black\" d=\"M 56 320 456 170\"/>\n",
       "<path stroke-width=\"3\" stroke=\"black\" d=\"M 56 220 456 270\"/>\n",
       "<path stroke-width=\"3\" stroke=\"black\" d=\"M 56 220 456 170\"/>\n",
       "<path stroke-width=\"3\" stroke=\"blue\" d=\"M 56 320 456 270\"/>\n",
       "<path stroke-width=\"3\" stroke=\"blue\" d=\"M 56 120 456 270\"/>\n",
       "<circle cx=\"56\" cy=\"120\" r=\"7.0\" style=\"fill:gray;stroke:black;stroke-width:1.0\"/>\n",
       "<circle cx=\"56\" cy=\"20\" r=\"7.0\" style=\"fill:gray;stroke:black;stroke-width:1.0\"/>\n",
       "<circle cx=\"56\" cy=\"320\" r=\"7.0\" style=\"fill:gray;stroke:black;stroke-width:1.0\"/>\n",
       "<circle cx=\"56\" cy=\"220\" r=\"7.0\" style=\"fill:gray;stroke:black;stroke-width:1.0\"/>\n",
       "<circle cx=\"456\" cy=\"69\" r=\"7.0\" style=\"fill:gray;stroke:black;stroke-width:1.0\"/>\n",
       "<circle cx=\"456\" cy=\"270\" r=\"7.0\" style=\"fill:gray;stroke:black;stroke-width:1.0\"/>\n",
       "<circle cx=\"456\" cy=\"170\" r=\"7.0\" style=\"fill:gray;stroke:black;stroke-width:1.0\"/>\n",
       "<text text-anchor=\"end\" x=\"46\" y=\"120\" font-size=\"12\">Jabba</text><text text-anchor=\"end\" x=\"46\" y=\"20\" font-size=\"12\">Greedo</text><text text-anchor=\"end\" x=\"46\" y=\"320\" font-size=\"12\">Vader</text><text text-anchor=\"end\" x=\"46\" y=\"220\" font-size=\"12\">Boba</text><text text-anchor=\"start\" x=\"466\" y=\"69\" font-size=\"12\">A New Hope</text><text text-anchor=\"start\" x=\"466\" y=\"270\" font-size=\"12\">The Empire Strikes Back</text><text text-anchor=\"start\" x=\"466\" y=\"170\" font-size=\"12\">Return Of The Jedi</text></svg>"
      ],
      "text/plain": [
       "<IPython.core.display.SVG object>"
      ]
     },
     "execution_count": 12,
     "metadata": {},
     "output_type": "execute_result"
    }
   ],
   "source": [
    "image = visualize_bigraph(biadjacency, names_row=names_row, names_col=names_col, edge_width=3, edge_labels=edge_labels)\n",
    "SVG(image)"
   ]
  }
 ],
 "metadata": {
  "kernelspec": {
   "display_name": "Python 3 (ipykernel)",
   "language": "python",
   "name": "python3"
  },
  "language_info": {
   "codemirror_mode": {
    "name": "ipython",
    "version": 3
   },
   "file_extension": ".py",
   "mimetype": "text/x-python",
   "name": "python",
   "nbconvert_exporter": "python",
   "pygments_lexer": "ipython3",
   "version": "3.9.13"
  }
 },
 "nbformat": 4,
 "nbformat_minor": 2
}
