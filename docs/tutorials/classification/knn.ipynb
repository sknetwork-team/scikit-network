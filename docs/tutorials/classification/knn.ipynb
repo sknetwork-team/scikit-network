{
 "cells": [
  {
   "cell_type": "markdown",
   "metadata": {
    "pycharm": {
     "name": "#%% md\n"
    }
   },
   "source": [
    "# Nearest neighbors"
   ]
  },
  {
   "cell_type": "markdown",
   "metadata": {
    "pycharm": {
     "name": "#%% md\n"
    }
   },
   "source": [
    "This notebook illustrates the classification of the nodes of a graph by the [k-nearest neighbors algorithm](https://en.wikipedia.org/wiki/K-nearest_neighbors_algorithm), using the labels known for some nodes."
   ]
  },
  {
   "cell_type": "code",
   "execution_count": 2,
   "metadata": {
    "ExecuteTime": {
     "end_time": "2019-07-15T12:29:50.554431Z",
     "start_time": "2019-07-15T12:29:50.414075Z"
    },
    "pycharm": {
     "name": "#%%\n"
    }
   },
   "outputs": [],
   "source": [
    "from IPython.display import SVG"
   ]
  },
  {
   "cell_type": "code",
   "execution_count": 3,
   "metadata": {
    "pycharm": {
     "name": "#%%\n"
    }
   },
   "outputs": [],
   "source": [
    "import numpy as np"
   ]
  },
  {
   "cell_type": "code",
   "execution_count": null,
   "outputs": [],
   "source": [
    "from sknetwork.data import karate_club, painters, movie_actor\n",
    "from sknetwork.classification import NNClassifier, get_accuracy_score\n",
    "from sknetwork.embedding import Spectral\n",
    "from sknetwork.visualization import svg_graph, visualize_bigraph"
   ],
   "metadata": {
    "collapsed": false,
    "pycharm": {
     "name": "#%%\n"
    }
   }
  },
  {
   "cell_type": "markdown",
   "source": [
    "## Graphs"
   ],
   "metadata": {
    "collapsed": false,
    "pycharm": {
     "name": "#%% md\n"
    }
   }
  },
  {
   "cell_type": "code",
   "execution_count": null,
   "outputs": [],
   "source": [
    "graph = karate_club(metadata=True)\n",
    "adjacency = graph.adjacency\n",
    "position = graph.position\n",
    "labels_true = graph.labels"
   ],
   "metadata": {
    "collapsed": false,
    "pycharm": {
     "name": "#%%\n"
    }
   }
  },
  {
   "cell_type": "code",
   "execution_count": null,
   "outputs": [],
   "source": [
    "labels = {i: labels_true[i] for i in [0, 33]}"
   ],
   "metadata": {
    "collapsed": false,
    "pycharm": {
     "name": "#%%\n"
    }
   }
  },
  {
   "cell_type": "code",
   "execution_count": null,
   "outputs": [],
   "source": [
    "# Nearest neighbors with cosine similarity\n",
    "classifier = NNClassifier(n_neighbors=1)\n",
    "labels_pred = classifier.fit_predict(adjacency, labels)"
   ],
   "metadata": {
    "collapsed": false,
    "pycharm": {
     "name": "#%%\n"
    }
   }
  },
  {
   "cell_type": "code",
   "execution_count": null,
   "outputs": [],
   "source": [
    "accuracy = get_accuracy_score(labels_true, labels_pred)\n",
    "np.round(accuracy, 2)"
   ],
   "metadata": {
    "collapsed": false,
    "pycharm": {
     "name": "#%%\n"
    }
   }
  },
  {
   "cell_type": "code",
   "execution_count": null,
   "outputs": [],
   "source": [
    "image = svg_graph(adjacency, position, labels=labels_pred, seeds=labels)\n",
    "SVG(image)"
   ],
   "metadata": {
    "collapsed": false,
    "pycharm": {
     "name": "#%%\n"
    }
   }
  },
  {
   "cell_type": "code",
   "execution_count": null,
   "outputs": [],
   "source": [
    "# Nearest neighbors in embedding space\n",
    "classifier = NNClassifier(n_neighbors=1, embedding_method=Spectral(2))\n",
    "labels_pred = classifier.fit_predict(adjacency, labels)"
   ],
   "metadata": {
    "collapsed": false,
    "pycharm": {
     "name": "#%%\n"
    }
   }
  },
  {
   "cell_type": "code",
   "execution_count": null,
   "outputs": [],
   "source": [
    "accuracy = get_accuracy_score(labels_true, labels_pred)\n",
    "np.round(accuracy, 2)"
   ],
   "metadata": {
    "collapsed": false,
    "pycharm": {
     "name": "#%%\n"
    }
   }
  },
  {
   "cell_type": "code",
   "execution_count": null,
   "outputs": [],
   "source": [
    "image = svg_graph(adjacency, position, labels=labels_pred, seeds=labels)\n",
    "SVG(image)"
   ],
   "metadata": {
    "collapsed": false,
    "pycharm": {
     "name": "#%%\n"
    }
   }
  },
  {
   "cell_type": "code",
   "execution_count": null,
   "outputs": [],
   "source": [
    "# distribution over labels\n",
    "labels = {i: labels_true[i] for i in [0, 1, 30, 33]}\n",
    "classifier = NNClassifier(n_neighbors=3, embedding_method=Spectral(2))\n",
    "classifier.fit(adjacency, labels)\n",
    "probs = classifier.predict_proba()"
   ],
   "metadata": {
    "collapsed": false,
    "pycharm": {
     "name": "#%%\n"
    }
   }
  },
  {
   "cell_type": "code",
   "execution_count": null,
   "outputs": [],
   "source": [
    "scores = probs[:,1]"
   ],
   "metadata": {
    "collapsed": false,
    "pycharm": {
     "name": "#%%\n"
    }
   }
  },
  {
   "cell_type": "code",
   "execution_count": null,
   "outputs": [],
   "source": [
    "image = svg_graph(adjacency, position, scores=scores, seeds=labels)\n",
    "SVG(image)"
   ],
   "metadata": {
    "collapsed": false,
    "pycharm": {
     "name": "#%%\n"
    }
   }
  },
  {
   "cell_type": "markdown",
   "source": [
    "## Directed graphs"
   ],
   "metadata": {
    "collapsed": false,
    "pycharm": {
     "name": "#%% md\n"
    }
   }
  },
  {
   "cell_type": "code",
   "execution_count": null,
   "outputs": [],
   "source": [
    "graph = painters(metadata=True)\n",
    "adjacency = graph.adjacency\n",
    "position = graph.position\n",
    "names = graph.names"
   ],
   "metadata": {
    "collapsed": false,
    "pycharm": {
     "name": "#%%\n"
    }
   }
  },
  {
   "cell_type": "code",
   "execution_count": null,
   "outputs": [],
   "source": [
    "rembrandt = 5\n",
    "klimt = 6\n",
    "cezanne = 11\n",
    "labels = {cezanne: 0, rembrandt: 1, klimt: 2}"
   ],
   "metadata": {
    "collapsed": false,
    "pycharm": {
     "name": "#%%\n"
    }
   }
  },
  {
   "cell_type": "code",
   "execution_count": null,
   "outputs": [],
   "source": [
    "classifier = NNClassifier(n_neighbors=2, embedding_method=Spectral(3))\n",
    "labels_pred = classifier.fit_predict(adjacency, labels)"
   ],
   "metadata": {
    "collapsed": false,
    "pycharm": {
     "name": "#%%\n"
    }
   }
  },
  {
   "cell_type": "code",
   "execution_count": null,
   "outputs": [],
   "source": [
    "image = svg_graph(adjacency, position, names, labels=labels_pred, seeds=labels)\n",
    "SVG(image)"
   ],
   "metadata": {
    "collapsed": false,
    "pycharm": {
     "name": "#%%\n"
    }
   }
  },
  {
   "cell_type": "code",
   "execution_count": null,
   "outputs": [],
   "source": [
    "# probability distribution over labels (here for scores for the label of Cezanne)\n",
    "probs = classifier.predict_proba()\n",
    "scores = probs[:,0]"
   ],
   "metadata": {
    "collapsed": false,
    "pycharm": {
     "name": "#%%\n"
    }
   }
  },
  {
   "cell_type": "code",
   "execution_count": null,
   "outputs": [],
   "source": [
    "image = svg_graph(adjacency, position, names, scores=scores, seeds=[cezanne])\n",
    "SVG(image)"
   ],
   "metadata": {
    "collapsed": false,
    "pycharm": {
     "name": "#%%\n"
    }
   }
  },
  {
   "cell_type": "markdown",
   "source": [
    "## Bipartite graphs"
   ],
   "metadata": {
    "collapsed": false,
    "pycharm": {
     "name": "#%% md\n"
    }
   }
  },
  {
   "cell_type": "code",
   "execution_count": null,
   "outputs": [],
   "source": [
    "graph = movie_actor(metadata=True)\n",
    "biadjacency = graph.biadjacency\n",
    "names_row = graph.names_row\n",
    "names_col = graph.names_col"
   ],
   "metadata": {
    "collapsed": false,
    "pycharm": {
     "name": "#%%\n"
    }
   }
  },
  {
   "cell_type": "code",
   "execution_count": null,
   "outputs": [],
   "source": [
    "inception = 0\n",
    "drive = 3\n",
    "budapest = 8"
   ],
   "metadata": {
    "collapsed": false,
    "pycharm": {
     "name": "#%%\n"
    }
   }
  },
  {
   "cell_type": "code",
   "execution_count": null,
   "outputs": [],
   "source": [
    "labels_row = {inception: 0, drive: 1, budapest: 2}"
   ],
   "metadata": {
    "collapsed": false,
    "pycharm": {
     "name": "#%%\n"
    }
   }
  },
  {
   "cell_type": "code",
   "execution_count": null,
   "outputs": [],
   "source": [
    "classifier = NNClassifier(n_neighbors=2, embedding_method=Spectral(3))\n",
    "classifier.fit(biadjacency, labels_row)\n",
    "labels_row_pred = classifier.labels_row_\n",
    "labels_col_pred = classifier.labels_col_"
   ],
   "metadata": {
    "collapsed": false,
    "pycharm": {
     "name": "#%%\n"
    }
   }
  },
  {
   "cell_type": "code",
   "execution_count": 65,
   "metadata": {
    "pycharm": {
     "name": "#%%\n"
    }
   },
   "outputs": [],
   "source": [
    "inception = 0\n",
    "drive = 3\n",
    "budapest = 8"
   ]
  },
  {
   "cell_type": "code",
   "execution_count": 66,
   "metadata": {
    "pycharm": {
     "name": "#%%\n"
    }
   },
   "outputs": [],
   "source": [
    "labels_row = {inception: 0, drive: 1, budapest: 2}"
   ]
  },
  {
   "cell_type": "code",
   "execution_count": 67,
   "metadata": {
    "pycharm": {
     "name": "#%%\n"
    }
   },
   "outputs": [],
   "source": [
    "classifier = NNClassifier(n_neighbors=2, embedding_method=Spectral(3))\n",
    "classifier.fit(biadjacency, labels_row)\n",
    "labels_row_pred = classifier.labels_row_\n",
    "labels_col_pred = classifier.labels_col_"
   ]
  },
  {
   "cell_type": "code",
   "execution_count": 68,
   "metadata": {
    "pycharm": {
     "name": "#%%\n"
    }
   },
   "outputs": [
    {
     "data": {
      "image/svg+xml": [
       "<svg xmlns=\"http://www.w3.org/2000/svg\" width=\"728.0\" height=\"340\">\n",
       "<path stroke-width=\"1\" stroke=\"black\" d=\"M 188 89 588 140\"/>\n",
       "<path stroke-width=\"1\" stroke=\"black\" d=\"M 188 310 588 120\"/>\n",
       "<path stroke-width=\"1\" stroke=\"black\" d=\"M 188 310 588 100\"/>\n",
       "<path stroke-width=\"1\" stroke=\"black\" d=\"M 188 310 588 240\"/>\n",
       "<path stroke-width=\"1\" stroke=\"black\" d=\"M 188 150 588 140\"/>\n",
       "<path stroke-width=\"1\" stroke=\"black\" d=\"M 188 150 588 120\"/>\n",
       "<path stroke-width=\"1\" stroke=\"black\" d=\"M 188 150 588 100\"/>\n",
       "<path stroke-width=\"1\" stroke=\"black\" d=\"M 188 290 588 300\"/>\n",
       "<path stroke-width=\"1\" stroke=\"black\" d=\"M 188 290 588 280\"/>\n",
       "<path stroke-width=\"1\" stroke=\"black\" d=\"M 188 290 588 260\"/>\n",
       "<path stroke-width=\"1\" stroke=\"black\" d=\"M 188 270 588 320\"/>\n",
       "<path stroke-width=\"1\" stroke=\"black\" d=\"M 188 270 588 300\"/>\n",
       "<path stroke-width=\"1\" stroke=\"black\" d=\"M 188 270 588 260\"/>\n",
       "<path stroke-width=\"1\" stroke=\"black\" d=\"M 188 249 588 59\"/>\n",
       "<path stroke-width=\"1\" stroke=\"black\" d=\"M 188 249 588 300\"/>\n",
       "<path stroke-width=\"1\" stroke=\"black\" d=\"M 188 249 588 240\"/>\n",
       "<path stroke-width=\"1\" stroke=\"black\" d=\"M 188 130 588 100\"/>\n",
       "<path stroke-width=\"1\" stroke=\"black\" d=\"M 188 130 588 79\"/>\n",
       "<path stroke-width=\"1\" stroke=\"black\" d=\"M 188 310 588 280\"/>\n",
       "<path stroke-width=\"1\" stroke=\"black\" d=\"M 188 310 588 300\"/>\n",
       "<path stroke-width=\"1\" stroke=\"black\" d=\"M 188 170 588 160\"/>\n",
       "<path stroke-width=\"1\" stroke=\"black\" d=\"M 188 170 588 220\"/>\n",
       "<path stroke-width=\"1\" stroke=\"black\" d=\"M 188 89 588 59\"/>\n",
       "<path stroke-width=\"1\" stroke=\"black\" d=\"M 188 89 588 40\"/>\n",
       "<path stroke-width=\"1\" stroke=\"black\" d=\"M 188 69 588 59\"/>\n",
       "<path stroke-width=\"1\" stroke=\"black\" d=\"M 188 69 588 40\"/>\n",
       "<path stroke-width=\"1\" stroke=\"black\" d=\"M 188 69 588 220\"/>\n",
       "<path stroke-width=\"1\" stroke=\"black\" d=\"M 188 230 588 220\"/>\n",
       "<path stroke-width=\"1\" stroke=\"black\" d=\"M 188 230 588 200\"/>\n",
       "<path stroke-width=\"1\" stroke=\"black\" d=\"M 188 230 588 320\"/>\n",
       "<path stroke-width=\"1\" stroke=\"black\" d=\"M 188 110 588 120\"/>\n",
       "<path stroke-width=\"1\" stroke=\"black\" d=\"M 188 230 588 160\"/>\n",
       "<path stroke-width=\"1\" stroke=\"black\" d=\"M 188 49 588 20\"/>\n",
       "<path stroke-width=\"1\" stroke=\"black\" d=\"M 188 30 588 140\"/>\n",
       "<path stroke-width=\"1\" stroke=\"black\" d=\"M 188 30 588 20\"/>\n",
       "<path stroke-width=\"1\" stroke=\"black\" d=\"M 188 210 588 200\"/>\n",
       "<path stroke-width=\"1\" stroke=\"black\" d=\"M 188 210 588 180\"/>\n",
       "<path stroke-width=\"1\" stroke=\"black\" d=\"M 188 190 588 200\"/>\n",
       "<path stroke-width=\"1\" stroke=\"black\" d=\"M 188 190 588 180\"/>\n",
       "<path stroke-width=\"1\" stroke=\"black\" d=\"M 188 190 588 160\"/>\n",
       "<path stroke-width=\"1\" stroke=\"black\" d=\"M 188 49 588 200\"/>\n",
       "<path stroke-width=\"1\" stroke=\"black\" d=\"M 188 110 588 79\"/>\n",
       "<circle cx=\"188\" cy=\"89\" r=\"7.0\" style=\"fill:blue;stroke:black;stroke-width:3.0\"/>\n",
       "<circle cx=\"188\" cy=\"69\" r=\"7.0\" style=\"fill:blue;stroke:black;stroke-width:1.0\"/>\n",
       "<circle cx=\"188\" cy=\"230\" r=\"7.0\" style=\"fill:blue;stroke:black;stroke-width:1.0\"/>\n",
       "<circle cx=\"188\" cy=\"49\" r=\"7.0\" style=\"fill:red;stroke:black;stroke-width:3.0\"/>\n",
       "<circle cx=\"188\" cy=\"30\" r=\"7.0\" style=\"fill:blue;stroke:black;stroke-width:1.0\"/>\n",
       "<circle cx=\"188\" cy=\"210\" r=\"7.0\" style=\"fill:red;stroke:black;stroke-width:1.0\"/>\n",
       "<circle cx=\"188\" cy=\"190\" r=\"7.0\" style=\"fill:blue;stroke:black;stroke-width:1.0\"/>\n",
       "<circle cx=\"188\" cy=\"170\" r=\"7.0\" style=\"fill:blue;stroke:black;stroke-width:1.0\"/>\n",
       "<circle cx=\"188\" cy=\"310\" r=\"7.0\" style=\"fill:green;stroke:black;stroke-width:3.0\"/>\n",
       "<circle cx=\"188\" cy=\"150\" r=\"7.0\" style=\"fill:blue;stroke:black;stroke-width:1.0\"/>\n",
       "<circle cx=\"188\" cy=\"290\" r=\"7.0\" style=\"fill:blue;stroke:black;stroke-width:1.0\"/>\n",
       "<circle cx=\"188\" cy=\"270\" r=\"7.0\" style=\"fill:blue;stroke:black;stroke-width:1.0\"/>\n",
       "<circle cx=\"188\" cy=\"249\" r=\"7.0\" style=\"fill:blue;stroke:black;stroke-width:1.0\"/>\n",
       "<circle cx=\"188\" cy=\"130\" r=\"7.0\" style=\"fill:red;stroke:black;stroke-width:1.0\"/>\n",
       "<circle cx=\"188\" cy=\"110\" r=\"7.0\" style=\"fill:red;stroke:black;stroke-width:1.0\"/>\n",
       "<circle cx=\"588\" cy=\"140\" r=\"7.0\" style=\"fill:blue;stroke:black;stroke-width:1.0\"/>\n",
       "<circle cx=\"588\" cy=\"59\" r=\"7.0\" style=\"fill:blue;stroke:black;stroke-width:1.0\"/>\n",
       "<circle cx=\"588\" cy=\"40\" r=\"7.0\" style=\"fill:blue;stroke:black;stroke-width:1.0\"/>\n",
       "<circle cx=\"588\" cy=\"220\" r=\"7.0\" style=\"fill:blue;stroke:black;stroke-width:1.0\"/>\n",
       "<circle cx=\"588\" cy=\"200\" r=\"7.0\" style=\"fill:blue;stroke:black;stroke-width:1.0\"/>\n",
       "<circle cx=\"588\" cy=\"320\" r=\"7.0\" style=\"fill:red;stroke:black;stroke-width:1.0\"/>\n",
       "<circle cx=\"588\" cy=\"20\" r=\"7.0\" style=\"fill:blue;stroke:black;stroke-width:1.0\"/>\n",
       "<circle cx=\"588\" cy=\"180\" r=\"7.0\" style=\"fill:red;stroke:black;stroke-width:1.0\"/>\n",
       "<circle cx=\"588\" cy=\"160\" r=\"7.0\" style=\"fill:blue;stroke:black;stroke-width:1.0\"/>\n",
       "<circle cx=\"588\" cy=\"300\" r=\"7.0\" style=\"fill:blue;stroke:black;stroke-width:1.0\"/>\n",
       "<circle cx=\"588\" cy=\"280\" r=\"7.0\" style=\"fill:blue;stroke:black;stroke-width:1.0\"/>\n",
       "<circle cx=\"588\" cy=\"120\" r=\"7.0\" style=\"fill:red;stroke:black;stroke-width:1.0\"/>\n",
       "<circle cx=\"588\" cy=\"100\" r=\"7.0\" style=\"fill:red;stroke:black;stroke-width:1.0\"/>\n",
       "<circle cx=\"588\" cy=\"260\" r=\"7.0\" style=\"fill:blue;stroke:black;stroke-width:1.0\"/>\n",
       "<circle cx=\"588\" cy=\"79\" r=\"7.0\" style=\"fill:red;stroke:black;stroke-width:1.0\"/>\n",
       "<circle cx=\"588\" cy=\"240\" r=\"7.0\" style=\"fill:blue;stroke:black;stroke-width:1.0\"/>\n",
       "<text text-anchor=\"end\" x=\"178\" y=\"89\" font-size=\"12\">Inception</text><text text-anchor=\"end\" x=\"178\" y=\"69\" font-size=\"12\">The Dark Knight Rises</text><text text-anchor=\"end\" x=\"178\" y=\"230\" font-size=\"12\">The Big Short</text><text text-anchor=\"end\" x=\"178\" y=\"49\" font-size=\"12\">Drive</text><text text-anchor=\"end\" x=\"178\" y=\"30\" font-size=\"12\">The Great Gatsby</text><text text-anchor=\"end\" x=\"178\" y=\"210\" font-size=\"12\">La La Land</text><text text-anchor=\"end\" x=\"178\" y=\"190\" font-size=\"12\">Crazy Stupid Love</text><text text-anchor=\"end\" x=\"178\" y=\"170\" font-size=\"12\">Vice</text><text text-anchor=\"end\" x=\"178\" y=\"310\" font-size=\"12\">The Grand Budapest Hotel</text><text text-anchor=\"end\" x=\"178\" y=\"150\" font-size=\"12\">Aviator</text><text text-anchor=\"end\" x=\"178\" y=\"290\" font-size=\"12\">007 Spectre</text><text text-anchor=\"end\" x=\"178\" y=\"270\" font-size=\"12\">Inglourious Basterds</text><text text-anchor=\"end\" x=\"178\" y=\"249\" font-size=\"12\">Midnight In Paris</text><text text-anchor=\"end\" x=\"178\" y=\"130\" font-size=\"12\">Murder on the Orient Express</text><text text-anchor=\"end\" x=\"178\" y=\"110\" font-size=\"12\">Fantastic Beasts 2</text><text text-anchor=\"start\" x=\"598\" y=\"140\" font-size=\"12\">Leonardo DiCaprio</text><text text-anchor=\"start\" x=\"598\" y=\"59\" font-size=\"12\">Marion Cotillard</text><text text-anchor=\"start\" x=\"598\" y=\"40\" font-size=\"12\">Joseph Gordon Lewitt</text><text text-anchor=\"start\" x=\"598\" y=\"220\" font-size=\"12\">Christian Bale</text><text text-anchor=\"start\" x=\"598\" y=\"200\" font-size=\"12\">Ryan Gosling</text><text text-anchor=\"start\" x=\"598\" y=\"320\" font-size=\"12\">Brad Pitt</text><text text-anchor=\"start\" x=\"598\" y=\"20\" font-size=\"12\">Carey Mulligan</text><text text-anchor=\"start\" x=\"598\" y=\"180\" font-size=\"12\">Emma Stone</text><text text-anchor=\"start\" x=\"598\" y=\"160\" font-size=\"12\">Steve Carell</text><text text-anchor=\"start\" x=\"598\" y=\"300\" font-size=\"12\">Lea Seydoux</text><text text-anchor=\"start\" x=\"598\" y=\"280\" font-size=\"12\">Ralph Fiennes</text><text text-anchor=\"start\" x=\"598\" y=\"120\" font-size=\"12\">Jude Law</text><text text-anchor=\"start\" x=\"598\" y=\"100\" font-size=\"12\">Willem Dafoe</text><text text-anchor=\"start\" x=\"598\" y=\"260\" font-size=\"12\">Christophe Waltz</text><text text-anchor=\"start\" x=\"598\" y=\"79\" font-size=\"12\">Johnny Depp</text><text text-anchor=\"start\" x=\"598\" y=\"240\" font-size=\"12\">Owen Wilson</text></svg>"
      ],
      "text/plain": [
       "<IPython.core.display.SVG object>"
      ]
     },
     "execution_count": 68,
     "metadata": {},
     "output_type": "execute_result"
    }
   ],
   "source": [
    "image = visualize_bigraph(biadjacency, names_row, names_col, labels_row_pred, labels_col_pred, seeds_row=labels_row)\n",
    "SVG(image)"
   ]
  },
  {
   "cell_type": "code",
   "execution_count": 69,
   "metadata": {
    "pycharm": {
     "name": "#%%\n"
    }
   },
   "outputs": [],
   "source": [
    "# probability distribution over labels\n",
    "probs_row = classifier.predict_proba()\n",
    "probs_col = classifier.predict_proba(columns=True)"
   ]
  },
  {
   "cell_type": "code",
   "execution_count": 70,
   "metadata": {
    "pycharm": {
     "name": "#%%\n"
    }
   },
   "outputs": [],
   "source": [
    "scores_row = probs_row[:,1]\n",
    "scores_col = probs_col[:,1]"
   ]
  },
  {
   "cell_type": "code",
   "execution_count": 71,
   "metadata": {
    "pycharm": {
     "name": "#%%\n"
    }
   },
   "outputs": [
    {
     "data": {
      "image/svg+xml": [
       "<svg xmlns=\"http://www.w3.org/2000/svg\" width=\"728.0\" height=\"340\">\n",
       "<path stroke-width=\"1\" stroke=\"black\" d=\"M 188 89 588 140\"/>\n",
       "<path stroke-width=\"1\" stroke=\"black\" d=\"M 188 310 588 120\"/>\n",
       "<path stroke-width=\"1\" stroke=\"black\" d=\"M 188 310 588 100\"/>\n",
       "<path stroke-width=\"1\" stroke=\"black\" d=\"M 188 310 588 240\"/>\n",
       "<path stroke-width=\"1\" stroke=\"black\" d=\"M 188 150 588 140\"/>\n",
       "<path stroke-width=\"1\" stroke=\"black\" d=\"M 188 150 588 120\"/>\n",
       "<path stroke-width=\"1\" stroke=\"black\" d=\"M 188 150 588 100\"/>\n",
       "<path stroke-width=\"1\" stroke=\"black\" d=\"M 188 290 588 300\"/>\n",
       "<path stroke-width=\"1\" stroke=\"black\" d=\"M 188 290 588 280\"/>\n",
       "<path stroke-width=\"1\" stroke=\"black\" d=\"M 188 290 588 260\"/>\n",
       "<path stroke-width=\"1\" stroke=\"black\" d=\"M 188 270 588 320\"/>\n",
       "<path stroke-width=\"1\" stroke=\"black\" d=\"M 188 270 588 300\"/>\n",
       "<path stroke-width=\"1\" stroke=\"black\" d=\"M 188 270 588 260\"/>\n",
       "<path stroke-width=\"1\" stroke=\"black\" d=\"M 188 249 588 59\"/>\n",
       "<path stroke-width=\"1\" stroke=\"black\" d=\"M 188 249 588 300\"/>\n",
       "<path stroke-width=\"1\" stroke=\"black\" d=\"M 188 249 588 240\"/>\n",
       "<path stroke-width=\"1\" stroke=\"black\" d=\"M 188 130 588 100\"/>\n",
       "<path stroke-width=\"1\" stroke=\"black\" d=\"M 188 130 588 79\"/>\n",
       "<path stroke-width=\"1\" stroke=\"black\" d=\"M 188 310 588 280\"/>\n",
       "<path stroke-width=\"1\" stroke=\"black\" d=\"M 188 310 588 300\"/>\n",
       "<path stroke-width=\"1\" stroke=\"black\" d=\"M 188 170 588 160\"/>\n",
       "<path stroke-width=\"1\" stroke=\"black\" d=\"M 188 170 588 220\"/>\n",
       "<path stroke-width=\"1\" stroke=\"black\" d=\"M 188 89 588 59\"/>\n",
       "<path stroke-width=\"1\" stroke=\"black\" d=\"M 188 89 588 40\"/>\n",
       "<path stroke-width=\"1\" stroke=\"black\" d=\"M 188 69 588 59\"/>\n",
       "<path stroke-width=\"1\" stroke=\"black\" d=\"M 188 69 588 40\"/>\n",
       "<path stroke-width=\"1\" stroke=\"black\" d=\"M 188 69 588 220\"/>\n",
       "<path stroke-width=\"1\" stroke=\"black\" d=\"M 188 230 588 220\"/>\n",
       "<path stroke-width=\"1\" stroke=\"black\" d=\"M 188 230 588 200\"/>\n",
       "<path stroke-width=\"1\" stroke=\"black\" d=\"M 188 230 588 320\"/>\n",
       "<path stroke-width=\"1\" stroke=\"black\" d=\"M 188 110 588 120\"/>\n",
       "<path stroke-width=\"1\" stroke=\"black\" d=\"M 188 230 588 160\"/>\n",
       "<path stroke-width=\"1\" stroke=\"black\" d=\"M 188 49 588 20\"/>\n",
       "<path stroke-width=\"1\" stroke=\"black\" d=\"M 188 30 588 140\"/>\n",
       "<path stroke-width=\"1\" stroke=\"black\" d=\"M 188 30 588 20\"/>\n",
       "<path stroke-width=\"1\" stroke=\"black\" d=\"M 188 210 588 200\"/>\n",
       "<path stroke-width=\"1\" stroke=\"black\" d=\"M 188 210 588 180\"/>\n",
       "<path stroke-width=\"1\" stroke=\"black\" d=\"M 188 190 588 200\"/>\n",
       "<path stroke-width=\"1\" stroke=\"black\" d=\"M 188 190 588 180\"/>\n",
       "<path stroke-width=\"1\" stroke=\"black\" d=\"M 188 190 588 160\"/>\n",
       "<path stroke-width=\"1\" stroke=\"black\" d=\"M 188 49 588 200\"/>\n",
       "<path stroke-width=\"1\" stroke=\"black\" d=\"M 188 110 588 79\"/>\n",
       "<circle cx=\"188\" cy=\"89\" r=\"7.0\" style=\"fill:rgb(58, 76, 192);stroke:black;stroke-width:3.0\"/>\n",
       "<circle cx=\"188\" cy=\"69\" r=\"7.0\" style=\"fill:rgb(219, 220, 222);stroke:black;stroke-width:1.0\"/>\n",
       "<circle cx=\"188\" cy=\"230\" r=\"7.0\" style=\"fill:rgb(219, 220, 222);stroke:black;stroke-width:1.0\"/>\n",
       "<circle cx=\"188\" cy=\"49\" r=\"7.0\" style=\"fill:rgb(179, 3, 38);stroke:black;stroke-width:3.0\"/>\n",
       "<circle cx=\"188\" cy=\"30\" r=\"7.0\" style=\"fill:rgb(219, 220, 222);stroke:black;stroke-width:1.0\"/>\n",
       "<circle cx=\"188\" cy=\"210\" r=\"7.0\" style=\"fill:rgb(219, 220, 222);stroke:black;stroke-width:1.0\"/>\n",
       "<circle cx=\"188\" cy=\"190\" r=\"7.0\" style=\"fill:rgb(219, 220, 222);stroke:black;stroke-width:1.0\"/>\n",
       "<circle cx=\"188\" cy=\"170\" r=\"7.0\" style=\"fill:rgb(219, 220, 222);stroke:black;stroke-width:1.0\"/>\n",
       "<circle cx=\"188\" cy=\"310\" r=\"7.0\" style=\"fill:rgb(58, 76, 192);stroke:black;stroke-width:3.0\"/>\n",
       "<circle cx=\"188\" cy=\"150\" r=\"7.0\" style=\"fill:rgb(58, 76, 192);stroke:black;stroke-width:1.0\"/>\n",
       "<circle cx=\"188\" cy=\"290\" r=\"7.0\" style=\"fill:rgb(58, 76, 192);stroke:black;stroke-width:1.0\"/>\n",
       "<circle cx=\"188\" cy=\"270\" r=\"7.0\" style=\"fill:rgb(58, 76, 192);stroke:black;stroke-width:1.0\"/>\n",
       "<circle cx=\"188\" cy=\"249\" r=\"7.0\" style=\"fill:rgb(58, 76, 192);stroke:black;stroke-width:1.0\"/>\n",
       "<circle cx=\"188\" cy=\"130\" r=\"7.0\" style=\"fill:rgb(219, 220, 222);stroke:black;stroke-width:1.0\"/>\n",
       "<circle cx=\"188\" cy=\"110\" r=\"7.0\" style=\"fill:rgb(219, 220, 222);stroke:black;stroke-width:1.0\"/>\n",
       "<circle cx=\"588\" cy=\"140\" r=\"7.0\" style=\"fill:rgb(219, 220, 222);stroke:black;stroke-width:1.0\"/>\n",
       "<circle cx=\"588\" cy=\"59\" r=\"7.0\" style=\"fill:rgb(58, 76, 192);stroke:black;stroke-width:1.0\"/>\n",
       "<circle cx=\"588\" cy=\"40\" r=\"7.0\" style=\"fill:rgb(219, 220, 222);stroke:black;stroke-width:1.0\"/>\n",
       "<circle cx=\"588\" cy=\"220\" r=\"7.0\" style=\"fill:rgb(219, 220, 222);stroke:black;stroke-width:1.0\"/>\n",
       "<circle cx=\"588\" cy=\"200\" r=\"7.0\" style=\"fill:rgb(219, 220, 222);stroke:black;stroke-width:1.0\"/>\n",
       "<circle cx=\"588\" cy=\"320\" r=\"7.0\" style=\"fill:rgb(219, 220, 222);stroke:black;stroke-width:1.0\"/>\n",
       "<circle cx=\"588\" cy=\"20\" r=\"7.0\" style=\"fill:rgb(219, 220, 222);stroke:black;stroke-width:1.0\"/>\n",
       "<circle cx=\"588\" cy=\"180\" r=\"7.0\" style=\"fill:rgb(219, 220, 222);stroke:black;stroke-width:1.0\"/>\n",
       "<circle cx=\"588\" cy=\"160\" r=\"7.0\" style=\"fill:rgb(219, 220, 222);stroke:black;stroke-width:1.0\"/>\n",
       "<circle cx=\"588\" cy=\"300\" r=\"7.0\" style=\"fill:rgb(58, 76, 192);stroke:black;stroke-width:1.0\"/>\n",
       "<circle cx=\"588\" cy=\"280\" r=\"7.0\" style=\"fill:rgb(58, 76, 192);stroke:black;stroke-width:1.0\"/>\n",
       "<circle cx=\"588\" cy=\"120\" r=\"7.0\" style=\"fill:rgb(219, 220, 222);stroke:black;stroke-width:1.0\"/>\n",
       "<circle cx=\"588\" cy=\"100\" r=\"7.0\" style=\"fill:rgb(219, 220, 222);stroke:black;stroke-width:1.0\"/>\n",
       "<circle cx=\"588\" cy=\"260\" r=\"7.0\" style=\"fill:rgb(58, 76, 192);stroke:black;stroke-width:1.0\"/>\n",
       "<circle cx=\"588\" cy=\"79\" r=\"7.0\" style=\"fill:rgb(219, 220, 222);stroke:black;stroke-width:1.0\"/>\n",
       "<circle cx=\"588\" cy=\"240\" r=\"7.0\" style=\"fill:rgb(58, 76, 192);stroke:black;stroke-width:1.0\"/>\n",
       "<text text-anchor=\"end\" x=\"178\" y=\"89\" font-size=\"12\">Inception</text><text text-anchor=\"end\" x=\"178\" y=\"69\" font-size=\"12\">The Dark Knight Rises</text><text text-anchor=\"end\" x=\"178\" y=\"230\" font-size=\"12\">The Big Short</text><text text-anchor=\"end\" x=\"178\" y=\"49\" font-size=\"12\">Drive</text><text text-anchor=\"end\" x=\"178\" y=\"30\" font-size=\"12\">The Great Gatsby</text><text text-anchor=\"end\" x=\"178\" y=\"210\" font-size=\"12\">La La Land</text><text text-anchor=\"end\" x=\"178\" y=\"190\" font-size=\"12\">Crazy Stupid Love</text><text text-anchor=\"end\" x=\"178\" y=\"170\" font-size=\"12\">Vice</text><text text-anchor=\"end\" x=\"178\" y=\"310\" font-size=\"12\">The Grand Budapest Hotel</text><text text-anchor=\"end\" x=\"178\" y=\"150\" font-size=\"12\">Aviator</text><text text-anchor=\"end\" x=\"178\" y=\"290\" font-size=\"12\">007 Spectre</text><text text-anchor=\"end\" x=\"178\" y=\"270\" font-size=\"12\">Inglourious Basterds</text><text text-anchor=\"end\" x=\"178\" y=\"249\" font-size=\"12\">Midnight In Paris</text><text text-anchor=\"end\" x=\"178\" y=\"130\" font-size=\"12\">Murder on the Orient Express</text><text text-anchor=\"end\" x=\"178\" y=\"110\" font-size=\"12\">Fantastic Beasts 2</text><text text-anchor=\"start\" x=\"598\" y=\"140\" font-size=\"12\">Leonardo DiCaprio</text><text text-anchor=\"start\" x=\"598\" y=\"59\" font-size=\"12\">Marion Cotillard</text><text text-anchor=\"start\" x=\"598\" y=\"40\" font-size=\"12\">Joseph Gordon Lewitt</text><text text-anchor=\"start\" x=\"598\" y=\"220\" font-size=\"12\">Christian Bale</text><text text-anchor=\"start\" x=\"598\" y=\"200\" font-size=\"12\">Ryan Gosling</text><text text-anchor=\"start\" x=\"598\" y=\"320\" font-size=\"12\">Brad Pitt</text><text text-anchor=\"start\" x=\"598\" y=\"20\" font-size=\"12\">Carey Mulligan</text><text text-anchor=\"start\" x=\"598\" y=\"180\" font-size=\"12\">Emma Stone</text><text text-anchor=\"start\" x=\"598\" y=\"160\" font-size=\"12\">Steve Carell</text><text text-anchor=\"start\" x=\"598\" y=\"300\" font-size=\"12\">Lea Seydoux</text><text text-anchor=\"start\" x=\"598\" y=\"280\" font-size=\"12\">Ralph Fiennes</text><text text-anchor=\"start\" x=\"598\" y=\"120\" font-size=\"12\">Jude Law</text><text text-anchor=\"start\" x=\"598\" y=\"100\" font-size=\"12\">Willem Dafoe</text><text text-anchor=\"start\" x=\"598\" y=\"260\" font-size=\"12\">Christophe Waltz</text><text text-anchor=\"start\" x=\"598\" y=\"79\" font-size=\"12\">Johnny Depp</text><text text-anchor=\"start\" x=\"598\" y=\"240\" font-size=\"12\">Owen Wilson</text></svg>"
      ],
      "text/plain": [
       "<IPython.core.display.SVG object>"
      ]
     },
     "execution_count": 71,
     "metadata": {},
     "output_type": "execute_result"
    }
   ],
   "source": [
    "image = visualize_bigraph(biadjacency, names_row, names_col, scores_row=scores_row, scores_col=scores_col,\n",
    "                    seeds_row=labels_row)\n",
    "SVG(image)\n"
   ]
  }
 ],
 "metadata": {
  "kernelspec": {
   "display_name": "Python 3 (ipykernel)",
   "language": "python",
   "name": "python3"
  },
  "language_info": {
   "codemirror_mode": {
    "name": "ipython",
    "version": 3
   },
   "file_extension": ".py",
   "mimetype": "text/x-python",
   "name": "python",
   "nbconvert_exporter": "python",
   "pygments_lexer": "ipython3",
   "version": "3.9.13"
  },
  "pycharm": {
   "stem_cell": {
    "cell_type": "raw",
    "metadata": {
     "collapsed": false
    },
    "source": []
   }
  },
  "toc": {
   "base_numbering": 1,
   "nav_menu": {},
   "number_sections": true,
   "sideBar": true,
   "skip_h1_title": false,
   "title_cell": "Table of Contents",
   "title_sidebar": "Contents",
   "toc_cell": false,
   "toc_position": {},
   "toc_section_display": true,
   "toc_window_display": false
  }
 },
 "nbformat": 4,
 "nbformat_minor": 2
}
